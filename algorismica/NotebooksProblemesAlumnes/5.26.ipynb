{
 "cells": [
  {
   "cell_type": "markdown",
   "metadata": {
    "id": "02MOhpfxjbqP"
   },
   "source": [
    "# Capítol 5 - Dividir i Vèncer"
   ]
  },
  {
   "cell_type": "markdown",
   "metadata": {
    "id": "apHdQ2Lwjbqc"
   },
   "source": [
    "### 5.26 Nombre majoritari\n",
    "Donada una llista amb n elements, realitza un algorisme que indiqui **si hi ha un element majoritari** i en cas afirmatiu, quin és. No es pot pressuposar que els elements estiguin ordenats. Un element és majoritari si apareix **estrictament més de n/2 vegades**, on n és la longitud de la llista. El cost de l'algoritme no pot superar **nlogn**."
   ]
  },
  {
   "cell_type": "code",
   "execution_count": 3,
   "metadata": {
    "ExecuteTime": {
     "end_time": "2022-12-03T17:02:51.065881Z",
     "start_time": "2022-12-03T17:02:51.052852Z"
    },
    "id": "VQDcKJncjbqc"
   },
   "outputs": [],
   "source": [
    "def nombre_majoritari_rec(llista):\n",
    "    \"\"\"\n",
    "    Aquesta funció retorna el nombre majoritari donada una llista, si el troba. Sinó, retorna None\n",
    "    \n",
    "    Parameters\n",
    "    ----------\n",
    "    llista: list\n",
    "    \n",
    "    Returns\n",
    "    -------\n",
    "    majoritari:int, None\n",
    "    \"\"\"\n",
    "    "
   ]
  },
  {
   "cell_type": "code",
   "execution_count": 4,
   "metadata": {
    "ExecuteTime": {
     "end_time": "2022-12-03T17:02:51.204681Z",
     "start_time": "2022-12-03T17:02:51.194714Z"
    }
   },
   "outputs": [],
   "source": [
    "assert nombre_majoritari_rec([1,3,5,-1,4,4,4,4,4]) == 4\n",
    "assert nombre_majoritari_rec([1,1,1,7,3,5,4,2,1,1]) == None"
   ]
  },
  {
   "cell_type": "code",
   "execution_count": null,
   "metadata": {},
   "outputs": [],
   "source": []
  }
 ],
 "metadata": {
  "colab": {
   "collapsed_sections": [],
   "name": "5.11.ipynb",
   "provenance": []
  },
  "kernelspec": {
   "display_name": "Python 3 (ipykernel)",
   "language": "python",
   "name": "python3"
  },
  "language_info": {
   "codemirror_mode": {
    "name": "ipython",
    "version": 3
   },
   "file_extension": ".py",
   "mimetype": "text/x-python",
   "name": "python",
   "nbconvert_exporter": "python",
   "pygments_lexer": "ipython3",
   "version": "3.9.12"
  },
  "toc": {
   "base_numbering": 1,
   "nav_menu": {},
   "number_sections": true,
   "sideBar": true,
   "skip_h1_title": false,
   "title_cell": "Table of Contents",
   "title_sidebar": "Contents",
   "toc_cell": false,
   "toc_position": {},
   "toc_section_display": true,
   "toc_window_display": false
  }
 },
 "nbformat": 4,
 "nbformat_minor": 1
}
