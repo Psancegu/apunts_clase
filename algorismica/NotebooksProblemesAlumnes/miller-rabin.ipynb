{
 "cells": [
  {
   "cell_type": "markdown",
   "id": "needed-blair",
   "metadata": {},
   "source": [
    "## Test de primalitat de Miller-Rabin"
   ]
  },
  {
   "cell_type": "markdown",
   "id": "9990a403",
   "metadata": {},
   "source": [
    "Implementa el test de primalitat de Miller-Rabin. Pots trobar la informació de l'algorisme aquí: https://ca.wikipedia.org/wiki/Test_de_primalitat_de_Miller-Rabin"
   ]
  },
  {
   "cell_type": "code",
   "execution_count": 3,
   "id": "attempted-cabinet",
   "metadata": {},
   "outputs": [],
   "source": [
    "import random"
   ]
  },
  {
   "cell_type": "code",
   "execution_count": 4,
   "id": "posted-settle",
   "metadata": {},
   "outputs": [],
   "source": [
    "def miller_rabin(n, k):\n",
    "    '''\n",
    "    Retorna True si n és primer segons el test de primalitat. False\n",
    "    en cas contrari\n",
    "    '''\n",
    "    return True"
   ]
  }
 ],
 "metadata": {
  "kernelspec": {
   "display_name": "Python 3 (ipykernel)",
   "language": "python",
   "name": "python3"
  },
  "language_info": {
   "codemirror_mode": {
    "name": "ipython",
    "version": 3
   },
   "file_extension": ".py",
   "mimetype": "text/x-python",
   "name": "python",
   "nbconvert_exporter": "python",
   "pygments_lexer": "ipython3",
   "version": "3.9.7"
  }
 },
 "nbformat": 4,
 "nbformat_minor": 5
}
