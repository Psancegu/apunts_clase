{
 "cells": [
  {
   "cell_type": "markdown",
   "metadata": {
    "id": "_FgDcqdYOBF4"
   },
   "source": [
    "# Capítol 2 - Algorismes bàsics de Python"
   ]
  },
  {
   "cell_type": "markdown",
   "metadata": {
    "id": "1SsF8yNtOBGI"
   },
   "source": [
    "### 2.10 Sumatori de Parelles"
   ]
  },
  {
   "cell_type": "markdown",
   "metadata": {},
   "source": [
    "Donada una llista d'enters i un valor de suma, troba, de la manera més\n",
    "eficient possible, totes les parelles de nombres a la llista que sumin aquest\n",
    "valor. L'algorisme pot tenir una complexitat d'ordre $\\mathcal{O}(n^2)$ o menys, però el cost exacte ha de ser menor que $n^2$."
   ]
  },
  {
   "cell_type": "markdown",
   "metadata": {},
   "source": [
    "<div style=\"background-color:rgba(0, 0, 0, 0.2); text-align:left; vertical-align: middle;  border-radius:10px\">\n",
    "    <div style=\"padding: 20px\">\n",
    "    <h3>Correcció d'errates: </h3>\n",
    "        <p>L’enunciat diu \"L’algorisme pot tenir una complexitat d’ordre $\\mathcal{O}(n^2)$ però el cost exacte ha de ser menor que $n^2$.\". Una millor manera de dir-ho seria: “L’algorisme pot tenir una complexitat d’ordre $\\mathcal{O}(n^2)$ o menys” ja que es pot resoldre amb complexitat menor que $n^2$.</p>\n",
    "    </div>\n",
    "</div>"
   ]
  },
  {
   "cell_type": "code",
   "execution_count": 10,
   "metadata": {
    "id": "13mdkQbVOBGI"
   },
   "outputs": [
    {
     "data": {
      "text/plain": [
       "[(8, 12), (7, 13), (6, 14), (9, 11), (0, 20)]"
      ]
     },
     "execution_count": 10,
     "metadata": {},
     "output_type": "execute_result"
    }
   ],
   "source": [
    "def sumatori_parelles(llista, valorSuma):\n",
    "    resultats = []\n",
    "    for i in range(0,len(llista)-1):\n",
    "        for j in range(i+1, len(llista)):\n",
    "            if llista[i] + llista[j] == valorSuma:\n",
    "                if llista[i] < llista[j]:\n",
    "                    resultats.append((llista[i], llista[j]))\n",
    "                else:\n",
    "                    resultats.append((llista[j], llista[i]))\n",
    "            else:\n",
    "                continue\n",
    "    return resultats\n",
    "    \"\"\"\n",
    "    Aquesta funció trobat totes les parelles de nombres que sumin el valor.\n",
    "    \n",
    "    Parameters\n",
    "    ----------\n",
    "    llista: list\n",
    "        La llista d'enters\n",
    "    valorSuma: int\n",
    "        valor que \n",
    "    \n",
    "    Returns\n",
    "    -------\n",
    "    parelles: list\n",
    "        Una llista de parelles la suma de la qual és igual a valorSuma.\n",
    "        Les parelles no s'han de repetir a la llista i el primer element de\n",
    "        la parella serà el que tingui valor més baix.\n",
    "    \"\"\"\n",
    "sumatori_parelles([4,12,7,6,1,3,2,9,11,5,8,20,13,0,14],20)  "
   ]
  },
  {
   "cell_type": "code",
   "execution_count": 11,
   "metadata": {
    "id": "E-q3_SwzOBGI"
   },
   "outputs": [],
   "source": [
    "assert set(sumatori_parelles([3, 1, 5, 2, 7, 8], 10))  == set([(2, 8), (3, 7)])\n",
    "assert set(sumatori_parelles([4,12,7,6,1,3,2,9,11,5,8,20,13,0,14],20)) == set([(0, 20), (6, 14), (7, 13), (8, 12), (9, 11)])"
   ]
  }
 ],
 "metadata": {
  "colab": {
   "collapsed_sections": [],
   "name": "2.10.ipynb",
   "provenance": []
  },
  "kernelspec": {
   "display_name": "Python 3",
   "language": "python",
   "name": "python3"
  },
  "language_info": {
   "codemirror_mode": {
    "name": "ipython",
    "version": 3
   },
   "file_extension": ".py",
   "mimetype": "text/x-python",
   "name": "python",
   "nbconvert_exporter": "python",
   "pygments_lexer": "ipython3",
   "version": "3.11.2"
  },
  "vscode": {
   "interpreter": {
    "hash": "b7d5521a80c2c370047c8b3946d4b51cbe9eac44fad1075e96f476b66b4a61cb"
   }
  }
 },
 "nbformat": 4,
 "nbformat_minor": 4
}
