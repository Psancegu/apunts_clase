{
 "cells": [
  {
   "cell_type": "markdown",
   "metadata": {},
   "source": [
    "# Problema dels Nombres Primers"
   ]
  },
  {
   "cell_type": "markdown",
   "metadata": {},
   "source": [
    "## Solució Eratóstenes"
   ]
  },
  {
   "cell_type": "code",
   "execution_count": 4,
   "metadata": {},
   "outputs": [
    {
     "name": "stdout",
     "output_type": "stream",
     "text": [
      "[3, 5, 9]\n"
     ]
    }
   ],
   "source": [
    "import math\n",
    "\n",
    "def primers(n):\n",
    "    sieve = [True for j in range (2, n+1)]\n",
    "    for j in range(2, int(math.sqrt(n))+1):\n",
    "        i = j-2\n",
    "        if sieve[i]:\n",
    "            for k in range(i+j, n+1, j):\n",
    "                sieve[k-2] = False\n",
    "    return [j for j in range(2, n+1) if sieve[j-2]]"
   ]
  },
  {
   "cell_type": "markdown",
   "metadata": {},
   "source": [
    "## Solució Pol"
   ]
  },
  {
   "cell_type": "code",
   "execution_count": 23,
   "metadata": {},
   "outputs": [
    {
     "data": {
      "text/plain": [
       "[2, 3, 5, 7, 9, 11, 13, 15, 17, 19]"
      ]
     },
     "execution_count": 23,
     "metadata": {},
     "output_type": "execute_result"
    }
   ],
   "source": [
    "def main(num):\n",
    "    llista = list(range(2,num+1))\n",
    "    indexed = llista[0]\n",
    "    for i in llista[1:]:\n",
    "        if i % 2 == 0:\n",
    "            llista.remove(i)\n",
    "        else: continue\n",
    "    \n",
    "   \n",
    "   \n",
    "   \n",
    " \"\"\"  \n",
    "    for i in llista[1:]:\n",
    "        if i % 2 == 0:\n",
    "            llista.remove(i)\n",
    "        else: continue\n",
    "    for i in llista:\n",
    "        if pow(i, 2) in llista:\n",
    "            if i % indexed == 0:\n",
    "                llista.remove(i)\n",
    "        else:\n",
    "            continue\n",
    "\n",
    "\"\"\"\n",
    "                \n",
    "    \n",
    "    return llista\n",
    "\n",
    "main(20)\n"
   ]
  }
 ],
 "metadata": {
  "kernelspec": {
   "display_name": "Python 3",
   "language": "python",
   "name": "python3"
  },
  "language_info": {
   "codemirror_mode": {
    "name": "ipython",
    "version": 3
   },
   "file_extension": ".py",
   "mimetype": "text/x-python",
   "name": "python",
   "nbconvert_exporter": "python",
   "pygments_lexer": "ipython3",
   "version": "3.12.3"
  }
 },
 "nbformat": 4,
 "nbformat_minor": 2
}
