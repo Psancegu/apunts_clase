{
 "cells": [
  {
   "cell_type": "markdown",
   "metadata": {
    "id": "KZxjqdoy-ka5"
   },
   "source": [
    "<div id=\"capcalera\">\n",
    "    \n",
    "<p>Aquest notebook forma part dels continguts teòrics dels problemes de l'assignatura d'<strong>Algorísmica</strong> del Grau d'Enginyeria Informàtica a la <a href=\"https://mat.ub.edu\">Facultat de Matemàtiques i Informàtica</a> de la <a href=\"https://www.ub.edu\">Universitat de Barcelona</a></p>\n",
    "\n",
    "<p>Els problemes s'ofereixen sota llicència <a href=\"https://creativecommons.org/licenses/by-nc-nd/3.0/us/legalcode\">CC-BY-NC-ND license</a>, i el codi sota <a href=\"https://opensource.org/licenses/MIT\">Llicència MIT</a>.</p>\n",
    "\n",
    "</div>"
   ]
  },
  {
   "cell_type": "markdown",
   "metadata": {
    "id": "fARDM9qA-ka8"
   },
   "source": [
    "# <span class=\"tema\">(Bàsics Python)</span> Control"
   ]
  },
  {
   "cell_type": "markdown",
   "metadata": {
    "id": "r5bjKzTN-ka8"
   },
   "source": [
    "Les solucions a aquests exercicis són al fitxer BasicsControl-Solucio.ipynb"
   ]
  },
  {
   "cell_type": "markdown",
   "metadata": {
    "id": "8klLSrTi-ka9"
   },
   "source": [
    "<p class=\"exercici\">Exercici 1: Mínim i màxim</p>\n",
    "\n",
    "Escriu un programa que demani un número a l'usuari repetidament fins que aquest introdueixi -99. Quan hagi acabat d'introduir els números mostra per pantalla el mínim i el màxim de la llista.\n",
    "\n",
    "Exemple:\n",
    "\n",
    "    Introdueix un número: 7\n",
    "    Introdueix un número: 6\n",
    "    Introdueix un número: -1\n",
    "    Introdueix un número: -99\n",
    "    \n",
    "El número màxim introduit és el 7 i el  mínim el -1\n",
    "\n",
    "    \n",
    "Font: Adaptat de [Python for Everybody / Charles Severance](https://books.trinket.io/pfe/index.html)"
   ]
  },
  {
   "cell_type": "markdown",
   "metadata": {
    "id": "sLKCmEII-ka-"
   },
   "source": [
    "<p class=\"exercici\">Exercici 2: Random</p>\n",
    "\n",
    "Escriu un programa en el que donades una seqüència de lletres com a cadena i un número n, retorna una cadena de llargada n formada per caràcters aleatoris de la seqüència de lleltres.\n",
    "\n",
    "Exemple:\n",
    "\n",
    "    aleatori('acgt', 10)\n",
    "    gactggtcag\n",
    "    \n",
    "Font: Adaptat de [Python praktikum / Alessandro Mammana](https://www.molgen.mpg.de/3372238/python_praesentation.pdf)"
   ]
  },
  {
   "cell_type": "markdown",
   "metadata": {
    "id": "dMLa8etj-ka-"
   },
   "source": [
    "<p class=\"exercici\">Exercici 3: Nombres narcisistes</p>\n",
    "\n",
    "Escriu un programa que verifiqui si un nombre és narcisista. Diem que un nombre és narcisista si és la suma dels seus dígits, cadascun elevat a la potència del nombre de dígits que té.\n",
    "\n",
    "Exemple: 153 és narcisista perquè\n",
    "    $153 = 1^3 + 5^3 + 3^3 = 1 + 125 + 27$\n",
    "    \n",
    "Font: Adaptat de [Checking for Narcissism in Numbers / Vanessa Osuka](https://code.likeagirl.io/algorithm-part-1-checking-for-narcissism-of-a-number-python-cbea596b2790)"
   ]
  },
  {
   "cell_type": "markdown",
   "metadata": {
    "id": "JBoWIaXb-ka_"
   },
   "source": [
    "<p class=\"exercici\">Exercici 4: Pedra, paper, tisores</p>\n",
    "\n",
    "Escriu una funcio que permeti a dos jugadors jugar al Pedra-Paper-Tisores. Recorda que:\n",
    "+ La pedra guanya les tisores\n",
    "+ Les tisores guanyen el paper\n",
    "+ El paper guanya la pedra\n",
    "\n",
    "Font: Adaptat de [Practice Python. Beginner Python exercises / Michele Pratusevich](http://www.practicepython.org)"
   ]
  },
  {
   "cell_type": "markdown",
   "metadata": {
    "id": "3sEn7jJR-kbA"
   },
   "source": [
    "<p class=\"exercici\">Exercici 5: Endevina el nombre</p>\n",
    "\n",
    "Genera un nombre aleatori entre 1 i 9 (inclosos). Demana a l'usuari que l'encerti, i digues-li si ha dit un nombre massa petit, massa gran o l'ha encertat. Segueix fins que l'usuari entri el nombre 'exit', i emmagatzema el nombre d'intents de l'usuari, que mostraràs al finalitzar.\n",
    "\n",
    "Font: Adaptat de [Practice Python. Beginner Python exercises / Michele Pratusevich](http://www.practicepython.org)"
   ]
  }
 ],
 "metadata": {
  "colab": {
   "name": "BasicsControl.ipynb",
   "provenance": []
  },
  "kernelspec": {
   "display_name": "Python 3 (ipykernel)",
   "language": "python",
   "name": "python3"
  },
  "language_info": {
   "codemirror_mode": {
    "name": "ipython",
    "version": 3
   },
   "file_extension": ".py",
   "mimetype": "text/x-python",
   "name": "python",
   "nbconvert_exporter": "python",
   "pygments_lexer": "ipython3",
   "version": "3.9.7"
  }
 },
 "nbformat": 4,
 "nbformat_minor": 1
}
