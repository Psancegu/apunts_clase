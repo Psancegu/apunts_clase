{
 "cells": [
  {
   "cell_type": "markdown",
   "metadata": {
    "id": "02MOhpfxjbqP"
   },
   "source": [
    "# Capítol 5 - Dividir i Vèncer"
   ]
  },
  {
   "cell_type": "markdown",
   "metadata": {
    "id": "apHdQ2Lwjbqc"
   },
   "source": [
    "### 5.11 Element pic"
   ]
  },
  {
   "cell_type": "markdown",
   "metadata": {},
   "source": [
    "Donada una llista d'enters en què no trobem dos elements consecutius del mateix valor, fes un programa que trobi, si existeix, un dels seus **elements pic**. Diem que un enter de la llista és un element pic si els seus veïns immediats són menors que ell. \n",
    "\n",
    "Cal que la solució tingui complexitat log(n), on n es la mida de la llista."
   ]
  },
  {
   "cell_type": "code",
   "execution_count": null,
   "metadata": {
    "id": "VQDcKJncjbqc"
   },
   "outputs": [],
   "source": [
    "def elements_pic(llista):\n",
    "    \"\"\"\n",
    "    Aquesta funció retorna l'element d'una llista\n",
    "    \n",
    "    Parameters\n",
    "    ----------\n",
    "    llista: list\n",
    "    \n",
    "    Returns\n",
    "    -------\n",
    "    posicio:int\n",
    "    \"\"\"\n",
    "\n",
    "    return posicio"
   ]
  },
  {
   "cell_type": "code",
   "execution_count": null,
   "metadata": {
    "id": "f5G46sbNjbqc"
   },
   "outputs": [],
   "source": [
    "assert elements_pic([3, 1, 5, 2, 7, 8]) in [3,5,8]\n",
    "assert elements_pic([9, 5, 2]) == 9\n",
    "assert elements_pic([1, 2, 7, 8]) == 8"
   ]
  }
 ],
 "metadata": {
  "colab": {
   "collapsed_sections": [],
   "name": "5.11.ipynb",
   "provenance": []
  },
  "kernelspec": {
   "display_name": "Python 3 (ipykernel)",
   "language": "python",
   "name": "python3"
  },
  "language_info": {
   "codemirror_mode": {
    "name": "ipython",
    "version": 3
   },
   "file_extension": ".py",
   "mimetype": "text/x-python",
   "name": "python",
   "nbconvert_exporter": "python",
   "pygments_lexer": "ipython3",
   "version": "3.9.13"
  }
 },
 "nbformat": 4,
 "nbformat_minor": 1
}
