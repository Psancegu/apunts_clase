{
 "cells": [
  {
   "cell_type": "markdown",
   "metadata": {
    "id": "uUH_vwd8g30H"
   },
   "source": [
    "# Capítol 5 - Dividir i Vèncer"
   ]
  },
  {
   "cell_type": "markdown",
   "metadata": {
    "id": "oaygUdL7g30T"
   },
   "source": [
    "### 5.8 Rotacions"
   ]
  },
  {
   "cell_type": "markdown",
   "metadata": {},
   "source": [
    "Donada una llista ordenada de nombres enters, definim una **rotació** com l'operació de moure elmeents del final de la llista al principi. Escriu una funció que, donada una llista, calculi quantes rotacions s'han aplicat prèviament. Podem assumir que la llista no conté cap element duplicat."
   ]
  },
  {
   "cell_type": "code",
   "execution_count": null,
   "metadata": {
    "id": "QUsXYGZ5g30U"
   },
   "outputs": [
    {
     "name": "stdout",
     "output_type": "stream",
     "text": [
      "5\n"
     ]
    }
   ],
   "source": [
    "def rotacions(llista):\n",
    "\n",
    "    binsearch(llista, llista[-1])\n",
    "\n",
    "def binsearch(nums, K):\n",
    "    low = 0\n",
    "    high = len(nums)-1\n",
    "    while low <= high:                     \n",
    "        mid = (low + high) // 2       \n",
    "        if nums[mid] > K: high = mid - 1\n",
    "        elif nums[mid] < K: low = mid + 1\n",
    "        else: return mid                           \n",
    "    return -1\n",
    "    \"\"\"\n",
    "    Aquesta funció troba quantes rotacions s'han fet a la llista.\n",
    "    \n",
    "    Parameters\n",
    "    ----------\n",
    "    llista: list\n",
    "\n",
    "    Returns\n",
    "    -------\n",
    "    numRotacions: int\n",
    "    \"\"\"\n",
    "print(rotacions([9, 10, 2, 5, 6, 8]))"
   ]
  },
  {
   "cell_type": "code",
   "execution_count": 9,
   "metadata": {},
   "outputs": [],
   "source": [
    "def rotacions(llista):\n",
    "    print()\n",
    "def bin_search(x,nums, left, right):\n",
    "    mid = (left +right)//2\n",
    "    print(nums,x,left, mid, right)\n",
    "\n",
    "    if left + 1 >= right:\n",
    "        if nums[mid] > x:\n",
    "            return mid +1\n",
    "        else:\n",
    "            return mid\n",
    "    \n",
    "    if nums[mid] > x:\n",
    "        return bin_search(x,nums, left, mid)\n",
    "    else:\n",
    "        return bin_search(x,nums, mid+1 ,right)\n",
    "    "
   ]
  },
  {
   "cell_type": "code",
   "execution_count": 6,
   "metadata": {
    "id": "mjUyS4L0g30U"
   },
   "outputs": [
    {
     "ename": "AssertionError",
     "evalue": "",
     "output_type": "error",
     "traceback": [
      "\u001b[0;31m---------------------------------------------------------------------------\u001b[0m",
      "\u001b[0;31mAssertionError\u001b[0m                            Traceback (most recent call last)",
      "Cell \u001b[0;32mIn[6], line 1\u001b[0m\n\u001b[0;32m----> 1\u001b[0m \u001b[38;5;28;01massert\u001b[39;00m rotacions([\u001b[38;5;241m9\u001b[39m, \u001b[38;5;241m10\u001b[39m, \u001b[38;5;241m2\u001b[39m, \u001b[38;5;241m5\u001b[39m, \u001b[38;5;241m6\u001b[39m, \u001b[38;5;241m8\u001b[39m]) \u001b[38;5;241m==\u001b[39m \u001b[38;5;241m2\u001b[39m\n\u001b[1;32m      2\u001b[0m \u001b[38;5;28;01massert\u001b[39;00m rotacions([\u001b[38;5;241m3\u001b[39m, \u001b[38;5;241m5\u001b[39m, \u001b[38;5;241m10\u001b[39m, \u001b[38;5;241m12\u001b[39m, \u001b[38;5;241m1\u001b[39m, \u001b[38;5;241m2\u001b[39m]) \u001b[38;5;241m==\u001b[39m \u001b[38;5;241m4\u001b[39m\n\u001b[1;32m      3\u001b[0m \u001b[38;5;28;01massert\u001b[39;00m rotacions([\u001b[38;5;241m20\u001b[39m, \u001b[38;5;241m2\u001b[39m, \u001b[38;5;241m3\u001b[39m, \u001b[38;5;241m7\u001b[39m, \u001b[38;5;241m15\u001b[39m, \u001b[38;5;241m18\u001b[39m]) \u001b[38;5;241m==\u001b[39m \u001b[38;5;241m1\u001b[39m\n",
      "\u001b[0;31mAssertionError\u001b[0m: "
     ]
    }
   ],
   "source": [
    "assert rotacions([9, 10, 2, 5, 6, 8]) == 2\n",
    "assert rotacions([3, 5, 10, 12, 1, 2]) == 4\n",
    "assert rotacions([20, 2, 3, 7, 15, 18]) == 1"
   ]
  }
 ],
 "metadata": {
  "colab": {
   "collapsed_sections": [],
   "name": "5.8.ipynb",
   "provenance": []
  },
  "kernelspec": {
   "display_name": "Python 3",
   "language": "python",
   "name": "python3"
  },
  "language_info": {
   "codemirror_mode": {
    "name": "ipython",
    "version": 3
   },
   "file_extension": ".py",
   "mimetype": "text/x-python",
   "name": "python",
   "nbconvert_exporter": "python",
   "pygments_lexer": "ipython3",
   "version": "3.12.3"
  }
 },
 "nbformat": 4,
 "nbformat_minor": 1
}
