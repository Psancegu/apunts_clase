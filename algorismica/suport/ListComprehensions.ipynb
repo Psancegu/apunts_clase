{
 "cells": [
  {
   "cell_type": "markdown",
   "metadata": {
    "id": "0gquUm80AhuL"
   },
   "source": [
    "<div id=\"capcalera\">\n",
    "<p >Aquest notebook complementa els continguts teòrics de l'assignatura d'<strong>Algorísmica</strong> del Grau d'Enginyeria Informàtica a la <a href=\"https://mat.ub.edu\">Facultat de Matemàtiques i Informàtica</a> de la <a href=\"https://www.ub.edu\">Universitat de Barcelona</a></p>\n",
    "\n",
    "<p>Els problemes s'ofereixen sota llicència <a href=\"https://creativecommons.org/licenses/by-nc-nd/3.0/us/legalcode\">CC-BY-NC-ND license</a>, i el codi sota <a href=\"https://opensource.org/licenses/MIT\">Llicència MIT</a>.</p>\n",
    "\n",
    "</div>"
   ]
  },
  {
   "cell_type": "markdown",
   "metadata": {
    "id": "H7BKq9ICAhuP"
   },
   "source": [
    "# <span class=\"tema\">( Continguts teòrics)</span> List comprehensions"
   ]
  },
  {
   "cell_type": "markdown",
   "metadata": {
    "id": "Sjmi8XDJAhuP"
   },
   "source": [
    "## List comprehensions\n",
    "\n",
    "Per crear llistes de manera molt eficient, podem usar les list comprehensions."
   ]
  },
  {
   "cell_type": "code",
   "execution_count": null,
   "metadata": {
    "id": "KMvE3dvAAhuQ",
    "outputId": "06907134-94ca-4cd6-9ebc-792728d3ee74"
   },
   "outputs": [
    {
     "name": "stdout",
     "output_type": "stream",
     "text": [
      "[0, 1, 4, 9, 16, 25, 36, 49, 64, 81]\n",
      "[0, 1, 4, 9, 16, 25, 36, 49, 64, 81]\n"
     ]
    }
   ],
   "source": [
    "# Exemple de creació de la llista dels quadrats de 1 a 10 a la manera clàssica\n",
    "quadrats = []\n",
    "for x in range(10):\n",
    "    quadrats.append(x ** 2)\n",
    "print(quadrats)\n",
    "\n",
    "# Exemple de creació de la llista de quadrats de 1 a 10 amb list comprehensions\n",
    "quadrats2 = [x ** 2 for x in range(10)] # primer indiquem l'expressió que anirà omplint la llista, després el rang de valors \n",
    "                                    # i podem posteriorment indicar altres rangs o condicions\n",
    "print(quadrats2)\n",
    "\n",
    "#Tot i que la complexitat és la mateixa, la segona instrucció s'executa més ràpidament i amb menys recursos que la primera"
   ]
  },
  {
   "cell_type": "code",
   "execution_count": null,
   "metadata": {
    "id": "nWhsM3x1AhuS"
   },
   "outputs": [],
   "source": [
    "# Exemple 1: Traducció a list comprehension de la següent estructura\n",
    "\n",
    "combinacions=[]\n",
    "for x in [1, 2, 3]:\n",
    "    for y in [3, 1, 4]:\n",
    "        if x != y:\n",
    "            combinacions.append((x, y))\n",
    "print(combinacions)\n",
    "\n",
    "# combinacions2 = [ expressió que ha d'omplir la llista for més extern, for segon més extern, if]\n",
    "\n",
    "combinacions2 = [(x, y) for x in [1, 2, 3] for y in [3, 1, 4] if x != y]\n",
    "print(combinacions2)"
   ]
  },
  {
   "cell_type": "markdown",
   "metadata": {
    "id": "L_qIoRDwAhuS"
   },
   "source": [
    "Les comprehensions de les llistes són una eina per transformar una llista (qualsevol iterable en realitat) en una altra llista. Durant aquesta transformació, els elements es poden incloure de manera condicional a la nova llista i cada element es pot transformar segons sigui necessari.\n",
    "\n",
    "Cada comprehension es pot reescriure com un bucle sobre la lista, però no tot bucle es pot reescriure com a list comprehension.\n",
    "\n",
    "Començant pel cas més senzill, una list comprehension com aquesta:\n",
    "\n",
    "```python\n",
    "a = [func(element) for element in sequence]\n",
    "```\n",
    "\n",
    "és equivalent a:\n",
    "\n",
    "```python\n",
    "a = []\n",
    "for element in sequence:\n",
    "    a.append(func(element))\n",
    "```\n",
    "\n",
    "De la mateixa manera que podeu afegir `for` addicionals als bucles i condicions `if` dins dels bucles, també podeu afegir-les a la comprensió.\n",
    "\n",
    "La clau a entendre és que l'ordre d'esquerra a dreta en la comprehennsion assigna el mateix ordre als bucles explícits:\n",
    "\n",
    "```python\n",
    "a = [func(element) for subseq in seq2d for element in subseq if pred(element)]\n",
    "\n",
    "a = []\n",
    "for subseq in seq2d:\n",
    "    for element in subseq:\n",
    "        if pred(element):\n",
    "            a.append(func(element))\n",
    "```\n",
    "\n",
    "També podem usar les list comprehensions per a fer combinacions:"
   ]
  },
  {
   "cell_type": "code",
   "execution_count": null,
   "metadata": {
    "id": "LZTq24VrAhuT",
    "outputId": "f349f9b3-850e-4add-f1e1-983025180f73"
   },
   "outputs": [
    {
     "data": {
      "text/plain": [
       "['ADG',\n",
       " 'ADH',\n",
       " 'ADI',\n",
       " 'AEG',\n",
       " 'AEH',\n",
       " 'AEI',\n",
       " 'AFG',\n",
       " 'AFH',\n",
       " 'AFI',\n",
       " 'BDG',\n",
       " 'BDH',\n",
       " 'BDI',\n",
       " 'BEG',\n",
       " 'BEH',\n",
       " 'BEI',\n",
       " 'BFG',\n",
       " 'BFH',\n",
       " 'BFI',\n",
       " 'CDG',\n",
       " 'CDH',\n",
       " 'CDI',\n",
       " 'CEG',\n",
       " 'CEH',\n",
       " 'CEI',\n",
       " 'CFG',\n",
       " 'CFH',\n",
       " 'CFI']"
      ]
     },
     "execution_count": 2,
     "metadata": {
      "tags": []
     },
     "output_type": "execute_result"
    }
   ],
   "source": [
    "[a+b+c for a in ['A','B','C'] for b in ['D','E','F'] for c in ['G','H','I']]"
   ]
  },
  {
   "cell_type": "markdown",
   "metadata": {
    "id": "XuONbNsRAhuU"
   },
   "source": [
    "### <span class=\"exercici\">Exercici 1: Escriu en forma de list comprehension les següents llistes</span>\n",
    "\n",
    "1. Fer una llista amb tots els números fins a 10\n",
    "2. Fer una llista amb tots ls números fins a 10 múltiples de 2\n",
    "3. Fer una llista amb totes les parelles (i, j) amb i de 0 a 2 i amb j de 0 a 3\n",
    "4. Fer una llista amb tots els números divisibles per 3 menors a 20\n",
    "5. Fer una llista amb tots els números __anteriors__ als divisibles per 3 menors a 20\n",
    "6. Fer una llista amb totes les parelles de numeros positius menors a 20 que sumin 18\n",
    "7. Fer una llista amb els múltiples de 3 i 5 menors que 1000. Després calcula la suma de tots els elements de la llista\n",
    "8. Fer una llista amb els valors de 100 a 1000, múltiples de 10, en ordre invers. És a dir 1000, 990, 980..."
   ]
  }
 ],
 "metadata": {
  "colab": {
   "name": "ListComprehensions.ipynb",
   "provenance": []
  },
  "kernelspec": {
   "display_name": "Python 3 (ipykernel)",
   "language": "python",
   "name": "python3"
  },
  "language_info": {
   "codemirror_mode": {
    "name": "ipython",
    "version": 3
   },
   "file_extension": ".py",
   "mimetype": "text/x-python",
   "name": "python",
   "nbconvert_exporter": "python",
   "pygments_lexer": "ipython3",
   "version": "3.9.7"
  }
 },
 "nbformat": 4,
 "nbformat_minor": 4
}
