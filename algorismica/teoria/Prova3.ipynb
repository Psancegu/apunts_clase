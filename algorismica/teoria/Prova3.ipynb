{
 "cells": [
  {
   "cell_type": "markdown",
   "metadata": {},
   "source": [
    "### TEOREMA MASTER\n",
    "\n",
    "$$ T(n) = aT(n/B) + O(n^{d}) $$\n",
    "\n",
    "a = 2 --> Nombre de crides recursives per cada divisó\n",
    "b = 2 --> Mida en que es divideix el problema.\n",
    "d = 0 --> Cost de l'accio.\n",
    "\n",
    "\n",
    "El Teorema es divideix en tres casos:\n",
    "- Cas 1: T(n) = O(n^d) si d > logb(a) o que a < b^d\n",
    "- Cas 2: T(n) = O(n^d log(n)) si d = logb a o que a = b^d\n",
    "- Cas 3. T(n) = O(n^{logb(s)}) si d < logb(a) o a > b^d\n"
   ]
  },
  {
   "cell_type": "markdown",
   "metadata": {},
   "source": [
    "Algorisme de MergeSort\n"
   ]
  },
  {
   "cell_type": "code",
   "execution_count": null,
   "metadata": {},
   "outputs": [],
   "source": [
    "def mergesort(list):\n",
    "    if len(list) < 2:  # Cas Base si la llista medeix 1, que signfica que ja està a la posició adeqüada.\n",
    "        return list    # Retorna la llista si es compleix el cas base.\n",
    "    else:\n",
    "        middle = len(list) // 2 # Si no es compleix el cas base, agafem l'index de l'element a la meitat de la llista\n",
    "        left = mergesort(list[:middle]) # Dividim la llista en dos parts rigth i left amb el middle. I es torna a cridar a la funcio merge sort fins arribar al cas base.\n",
    "        right = mergesort(list[middle:])\n",
    "        return merge(left, right) # Quan acaben les crides recursives de mergesort, es fa merge de la llista poc a poc de cada tros.\n",
    "\n",
    "\n",
    "\n",
    "def merge(left, right): # Aquesta part ajunta la llista comparant el primer element de cada llista left i right.\n",
    "    result = []\n",
    "    i ,j = 0, 0\n",
    "    while(i < len(left) and j < len(right)):\n",
    "        if (left[i] <= right[j]):\n",
    "            result.append(left[i])\n",
    "            i = i + 1\n",
    "        else:\n",
    "            result.append(right[j])\n",
    "            j = j + 1\n",
    "    result += left[i:]\n",
    "    result += right[j:]\n",
    "    return result\n",
    "'''\n",
    " La complexitat de mergesort és:\n",
    "\n",
    " a = 2, creem 2 subproblemes.\n",
    " b = 2, cada suproblema tracta una llista amb n/2 de llargada\n",
    " d = 1, cada merge ha de recorrer com a màxim O(n)\n",
    "\n",
    " Llavors log2(2) = 1 = 1 per tant, complexitat O(n log(n))\n",
    "'''"
   ]
  },
  {
   "cell_type": "markdown",
   "metadata": {},
   "source": [
    "Algorisme de QuickSort"
   ]
  },
  {
   "cell_type": "code",
   "execution_count": null,
   "metadata": {},
   "outputs": [],
   "source": []
  }
 ],
 "metadata": {
  "kernelspec": {
   "display_name": "Python 3",
   "language": "python",
   "name": "python3"
  },
  "language_info": {
   "codemirror_mode": {
    "name": "ipython",
    "version": 3
   },
   "file_extension": ".py",
   "mimetype": "text/x-python",
   "name": "python",
   "nbconvert_exporter": "python",
   "pygments_lexer": "ipython3",
   "version": "3.12.3"
  }
 },
 "nbformat": 4,
 "nbformat_minor": 2
}
