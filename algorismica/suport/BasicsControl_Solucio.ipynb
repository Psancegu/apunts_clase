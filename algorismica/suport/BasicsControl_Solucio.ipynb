{
 "cells": [
  {
   "cell_type": "markdown",
   "metadata": {
    "id": "sPUfKuR6-k72"
   },
   "source": [
    "<div id=\"capcalera\">\n",
    "    \n",
    "<p>Aquest notebook forma part dels continguts teòrics dels problemes de l'assignatura d'<strong>Algorísmica</strong> del Grau d'Enginyeria Informàtica a la <a href=\"https://mat.ub.edu\">Facultat de Matemàtiques i Informàtica</a> de la <a href=\"https://www.ub.edu\">Universitat de Barcelona</a></p>\n",
    "\n",
    "<p>Els problemes s'ofereixen sota llicència <a href=\"https://creativecommons.org/licenses/by-nc-nd/3.0/us/legalcode\">CC-BY-NC-ND license</a>, i el codi sota <a href=\"https://opensource.org/licenses/MIT\">Llicència MIT</a>.</p>\n",
    "\n",
    "</div>"
   ]
  },
  {
   "cell_type": "markdown",
   "metadata": {
    "id": "jxSgdFSZ-k75"
   },
   "source": [
    "# <span class=\"tema\">(Bàsics Python)</span> Control - Solucions"
   ]
  },
  {
   "cell_type": "markdown",
   "metadata": {
    "id": "3xqiZaMT-k76"
   },
   "source": [
    "Aquest fitxer mostra les solucions als problemes BasicsControl.ipynb"
   ]
  },
  {
   "cell_type": "markdown",
   "metadata": {
    "id": "eekNomYU-k77"
   },
   "source": [
    "<p class=\"exercici\">Exercici 1: Mínim i màxim</p>\n",
    "\n",
    "Escriu un programa que demani un número a l'usuari repetidament fins que aquest introdueixi -99. Quan hagi acabat d'introduir els números mostra per pantalla el mínim i el màxim de la llista."
   ]
  },
  {
   "cell_type": "code",
   "execution_count": null,
   "metadata": {
    "id": "mIj2OUCX-k77",
    "outputId": "14e4ef95-6763-443d-f233-64b4e203704e"
   },
   "outputs": [
    {
     "name": "stdout",
     "output_type": "stream",
     "text": [
      "Entra un número. -99 per acabar 5\n",
      "Entra un número. -99 per acabar 6\n",
      "Entra un número. -99 per acabar 4\n",
      "Entra un número. -99 per acabar -99\n",
      "El número màxim introduit és el  6  i el mínim el  4\n"
     ]
    }
   ],
   "source": [
    "def minmax():\n",
    "    # inicialització\n",
    "    i = int(input(\"Entra un número. -99 per acabar \"))\n",
    "    if i == -99:\n",
    "        return\n",
    "    min = i\n",
    "    max = i\n",
    "    # iteració\n",
    "    while i != -99:\n",
    "        if i < min:\n",
    "            min = i\n",
    "        if i > max:\n",
    "            max = i\n",
    "        i = int(input(\"Entra un número. -99 per acabar \"))\n",
    "    print(\"El número màxim introduit és el \", max,\n",
    "          \" i el mínim el \", min)\n",
    "\n",
    "\n",
    "minmax()\n"
   ]
  },
  {
   "cell_type": "code",
   "execution_count": null,
   "metadata": {
    "id": "5PEnVJV4-k79",
    "outputId": "bb1ba2a3-3697-4c84-d287-95020181985a"
   },
   "outputs": [
    {
     "name": "stdout",
     "output_type": "stream",
     "text": [
      "Entra un número. -99 per acabar -99\n"
     ]
    }
   ],
   "source": [
    "minmax()"
   ]
  },
  {
   "cell_type": "markdown",
   "metadata": {
    "id": "jy_jBppO-k79"
   },
   "source": [
    "<p class=\"exercici\">Exercici 2: Random</p>\n",
    "\n",
    "Escriu un programa en el que donades una seqüència de lletres com a cadena i un número n, retorna una cadena de llargada n formada per caràcters aleatoris de la seqüència de lletres."
   ]
  },
  {
   "cell_type": "code",
   "execution_count": null,
   "metadata": {
    "id": "TksbXz8g-k79",
    "outputId": "9ce19c5f-6c93-4276-8789-a2c5452c015f"
   },
   "outputs": [
    {
     "data": {
      "text/plain": [
       "'gtagacgatg'"
      ]
     },
     "execution_count": 5,
     "metadata": {
      "tags": []
     },
     "output_type": "execute_result"
    }
   ],
   "source": [
    "import random\n",
    "\n",
    "\n",
    "def aleatori(s, n):\n",
    "    res = \"\"\n",
    "    for i in range(n):\n",
    "        res += random.choice(s)\n",
    "    return res\n",
    "\n",
    "\n",
    "def aleatori2(s, n):\n",
    "    res = [random.choice(s) for i in range(n)]\n",
    "    return \"\".join(res)\n",
    "\n",
    "\n",
    "aleatori(\"acgt\", 10)\n"
   ]
  },
  {
   "cell_type": "code",
   "execution_count": null,
   "metadata": {
    "id": "xUZNfxLH-k7-",
    "outputId": "3eb86b3c-d3d4-4dc0-b929-325a268cac94"
   },
   "outputs": [
    {
     "data": {
      "text/plain": [
       "'tcttctacca'"
      ]
     },
     "execution_count": 6,
     "metadata": {
      "tags": []
     },
     "output_type": "execute_result"
    }
   ],
   "source": [
    "aleatori2(\"acgt\", 10)"
   ]
  },
  {
   "cell_type": "markdown",
   "metadata": {
    "id": "d4qcm2Zp-k7_"
   },
   "source": [
    "<p class=\"exercici\">Exercici 3: Nombres narcisistes</p>\n",
    "\n",
    "Escriu un programa que verifiqui si un nombre és narcisista. Diem que un nombre és narcisista si és la suma dels seus dígits, cadascun elevat a la potència del nombre de dígits que té.\n",
    "\n",
    "Exemple: 153 és narcisista perquè\n",
    "    $153 = 1^3 + 5^3 + 3^3 = 1 + 125 + 27$\n",
    "    \n",
    "Font: Adaptat de [Checking for Narcissism in Numbers / Vanessa Osuka](https://code.likeagirl.io/algorithm-part-1-checking-for-narcissism-of-a-number-python-cbea596b2790)"
   ]
  },
  {
   "cell_type": "code",
   "execution_count": null,
   "metadata": {
    "id": "6NtzEJp6-k7_",
    "outputId": "84c18ad0-ce7b-4cd2-aa62-14beeb3c642c"
   },
   "outputs": [
    {
     "name": "stdout",
     "output_type": "stream",
     "text": [
      "153 és narcisista\n"
     ]
    }
   ],
   "source": [
    "def narcisista(n):\n",
    "    cadenan = str(n)\n",
    "    total = 0\n",
    "    potencia = len(cadenan)  # Calculem el nombre de dígits\n",
    "    for x in cadenan:\n",
    "        i = int(x)\n",
    "        producte = i**potencia  # elevem cada dígit a la potència\n",
    "        total += producte  # i acumulem\n",
    "    if (total == n):\n",
    "        print(n, \"és narcisista\")\n",
    "    else:\n",
    "        print(n, \"no és narcisista\")\n",
    "\n",
    "\n",
    "narcisista(153)\n"
   ]
  },
  {
   "cell_type": "markdown",
   "metadata": {
    "id": "zMaih9zl-k7_"
   },
   "source": [
    "<p class=\"exercici\">Exercici 4: Pedra, paper, tisores</p>\n",
    "\n",
    "Escriu una funcio que permeti a dos jugadors jugar al Pedra-Paper-Tisores. "
   ]
  },
  {
   "cell_type": "code",
   "execution_count": null,
   "metadata": {
    "id": "IehVRd6f-k8A",
    "outputId": "6fb00c92-3884-4a28-a1eb-d30588a11dcc"
   },
   "outputs": [
    {
     "name": "stdout",
     "output_type": "stream",
     "text": [
      "Com et dius?Pere\n",
      "I tu?Joana\n",
      "Pere, tria pedra, paper o tisorespedra\n",
      "Joana, tria pedra, paper o tisorespaper\n"
     ]
    },
    {
     "data": {
      "text/plain": [
       "'Guanya paper!'"
      ]
     },
     "execution_count": 2,
     "metadata": {
      "tags": []
     },
     "output_type": "execute_result"
    }
   ],
   "source": [
    "def jugar():\n",
    "    usuari1 = input(\"Com et dius?\")\n",
    "    usuari2 = input(\"I tu?\")\n",
    "    u1 = input(\"%s, tria pedra, paper o tisores\" % usuari1)\n",
    "    u2 = input(\"%s, tria pedra, paper o tisores\" % usuari2)\n",
    "    if u1 == u2:\n",
    "        return(\"Empat!\")\n",
    "    elif u1 == 'pedra':\n",
    "        if u2 == 'tisores':\n",
    "            return(\"Guanya pedra!\")\n",
    "        else:\n",
    "            return(\"Guanya paper!\")\n",
    "    elif u1 == 'tisores':\n",
    "        if u2 == 'paper':\n",
    "            return(\"Guanyen tisores!\")\n",
    "        else:\n",
    "            return(\"Guanya pedra!\")\n",
    "    elif u1 == 'paper':\n",
    "        if u2 == 'pedra':\n",
    "            return(\"Guanya paper!\")\n",
    "        else:\n",
    "            return(\"Guanyen tisores!\")\n",
    "    else:\n",
    "        return(\"Has d'entrar pedra  paper o tisores. Torna-ho a jugar.\")\n",
    "\n",
    "\n",
    "jugar()\n"
   ]
  },
  {
   "cell_type": "markdown",
   "metadata": {
    "id": "eCVQKAWt-k8A"
   },
   "source": [
    "<p class=\"exercici\">Exercici 5: Endevina el nombre</p>\n",
    "\n",
    "Genera un nombre aleatori entre 1 i 9 (inclosos). Demana a l'usuari que l'encerti, i digues-li si ha dit un nombre massa petit, massa gran o l'ha encertat. Segueix fins que l'usuari entri 'exit', i emmagatzema el nombre d'intents de l'usuari, que mostraràs al finalitzar."
   ]
  },
  {
   "cell_type": "code",
   "execution_count": null,
   "metadata": {
    "id": "86yHhnog-k8A",
    "outputId": "efd62ed5-171e-4771-fd12-d1288f5c4345"
   },
   "outputs": [
    {
     "name": "stdout",
     "output_type": "stream",
     "text": [
      "Quin és el número? 7\n",
      "Massa gran!\n",
      "Quin és el número?2\n",
      "Massa petit!\n",
      "Quin és el número?5\n",
      "Massa gran!\n",
      "Quin és el número?4\n",
      "L'has encertat amb només 4 intents!\n"
     ]
    },
    {
     "data": {
      "text/plain": [
       "'El número era 4'"
      ]
     },
     "execution_count": 9,
     "metadata": {
      "tags": []
     },
     "output_type": "execute_result"
    }
   ],
   "source": [
    "import random\n",
    "\n",
    "\n",
    "def encertar():\n",
    "    number = random.randint(1, 9)\n",
    "    guess = 0\n",
    "    intents = 0\n",
    "    guess = input(\"Quin és el número? \")\n",
    "\n",
    "    while guess != \"exit\":\n",
    "        guess = int(guess)\n",
    "        intents += 1\n",
    "        if guess < number:\n",
    "            print(\"Massa petit!\")\n",
    "        elif guess > number:\n",
    "            print(\"Massa gran!\")\n",
    "        else:\n",
    "            print(\"L'has encertat amb només\", intents, \"intents!\")\n",
    "            return \"El número era \" + str(guess)\n",
    "        guess = input(\"Quin és el número?\")\n",
    "\n",
    "\n",
    "encertar()\n"
   ]
  }
 ],
 "metadata": {
  "colab": {
   "name": "BasicsControl-Solucio.ipynb",
   "provenance": []
  },
  "kernelspec": {
   "display_name": "Python 3 (ipykernel)",
   "language": "python",
   "name": "python3"
  },
  "language_info": {
   "codemirror_mode": {
    "name": "ipython",
    "version": 3
   },
   "file_extension": ".py",
   "mimetype": "text/x-python",
   "name": "python",
   "nbconvert_exporter": "python",
   "pygments_lexer": "ipython3",
   "version": "3.9.7"
  }
 },
 "nbformat": 4,
 "nbformat_minor": 1
}
