{
 "cells": [
  {
   "cell_type": "markdown",
   "metadata": {
    "id": "t0YAlIry50Lm"
   },
   "source": [
    "<div id=\"capcalera\">\n",
    "    \n",
    "<p>Aquest notebook forma part dels continguts teòrics dels problemes de l'assignatura d'<strong>Algorísmica</strong> del Grau d'Enginyeria Informàtica a la <a href=\"https://mat.ub.edu\">Facultat de Matemàtiques i Informàtica</a> de la <a href=\"https://www.ub.edu\">Universitat de Barcelona</a></p>\n",
    "\n",
    "<p>Els problemes s'ofereixen sota llicència <a href=\"https://creativecommons.org/licenses/by-nc-nd/3.0/us/legalcode\">CC-BY-NC-ND license</a>, i el codi sota <a href=\"https://opensource.org/licenses/MIT\">Llicència MIT</a>.</p>\n",
    "\n",
    "</div>"
   ]
  },
  {
   "cell_type": "markdown",
   "metadata": {
    "id": "B7NjZ5JB50Ln"
   },
   "source": [
    "# <span class=\"tema\">(Cerca)</span> Cerca líneal (força bruta)"
   ]
  },
  {
   "cell_type": "markdown",
   "metadata": {
    "id": "0lGFKFwi50Lo"
   },
   "source": [
    "Aquest algorisme implementa la cerca per força bruta, recorrent els elements un a un."
   ]
  },
  {
   "cell_type": "code",
   "execution_count": null,
   "metadata": {
    "id": "Z44SQOeH50Lp"
   },
   "outputs": [],
   "source": [
    "def linsearch(list,ele):\n",
    "  i=0\n",
    "  while i < len(list) and list[i] != ele:  # a cada iteració fa dues comparacions\n",
    "    i += 1\n",
    "  if i < len(list):\n",
    "      return i\n",
    "  else:\n",
    "        return -1"
   ]
  },
  {
   "cell_type": "code",
   "execution_count": null,
   "metadata": {
    "id": "jmh3hyhYONx_"
   },
   "outputs": [],
   "source": [
    "k = 5\n",
    "list1 = [5,9,1,4,8,12,56]   # l'element buscat es troba a l'inici\n",
    "list2 = [12,34,3,1,9,6,2,5] # l'element buscat es troba al final\n",
    "list3 = [9,4,3,5,12,3,1,8]  # l'element buscat es troba al mig\n",
    "list4 = [9,1,4,8,12,56,7]   # l'element buscat no hi és"
   ]
  },
  {
   "cell_type": "code",
   "execution_count": null,
   "metadata": {
    "id": "-B-6z-PLONyA",
    "outputId": "4264e05b-758f-43df-ba44-4b3f0e1f8b71"
   },
   "outputs": [
    {
     "data": {
      "text/plain": [
       "0"
      ]
     },
     "execution_count": 9,
     "metadata": {},
     "output_type": "execute_result"
    }
   ],
   "source": [
    "linsearch(list1,k)"
   ]
  },
  {
   "cell_type": "markdown",
   "metadata": {
    "id": "5R7pE4qYONyK"
   },
   "source": [
    "Ha recorregut **1** element, i ha fet 2 comparacions"
   ]
  },
  {
   "cell_type": "code",
   "execution_count": null,
   "metadata": {
    "id": "VyVZ0fu9ONyL",
    "outputId": "e41b3f18-d4c7-48b8-a0f3-6c917b938297"
   },
   "outputs": [
    {
     "data": {
      "text/plain": [
       "7"
      ]
     },
     "execution_count": 5,
     "metadata": {},
     "output_type": "execute_result"
    }
   ],
   "source": [
    "linsearch(list2,k)"
   ]
  },
  {
   "cell_type": "markdown",
   "metadata": {
    "id": "pc6eDCjoONyM"
   },
   "source": [
    "Ha recorregut **8** , i ha fet 16 comparacions"
   ]
  },
  {
   "cell_type": "code",
   "execution_count": null,
   "metadata": {
    "id": "YeM7HYLWONyO",
    "outputId": "84a8eebe-11ff-418b-b895-78b8ce82ec72"
   },
   "outputs": [
    {
     "data": {
      "text/plain": [
       "3"
      ]
     },
     "execution_count": 6,
     "metadata": {},
     "output_type": "execute_result"
    }
   ],
   "source": [
    "linsearch(list3,k)"
   ]
  },
  {
   "cell_type": "markdown",
   "metadata": {
    "id": "Wp4Ckx5rONyO"
   },
   "source": [
    "Ha recorregut **4** elements, i ha fet 8 comparacions"
   ]
  },
  {
   "cell_type": "code",
   "execution_count": null,
   "metadata": {
    "id": "1jun5nQQONyP",
    "outputId": "09a57f80-dfb9-45a1-fd54-906c337fa069"
   },
   "outputs": [
    {
     "data": {
      "text/plain": [
       "-1"
      ]
     },
     "execution_count": 7,
     "metadata": {},
     "output_type": "execute_result"
    }
   ],
   "source": [
    "linsearch(list4,k)"
   ]
  },
  {
   "cell_type": "markdown",
   "metadata": {
    "id": "ahPrJOS_ONyP"
   },
   "source": [
    "Ha recorregut **n** elements, i ha fet 2n comparacions"
   ]
  },
  {
   "cell_type": "code",
   "execution_count": null,
   "metadata": {
    "id": "Mk5DHTcfONyQ"
   },
   "outputs": [],
   "source": [
    "def linsearchOpt(list,ele):\n",
    "  list.append(ele)  # cost O(1)\n",
    "  i=0\n",
    "  while list[i] != ele:  # a cada iteració fem només una comparació\n",
    "    i += 1\n",
    "  if i < len(list)-1: \n",
    "      return i\n",
    "  else: \n",
    "      return -1"
   ]
  },
  {
   "cell_type": "code",
   "execution_count": null,
   "metadata": {
    "id": "jkLBte_nONyQ"
   },
   "outputs": [],
   "source": [
    "k = 5\n",
    "list1 = [5,9,1,4,8,12,56]   # l'element buscat es troba a l'inici\n",
    "list2 = [12,34,3,1,9,6,2,5] # l'element buscat es troba al final\n",
    "list3 = [9,4,3,5,12,3,1,8]  # l'element buscat es troba al mig\n",
    "list4 = [9,1,4,8,12,56,7]   # l'element buscat no hi és"
   ]
  },
  {
   "cell_type": "code",
   "execution_count": null,
   "metadata": {
    "id": "BB6XIcTeONyQ",
    "outputId": "7c9d9719-a84d-4fee-a39e-ebf9ae36e2d1"
   },
   "outputs": [
    {
     "data": {
      "text/plain": [
       "0"
      ]
     },
     "execution_count": 12,
     "metadata": {},
     "output_type": "execute_result"
    }
   ],
   "source": [
    "linsearchOpt(list1,k)"
   ]
  },
  {
   "cell_type": "markdown",
   "metadata": {
    "id": "oI5prQk2ONyR"
   },
   "source": [
    "Ha recorregut **1** element, i ha fet 1 comparació"
   ]
  },
  {
   "cell_type": "code",
   "execution_count": null,
   "metadata": {
    "id": "VC04nU9nONyR",
    "outputId": "1d5f8fe5-7a7e-4535-c9b0-d9735b985615"
   },
   "outputs": [
    {
     "data": {
      "text/plain": [
       "7"
      ]
     },
     "execution_count": 16,
     "metadata": {},
     "output_type": "execute_result"
    }
   ],
   "source": [
    "linsearchOpt(list2,k)"
   ]
  },
  {
   "cell_type": "markdown",
   "metadata": {
    "id": "2iOwCiDpONyR"
   },
   "source": [
    "Ha recorregut **8** elements, i ha fet 8 comparacions"
   ]
  },
  {
   "cell_type": "code",
   "execution_count": null,
   "metadata": {
    "id": "sNnyaDjjONyR",
    "outputId": "98c50516-aaf2-428e-c6c7-5f9be4ab1b9e"
   },
   "outputs": [
    {
     "data": {
      "text/plain": [
       "3"
      ]
     },
     "execution_count": 17,
     "metadata": {},
     "output_type": "execute_result"
    }
   ],
   "source": [
    "linsearchOpt(list3,k)"
   ]
  },
  {
   "cell_type": "markdown",
   "metadata": {
    "id": "BGe1yVUwONyS"
   },
   "source": [
    "Ha recorregut **4** elements, i ha fet 4 comparacions"
   ]
  },
  {
   "cell_type": "code",
   "execution_count": null,
   "metadata": {
    "id": "Sy0eyTnoONyS",
    "outputId": "a5e7a4ee-5aff-403f-f4fd-dbe5c63ceb2c"
   },
   "outputs": [
    {
     "data": {
      "text/plain": [
       "7"
      ]
     },
     "execution_count": 18,
     "metadata": {},
     "output_type": "execute_result"
    }
   ],
   "source": [
    "linsearchOpt(list4,k)"
   ]
  },
  {
   "cell_type": "markdown",
   "metadata": {
    "id": "a0p0Zx98ONyS"
   },
   "source": [
    "Ha recorregut **n** elements, i ha fet n comparacions"
   ]
  }
 ],
 "metadata": {
  "colab": {
   "collapsed_sections": [],
   "name": "Exemple.ipynb",
   "provenance": []
  },
  "kernelspec": {
   "display_name": "Python 3 (ipykernel)",
   "language": "python",
   "name": "python3"
  },
  "language_info": {
   "codemirror_mode": {
    "name": "ipython",
    "version": 3
   },
   "file_extension": ".py",
   "mimetype": "text/x-python",
   "name": "python",
   "nbconvert_exporter": "python",
   "pygments_lexer": "ipython3",
   "version": "3.9.7"
  }
 },
 "nbformat": 4,
 "nbformat_minor": 1
}
