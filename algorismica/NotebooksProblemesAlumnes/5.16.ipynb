{
 "cells": [
  {
   "cell_type": "markdown",
   "metadata": {
    "id": "R-hxzaiRkvI3"
   },
   "source": [
    "# Capítol 5 - Dividir i Vèncer"
   ]
  },
  {
   "cell_type": "markdown",
   "metadata": {
    "id": "e5wc_VQAkvJG"
   },
   "source": [
    "### 5.16 Multiplicacio de polinomis"
   ]
  },
  {
   "cell_type": "markdown",
   "metadata": {},
   "source": [
    "Escriu una funció, multiplicacio_polinomis, que calculi la multiplicació \n",
    "de dos polinomis. Cada polinomi es descriurà com una tupla amb els coeficients corresponents ordenats de major a menor grau. Per exemple, la tupla (3; 1; 4) correspon al polinomi 3x2 + x + 4. \n",
    "\n",
    "La funció que escriguis rebrà dues tuples com a entrada i retornarà una tupla corresponent al polinomi resultant després de fer la multiplicació.\n",
    "\n",
    "L'algorisme ha de tenir una complexitat d'$O(n^2)$\n",
    "\n",
    "Fes servir aquesta plantilla per escriure el teu codi:"
   ]
  },
  {
   "cell_type": "code",
   "execution_count": 15,
   "metadata": {
    "id": "YGt1IeA4kvJG"
   },
   "outputs": [
    {
     "name": "stdout",
     "output_type": "stream",
     "text": [
      "[4, 11, 20, 30, 20, 11, 4]\n"
     ]
    }
   ],
   "source": [
    "def multiplicacio_polinomis(polinomi1, polinomi2):\n",
    "\n",
    "    graup1 = len(polinomi1) -1\n",
    "    graup2 = len(polinomi2) -1\n",
    "\n",
    "    multPolinomi = [0]* (graup1 + graup2 + 1)\n",
    "\n",
    "    for i in range(0,graup1 +1):\n",
    "        for j in range(0, graup2+1):\n",
    "            multPolinomi[i+j] += polinomi1[i] * polinomi2[j]\n",
    "        \n",
    "\n",
    "    \n",
    "    \"\"\"\n",
    "    Aquesta funció multiplica dos polinomis.\n",
    "    \n",
    "    Parameters\n",
    "    ----------\n",
    "    polinomi1: tupla\n",
    "    polinomi2: tupla\n",
    "    \n",
    "    Returns\n",
    "    -------\n",
    "    multPolinomi: tupla\n",
    "    \"\"\"\n",
    "\n",
    "    return multPolinomi\n",
    "\n",
    "print(multiplicacio_polinomis((1, 2, 3, 4), (4, 3, 2, 1)))"
   ]
  },
  {
   "cell_type": "code",
   "execution_count": 16,
   "metadata": {
    "id": "I5sJDiROkvJG"
   },
   "outputs": [],
   "source": [
    "assert multiplicacio_polinomis((1, 2, 3, 4), (4, 3, 2, 1)) == [4, 11, 20, 30, 20, 11, 4]"
   ]
  }
 ],
 "metadata": {
  "colab": {
   "collapsed_sections": [],
   "name": "5.16.ipynb",
   "provenance": []
  },
  "kernelspec": {
   "display_name": "Python 3",
   "language": "python",
   "name": "python3"
  },
  "language_info": {
   "codemirror_mode": {
    "name": "ipython",
    "version": 3
   },
   "file_extension": ".py",
   "mimetype": "text/x-python",
   "name": "python",
   "nbconvert_exporter": "python",
   "pygments_lexer": "ipython3",
   "version": "3.12.3"
  }
 },
 "nbformat": 4,
 "nbformat_minor": 0
}
