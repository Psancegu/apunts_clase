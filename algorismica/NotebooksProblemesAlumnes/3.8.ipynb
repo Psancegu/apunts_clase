{
 "cells": [
  {
   "cell_type": "markdown",
   "metadata": {
    "id": "Tq8bG1MNUhzi"
   },
   "source": [
    "# Capítol 3 - Algorismes i Nombres"
   ]
  },
  {
   "cell_type": "markdown",
   "metadata": {
    "id": "SMjaC9A4Uhz0"
   },
   "source": [
    "### 3.8 Primeritat"
   ]
  },
  {
   "cell_type": "markdown",
   "metadata": {},
   "source": [
    "El [sedàs d'Eratòstenes](https://ca.wikipedia.org/wiki/Sed%C3%A0s_d%27Erat%C3%B2stenes) és un algorisme per cercar tots els nombres primers fins un determinat enter. Aquest algorisme te la forma següent:\n",
    "\n",
    "- Escriu una llista ``llista1`` amb els nombres del $2$ fins a l'enter $N$ que vulguis calcular.\n",
    "- El primer nombre de la llista és un nombre primer. Anota'l en una llista de nombres primers, ``llista2``.\n",
    "- Esborra de la llista ``llista1`` el primer nombre i els seus múltiples.\n",
    "- Si el primer nombre de la llista ``llista1`` és més petit que $\\sqrt{N}$ torna al punt $2$.\n",
    "- Els nombres de la llista ``llista2`` i els que queden a la llista ``llista1`` són tots els nombres primers cercats.\n",
    "\n",
    "Implementa la funció ``eratostenes`` implementat l'algorisme d'Eratòstenes. A més a més, implementa la funció ``primer`` que retorna l'ennessim primer."
   ]
  },
  {
   "cell_type": "code",
   "execution_count": 74,
   "metadata": {
    "id": "2f9HkoyWUhz0"
   },
   "outputs": [
    {
     "name": "stdout",
     "output_type": "stream",
     "text": [
      "[3, 5, 9, 11, 15, 17, 21, 27, 29, 35, 39, 41, 45, 47, 51, 57, 59, 65, 69, 71, 77, 81, 87, 89, 95, 99, 101, 105, 107, 111, 125, 129, 131, 135, 137, 147, 149, 155, 159, 161, 165, 167, 171, 177, 179, 189, 191, 195, 197, 209, 215, 221, 225, 227, 231, 237, 239, 245, 249, 255, 257, 261, 267, 269, 275, 279, 281, 291, 297, 299, 305, 309, 311, 315, 329, 335, 341, 345, 347, 351, 357, 359, 365, 369, 371, 377, 381, 387, 395, 399, 401, 407, 417, 419, 425, 429, 431, 435, 437, 441, 447, 455, 459, 461, 465, 467, 477, 479, 485, 489, 497, 501, 507, 509, 519, 521, 527, 539, 545, 551, 555, 557, 561, 567, 569, 575, 579, 585, 587, 591, 597, 599, 605, 611, 615, 617, 621, 629, 635, 639, 641, 645, 651, 657, 659, 671, 675, 677, 681, 687, 689, 699, 701, 705, 707, 711, 717, 719, 725, 731, 737, 741, 747, 749, 755, 759, 761, 767, 771, 785, 789, 791, 795, 807, 809, 815, 819, 821, 825, 827, 837, 849, 851, 855, 857, 861, 869, 875, 879, 881, 885, 887, 905, 909, 915, 917, 927, 929, 935, 939, 945, 947, 951, 957, 959, 965, 969, 971, 975, 981, 987, 989, 995, 1005, 1007, 1011, 1017, 1019, 1025, 1029, 1031, 1037, 1041, 1047, 1049, 1055, 1059, 1061, 1067, 1077, 1085, 1089, 1091, 1095, 1097, 1101, 1107, 1115, 1121, 1125, 1127, 1139, 1145, 1149, 1151, 1155, 1157, 1161, 1167, 1169, 1179, 1181, 1185, 1191, 1199, 1209, 1211, 1215, 1217, 1221, 1227, 1229, 1235, 1247, 1251, 1257, 1259, 1265, 1271, 1275, 1277, 1281, 1287, 1289, 1295, 1299, 1301, 1305, 1311, 1317, 1319, 1325, 1331, 1335, 1337, 1349, 1359, 1365, 1367, 1371, 1377, 1379, 1385, 1389, 1391, 1397, 1401, 1407, 1415, 1421, 1425, 1427, 1431, 1437, 1445, 1449, 1451, 1457, 1467, 1469, 1475, 1479, 1481, 1485, 1487, 1491, 1497, 1499, 1509, 1517, 1521, 1529, 1539, 1541, 1547, 1551, 1557, 1559, 1565, 1569, 1575, 1577, 1581, 1587, 1589, 1595, 1599, 1601, 1605, 1607, 1611, 1617, 1619, 1625, 1629, 1635, 1641, 1649, 1655, 1661, 1665, 1667, 1671, 1677, 1685, 1689, 1691, 1695, 1697, 1701, 1707, 1719, 1721, 1727, 1731, 1739, 1745, 1751, 1755, 1757, 1775, 1779, 1781, 1785, 1787, 1797, 1799, 1805, 1809, 1811, 1815, 1821, 1829, 1839, 1841, 1845, 1847, 1859, 1865, 1869, 1871, 1875, 1877, 1881, 1887, 1889, 1895, 1899, 1905, 1907, 1911, 1917, 1929, 1931, 1935, 1937, 1947, 1949, 1955, 1959, 1961, 1965, 1971, 1977, 1979, 1985, 1991, 1995, 1997, 2001, 2009, 2015, 2025, 2027, 2031, 2037, 2039, 2045, 2049, 2051, 2061, 2067, 2069, 2075, 2079, 2081, 2085, 2087, 2091, 2097, 2105, 2109, 2111, 2117, 2127, 2129, 2135, 2139, 2141, 2145, 2147, 2151, 2159, 2169, 2175, 2177, 2189, 2195, 2201, 2205, 2211, 2217, 2219, 2229, 2235, 2237, 2241, 2247, 2249, 2255, 2261, 2265, 2267, 2271, 2277, 2279, 2285, 2291, 2295, 2307, 2309, 2315, 2321, 2325, 2331, 2337, 2339, 2345, 2349, 2351, 2355, 2357, 2367, 2369, 2375, 2379, 2381, 2387, 2391, 2397, 2399, 2409, 2411, 2415, 2421, 2427, 2435, 2439, 2441, 2445, 2447, 2457, 2459, 2465, 2469, 2471, 2475, 2477, 2481, 2487, 2501, 2505, 2507, 2511, 2519, 2525, 2529, 2537, 2541, 2547, 2549, 2555, 2559, 2567, 2571, 2577, 2585, 2589, 2591, 2595, 2597, 2601, 2607, 2609, 2615, 2619, 2621, 2631, 2639, 2645, 2651, 2655, 2657, 2661, 2669, 2675, 2679, 2681, 2685, 2687, 2691, 2697, 2699, 2705, 2709, 2711, 2717, 2721, 2727, 2729, 2739, 2741, 2747, 2751, 2757, 2765, 2775, 2777, 2787, 2789, 2795, 2799, 2801, 2805, 2807, 2817, 2819, 2829, 2831, 2835, 2841, 2849, 2855, 2859, 2861, 2867, 2877, 2879, 2885, 2895, 2897, 2901, 2907, 2915, 2919, 2921, 2925, 2931, 2937, 2945, 2949, 2951, 2955, 2961, 2967, 2969, 2975, 2981, 2987, 2997, 2999, 3005, 3009, 3011, 3015, 3017, 3021, 3027, 3029, 3035, 3039, 3047, 3057, 3059, 3065, 3069, 3071, 3077, 3081, 3087, 3095, 3099, 3105, 3107, 3117, 3119, 3129, 3131, 3135, 3137, 3141, 3149, 3161, 3165, 3167, 3171, 3179, 3185, 3189, 3191, 3195, 3197, 3201, 3207, 3209, 3215, 3219, 3225, 3227, 3231, 3239, 3249, 3251, 3255, 3257, 3261, 3267, 3269, 3281, 3285, 3291, 3297, 3299, 3305, 3311, 3315, 3317, 3321, 3327, 3329, 3339, 3341, 3345, 3351, 3357, 3359, 3365, 3369, 3371, 3377, 3387, 3389, 3395, 3399, 3405, 3407, 3411, 3417, 3425, 3431, 3435, 3437, 3447, 3455, 3459, 3461, 3465, 3467, 3471, 3489, 3491, 3495, 3497, 3501, 3509, 3515, 3519, 3521, 3525, 3527, 3531, 3537, 3539, 3545, 3549, 3555, 3557, 3561, 3567, 3569, 3575, 3579, 3581, 3587, 3591, 3599, 3605, 3609, 3611, 3615, 3621, 3627, 3629, 3635, 3641, 3645, 3651, 3657, 3659, 3665, 3669, 3671, 3675, 3677, 3689, 3695, 3699, 3701, 3707, 3717, 3719, 3725, 3731, 3735, 3737, 3741, 3747, 3759, 3765, 3767, 3777, 3779, 3785, 3791, 3795, 3801, 3807, 3809, 3819, 3821, 3825, 3827, 3831, 3839, 3845, 3849, 3851, 3861, 3867, 3869, 3875, 3879, 3885, 3887, 3897, 3905, 3909, 3911, 3915, 3917, 3921, 3927, 3929, 3935, 3939, 3941, 3945, 3957, 3965, 3977, 3981, 3987, 3989, 3995, 3999, 4001, 4005, 4007, 4011, 4017, 4019, 4025, 4031, 4037, 4041, 4047, 4049, 4055, 4059, 4065, 4067, 4071, 4077, 4085, 4089, 4091, 4097, 4107, 4109, 4115, 4119, 4121, 4125, 4127, 4131, 4137, 4149, 4151, 4155, 4157, 4161, 4169, 4175, 4179, 4185, 4191, 4199, 4205, 4209, 4215, 4217, 4227, 4229, 4235, 4239, 4241, 4245, 4247, 4251, 4257, 4259, 4269, 4271, 4281, 4287, 4289, 4295, 4301, 4307, 4311, 4317, 4325, 4331, 4335, 4337, 4341, 4347, 4349, 4355, 4359, 4361, 4371, 4379, 4389, 4391, 4395, 4397, 4407, 4415, 4419, 4421, 4425, 4427, 4437, 4439, 4445, 4449, 4451, 4455, 4457, 4461, 4479, 4481, 4485, 4487, 4491, 4499, 4505, 4509, 4511, 4515, 4517, 4521, 4527, 4529, 4535, 4539, 4545, 4547, 4559, 4565, 4569, 4575, 4577, 4581, 4587, 4589, 4595, 4599, 4601, 4611, 4617, 4619, 4625, 4635, 4637, 4641, 4647, 4649, 4655, 4661, 4665, 4671, 4677, 4679, 4685, 4689, 4691, 4697, 4701, 4709, 4715, 4719, 4721, 4727, 4731, 4737, 4749, 4751, 4757, 4767, 4769, 4779, 4781, 4785, 4787, 4791, 4797, 4799, 4811, 4815, 4817, 4821, 4829, 4835, 4845, 4847, 4851, 4857, 4859, 4865, 4869, 4875, 4881, 4887, 4889, 4901, 4905, 4907, 4917, 4919, 4925, 4929, 4931, 4935, 4941, 4947, 4949, 4955, 4961, 4965, 4967, 4971, 4977, 4985, 4989, 4991, 4995, 4997, 5001, 5007, 5009, 5019, 5021, 5031, 5037, 5045, 5049, 5051, 5055, 5057, 5061, 5067, 5075, 5079, 5085, 5087, 5097, 5099, 5105, 5109, 5111, 5117, 5127, 5129, 5139, 5141, 5145, 5147, 5151, 5159, 5165, 5169, 5171, 5175, 5177, 5187, 5195, 5199, 5207, 5211, 5219, 5225, 5229, 5231, 5235, 5237, 5241, 5255, 5259, 5261, 5265, 5271, 5277, 5279, 5291, 5295, 5297, 5301, 5307, 5315, 5321, 5325, 5327, 5331, 5337, 5339, 5345, 5349, 5351, 5357, 5361, 5375, 5379, 5381, 5385, 5391, 5397, 5405, 5409, 5411, 5415, 5417, 5427, 5429, 5435, 5439, 5441, 5445, 5447, 5457, 5459, 5469, 5471, 5475, 5477, 5481, 5495, 5499, 5501, 5505, 5507, 5511, 5517, 5519, 5525, 5529, 5535, 5541, 5547, 5549, 5555, 5559, 5561, 5565, 5567, 5571, 5577, 5579, 5585, 5589, 5601, 5609, 5621, 5627, 5631, 5637, 5639, 5645, 5649, 5651, 5655, 5657, 5661, 5667, 5669, 5675, 5679, 5681, 5687, 5691, 5699, 5705, 5709, 5715, 5717, 5735, 5739, 5741, 5745, 5747, 5757, 5759, 5765, 5771, 5775, 5777, 5781, 5787, 5789, 5799, 5801, 5805, 5807, 5811, 5819, 5825, 5831, 5835, 5837, 5841, 5847, 5849, 5855, 5859, 5865, 5867, 5871, 5877, 5879, 5889, 5895, 5901, 5907, 5909, 5915, 5919, 5921, 5925, 5937, 5939, 5945, 5951, 5955, 5961, 5969, 5975, 5979, 5981, 5985, 5987, 5991, 5997]\n",
      "15\n"
     ]
    }
   ],
   "source": [
    "from math import sqrt\n",
    "from random import randint  \n",
    "\n",
    "def eratostenes(n) :\n",
    "    sieve = [True for j in range (2, n+1)]\n",
    "    for j in range(2, int(sqrt(n))+1):\n",
    "        i = j-2\n",
    "        if sieve[i]:\n",
    "            for k in range(i+j, n+1, j):\n",
    "                sieve[k-2] = False\n",
    "    llista = [j for j in range(2, n+1) if sieve[j-2]] \n",
    "    return llista\n",
    "    \n",
    "\n",
    "## Complexitat O(n*sqrt(n)) o millor, O(log(log(n)))\n",
    " \n",
    "\n",
    "def primer(n):\n",
    "    l = eratostenes(n*1000)\n",
    "    print(l)\n",
    "    if len(l) >= n:\n",
    "        return l[n-2]\n",
    "    \n",
    "\n",
    "    \n",
    "    \"\"\"\n",
    "    Aquesta funció retorna el l'ennessim primer.\n",
    "    \n",
    "    Parameters\n",
    "    ----------\n",
    "    n: int\n",
    "    \n",
    "    Returns\n",
    "    -------\n",
    "    primer: int\n",
    "    \"\"\"\n",
    "eratostenes(6)\n",
    "print(primer(6))\n"
   ]
  },
  {
   "cell_type": "code",
   "execution_count": 3,
   "metadata": {
    "id": "deNLLT5wUhz0"
   },
   "outputs": [
    {
     "ename": "AssertionError",
     "evalue": "",
     "output_type": "error",
     "traceback": [
      "\u001b[0;31m---------------------------------------------------------------------------\u001b[0m",
      "\u001b[0;31mAssertionError\u001b[0m                            Traceback (most recent call last)",
      "Cell \u001b[0;32mIn[3], line 1\u001b[0m\n\u001b[0;32m----> 1\u001b[0m \u001b[38;5;28;01massert\u001b[39;00m primer(\u001b[38;5;241m6\u001b[39m) \u001b[38;5;241m==\u001b[39m \u001b[38;5;241m13\u001b[39m\n\u001b[1;32m      2\u001b[0m \u001b[38;5;28;01massert\u001b[39;00m primer(\u001b[38;5;241m10001\u001b[39m) \u001b[38;5;241m==\u001b[39m \u001b[38;5;241m104743\u001b[39m\n",
      "\u001b[0;31mAssertionError\u001b[0m: "
     ]
    }
   ],
   "source": [
    "assert primer(6)  == 13\n",
    "assert primer(10001) == 104743"
   ]
  },
  {
   "cell_type": "markdown",
   "metadata": {},
   "source": [
    "## Per obrir fitxers\n",
    "- open(\"nom_fitxer\",r) --> Descriptor Si hem d'escriure \"w\" read(), write(), readline()\n",
    "\n",
    "\n",
    "\n",
    "\n",
    "\n"
   ]
  },
  {
   "cell_type": "markdown",
   "metadata": {},
   "source": [
    "Implementa ara l'algorisme d'Eratòstenes a la funció ``eratostenes_IO`` utilitzant mètodes d'entrada i sortida. "
   ]
  },
  {
   "cell_type": "code",
   "execution_count": 47,
   "metadata": {},
   "outputs": [],
   "source": [
    "\n",
    "def eratostenes_IO(input_file, output_file):\n",
    "\n",
    "    with open(input_file) as f:\n",
    "        n = int(f.readline())\n",
    "    primers = eratostenes(n)\n",
    "    with open(output_file, 'w') as f:\n",
    "        for p in primers:\n",
    "            f.write(f'{p} ' if p != primers[-1] else f'{p}')\n",
    "    pass\n",
    "    \"\"\"\n",
    "    Aquesta funció implementa l'algorisme d'Eratòstenes per generar tots els nombres primers \n",
    "    fins a un nombre n, definit a un fitxer de text input_file, i guarda el resultat a un \n",
    "    fitxer de text output_file on estan escrits els primers ordenats i separats per coma.\n",
    "    Exemples de fitxers d'entrada i sortida són 'example_input_file.txt' i \n",
    "    'example_output_file.txt'. Assumim que el fitxer de sortida no existeix i que el fitxer\n",
    "    d'entrada existeix i està ben formatejat.\n",
    "    \n",
    "    Parameters\n",
    "    ----------\n",
    "    input_file: str \n",
    "    output_file: str\n",
    "\n",
    "    Returns\n",
    "    -------\n",
    "    Aquesta funció no retorna.\n",
    "    \"\"\"\n",
    "eratostenes_IO('./example_input_file.txt', './example_output_file.txt')"
   ]
  },
  {
   "cell_type": "markdown",
   "metadata": {},
   "source": [
    "Escriu una funció que calculi el factor primer més gran d'un nombre natural donat."
   ]
  },
  {
   "cell_type": "code",
   "execution_count": 32,
   "metadata": {
    "id": "ATnJ4dvgUhz0"
   },
   "outputs": [
    {
     "name": "stdout",
     "output_type": "stream",
     "text": [
      "[]\n"
     ]
    },
    {
     "ename": "ValueError",
     "evalue": "max() iterable argument is empty",
     "output_type": "error",
     "traceback": [
      "\u001b[0;31m---------------------------------------------------------------------------\u001b[0m",
      "\u001b[0;31mValueError\u001b[0m                                Traceback (most recent call last)",
      "Cell \u001b[0;32mIn[32], line 24\u001b[0m\n\u001b[1;32m     11\u001b[0m     \u001b[38;5;28;01mreturn\u001b[39;00m \u001b[38;5;28mmax\u001b[39m(llista)\n\u001b[1;32m     12\u001b[0m \u001b[38;5;250m    \u001b[39m\u001b[38;5;124;03m\"\"\"\u001b[39;00m\n\u001b[1;32m     13\u001b[0m \u001b[38;5;124;03m    Aquesta funció calcula el factor primer més gran d'un nombre natural donat.\u001b[39;00m\n\u001b[1;32m     14\u001b[0m \u001b[38;5;124;03m    \u001b[39;00m\n\u001b[0;32m   (...)\u001b[0m\n\u001b[1;32m     21\u001b[0m \u001b[38;5;124;03m    factor: int\u001b[39;00m\n\u001b[1;32m     22\u001b[0m \u001b[38;5;124;03m    \"\"\"\u001b[39;00m\n\u001b[0;32m---> 24\u001b[0m \u001b[38;5;28mprint\u001b[39m(\u001b[43mfactor_primer_mes_gran\u001b[49m\u001b[43m(\u001b[49m\u001b[38;5;241;43m7\u001b[39;49m\u001b[43m)\u001b[49m)\n",
      "Cell \u001b[0;32mIn[32], line 11\u001b[0m, in \u001b[0;36mfactor_primer_mes_gran\u001b[0;34m(n)\u001b[0m\n\u001b[1;32m      9\u001b[0m llista \u001b[38;5;241m=\u001b[39m [j \u001b[38;5;28;01mfor\u001b[39;00m j \u001b[38;5;129;01min\u001b[39;00m \u001b[38;5;28mrange\u001b[39m(\u001b[38;5;241m2\u001b[39m, n\u001b[38;5;241m+\u001b[39m\u001b[38;5;241m1\u001b[39m) \u001b[38;5;28;01mif\u001b[39;00m sieve[j\u001b[38;5;241m-\u001b[39m\u001b[38;5;241m2\u001b[39m] \u001b[38;5;129;01mand\u001b[39;00m j \u001b[38;5;241m%\u001b[39m n \u001b[38;5;241m==\u001b[39m \u001b[38;5;241m0\u001b[39m]\n\u001b[1;32m     10\u001b[0m \u001b[38;5;28mprint\u001b[39m(llista)\n\u001b[0;32m---> 11\u001b[0m \u001b[38;5;28;01mreturn\u001b[39;00m \u001b[38;5;28;43mmax\u001b[39;49m\u001b[43m(\u001b[49m\u001b[43mllista\u001b[49m\u001b[43m)\u001b[49m\n\u001b[1;32m     12\u001b[0m \u001b[38;5;250m\u001b[39m\u001b[38;5;124;03m\"\"\"\u001b[39;00m\n\u001b[1;32m     13\u001b[0m \u001b[38;5;124;03mAquesta funció calcula el factor primer més gran d'un nombre natural donat.\u001b[39;00m\n\u001b[1;32m     14\u001b[0m \u001b[38;5;124;03m\u001b[39;00m\n\u001b[0;32m   (...)\u001b[0m\n\u001b[1;32m     21\u001b[0m \u001b[38;5;124;03mfactor: int\u001b[39;00m\n\u001b[1;32m     22\u001b[0m \u001b[38;5;124;03m\"\"\"\u001b[39;00m\n",
      "\u001b[0;31mValueError\u001b[0m: max() iterable argument is empty"
     ]
    }
   ],
   "source": [
    "def factor_primer_mes_gran(n):\n",
    "    sieve = [True for j in range (2, n+1)]\n",
    "    for j in range(2, int(n)+1):\n",
    "        i = j-2\n",
    "        if sieve[i]:\n",
    "            for k in range(i+j, n+1, j):\n",
    "                sieve[k-2] = False\n",
    "    \n",
    "    llista = [j for j in range(2, n+1) if sieve[j-2] and j % n == 0]\n",
    "    print(llista)\n",
    "    return max(llista)\n",
    "    \"\"\"\n",
    "    Aquesta funció calcula el factor primer més gran d'un nombre natural donat.\n",
    "    \n",
    "    Parameters\n",
    "    ----------\n",
    "    n: int\n",
    "    \n",
    "    Returns\n",
    "    -------\n",
    "    factor: int\n",
    "    \"\"\"\n",
    "\n",
    "print(factor_primer_mes_gran(7))"
   ]
  },
  {
   "cell_type": "code",
   "execution_count": 23,
   "metadata": {},
   "outputs": [
    {
     "ename": "AssertionError",
     "evalue": "",
     "output_type": "error",
     "traceback": [
      "\u001b[0;31m---------------------------------------------------------------------------\u001b[0m",
      "\u001b[0;31mAssertionError\u001b[0m                            Traceback (most recent call last)",
      "Cell \u001b[0;32mIn[23], line 4\u001b[0m\n\u001b[1;32m      2\u001b[0m \u001b[38;5;28;01massert\u001b[39;00m factor_primer_mes_gran(\u001b[38;5;241m2\u001b[39m) \u001b[38;5;241m==\u001b[39m \u001b[38;5;241m2\u001b[39m\n\u001b[1;32m      3\u001b[0m \u001b[38;5;28;01massert\u001b[39;00m factor_primer_mes_gran(\u001b[38;5;241m4\u001b[39m) \u001b[38;5;241m==\u001b[39m \u001b[38;5;241m2\u001b[39m\n\u001b[0;32m----> 4\u001b[0m \u001b[38;5;28;01massert\u001b[39;00m factor_primer_mes_gran(\u001b[38;5;241m7\u001b[39m) \u001b[38;5;241m==\u001b[39m \u001b[38;5;241m7\u001b[39m\n",
      "\u001b[0;31mAssertionError\u001b[0m: "
     ]
    }
   ],
   "source": [
    "# assert factor_primer_mes_gran(600851475143) == 6857\n",
    "assert factor_primer_mes_gran(2) == 2\n",
    "assert factor_primer_mes_gran(4) == 2\n",
    "assert factor_primer_mes_gran(7) == 7"
   ]
  }
 ],
 "metadata": {
  "colab": {
   "collapsed_sections": [],
   "name": "3.8.ipynb",
   "provenance": []
  },
  "kernelspec": {
   "display_name": "Python 3",
   "language": "python",
   "name": "python3"
  },
  "language_info": {
   "codemirror_mode": {
    "name": "ipython",
    "version": 3
   },
   "file_extension": ".py",
   "mimetype": "text/x-python",
   "name": "python",
   "nbconvert_exporter": "python",
   "pygments_lexer": "ipython3",
   "version": "3.12.3"
  }
 },
 "nbformat": 4,
 "nbformat_minor": 4
}
