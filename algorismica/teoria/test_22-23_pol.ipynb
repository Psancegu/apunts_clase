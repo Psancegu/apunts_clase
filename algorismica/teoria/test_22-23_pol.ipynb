{
 "cells": [
  {
   "cell_type": "markdown",
   "id": "8965b162",
   "metadata": {
    "id": "8965b162"
   },
   "source": [
    "# Examen Parcial d'Algorísmica, 8 de novembre 2022"
   ]
  },
  {
   "cell_type": "markdown",
   "id": "d5c2facc",
   "metadata": {
    "id": "d5c2facc"
   },
   "source": [
    "## Part teòrica"
   ]
  },
  {
   "cell_type": "markdown",
   "id": "7c1ef5e5",
   "metadata": {
    "id": "7c1ef5e5"
   },
   "source": [
    "### Pregunta T1 (1.25 punts)\n",
    "Respon amb claredat i precisió\n",
    "\n",
    "+ T1.1 Quants bits té com a màxim la suma de x+y, si ambdós tenen n bits?\n",
    "\n",
    "La suma de x+y té com a màxim n+1 bits.\n",
    "Ex: 11 + 11 = 110\n",
    "Ex: 99 + 99 = 198\n",
    "\n",
    "+ T1.2 Podem considerar de la mateixa complexitat una operació amb nombres decimals que amb nombres binaris?\n",
    "\n",
    "Sí podem considerar la mateixa complexitat, ja que el canvi de base no afecta a la mida del nombre, sinó al nombre de dígits representats.\n",
    "\n",
    "\n",
    "+ T1.3 En aritmètica modular com podem simplificar x^25? \n",
    "\n",
    "Es pot simplificar amb x^16 * x^8 * x^1\n",
    "\n",
    "Ja que per no fer x*x*x...\n",
    "Fem: x^2 * x^2 = \n",
    "\n",
    "+ T1.4 Quina complexitat té l'exponenciació modular?\n",
    "\n",
    "L'exponenciació modular té una complexitat de O(log(n) * log(y)) Sent Y l'exponent.\n",
    "\n"
   ]
  },
  {
   "cell_type": "markdown",
   "id": "fa8cfaf2",
   "metadata": {
    "id": "fa8cfaf2"
   },
   "source": [
    "### Pregunta T2 (1.25 punts)\n",
    "\n",
    "Respon amb claredat i precisió\n",
    "\n",
    "+ T2.1 Es pot demostrar que un algorisme és correcte?\n",
    "\n",
    "Sí es pot demostrar que algun és correcte si compleix matemàticament la seva definició, un exemple pot ser el teorema petit de fermat, que indica si un nombre es primer o no directament transformant la fòrmula a algorisme. Quan un algorisme és correcte, significa que compleix el que ha de fer.\n",
    "\n",
    "+ T2.2 Quins són els errors més difícils de detectar automàticament (per un debugger o similar)?\n",
    "\n",
    "Els erros més difícils de detectar són els de Semàntica estàtica, ja que python al ser un llengautge no tipat, fa que els IDE (Integrated Development environment), tinguin més dificultat per trobar-los. Aquests errors compleixen la semàntica de llenguatge com per exepmle <variable><operador><variable> el que passa que no compleix les restriccions entre tipus de vairables, com podria ser l'exemple, (323)+\"abc\", que dóna error ja que no es pot sumar una string a un enter.\n",
    "\n",
    "+ T2.3 Perquè a Python mai no anomenarem a una variable \"list\"?\n",
    "\n",
    "Perquè és una paraula reservada del llenguatge (reserved keywords), en aquest cas list es pot fer servir com a parala genèrica per crear una llista.\n",
    "list(range(4))\n",
    "\n",
    "\n",
    "+ T2.4 Té sentit un algorisme n! amb n=30?\n",
    "\n",
    "No, no té sentit, perquè el cost d'un algirsme factorial crex de manera molt ràpida, a partir de 20! són inútils.\n",
    "20! = 2432902008176640000"
   ]
  },
  {
   "cell_type": "markdown",
   "id": "55c702f1",
   "metadata": {
    "id": "55c702f1"
   },
   "source": [
    "### Pregunta T3 (1 punt)\n",
    "\n",
    "Perquè diem que aquest codi no és eficient? explica-ho de manera precisa i detallada:\n",
    "\n",
    "    def fib1(n):\n",
    "        if n==0:\n",
    "            return n\n",
    "        if n==1:\n",
    "            return n\n",
    "        else:\n",
    "            return fib1(n-1) + fib1(n-2)\n",
    "\n",
    "Aquest algorisme no és eficient ja que per calcular l'enèssim nombre de fibonacci calcula tots els anteriors amb crides recursives.\n",
    "\n",
    "Per exemple per calcular fib(3) ha de fer:\n",
    "\n",
    "fib(3) = fib(2) + fib(1) = 2+1 = 3\n",
    "fib(2) = fib(1) +fib(1) = 1+1 = 2 \n",
    "fib=(1) = fib(1) + fib(0) = 1 + 0 =1\n",
    "\n",
    "És a dir que perquè calculi aquest nombre de fibonacci necesita fer n^2 crides recursives, llavors la seva complexitat és O(n^2)."
   ]
  },
  {
   "cell_type": "markdown",
   "id": "b51f7960",
   "metadata": {
    "id": "b51f7960"
   },
   "source": [
    "### Pregunta T4 (1.5 punts)\n",
    "\n",
    "En la cerca de la part de text més similar a un patró donat, tenim les matrius de distàncies i de moviments següents:"
   ]
  },
  {
   "cell_type": "code",
   "execution_count": null,
   "id": "18a997ca",
   "metadata": {
    "id": "18a997ca"
   },
   "outputs": [],
   "source": [
    "levenstheinsmithwaterman(\"VAR\", \"BERRVIPVA\", dlt = 2, insr = 2, subs = 1)\n",
    "\n",
    " Les matrius de resultats seran:\n",
    " [['X', 'I', 'I', 'I', 'I', 'I', 'I', 'I', 'I', 'I'],\n",
    "  ['D', 'S', 'S', 'S', 'S', 'C', 'S', 'S', 'C', 'S'],\n",
    "  ['D', 'S', 'S', 'S', 'S', 'S', 'S', 'S', 'S', 'C'],\n",
    "  ['D', 'S', 'S', 'C', 'C', 'S', 'S', 'S', 'S', 'D']]\n",
    "  \n",
    "  i\n",
    "  \n",
    " [[0, 0, 0, 0, 0, 0, 0, 0, 0, 0],\n",
    "  [2, 1, 1, 1, 1, 0, 1, 1, 0, 1],\n",
    "  [4, 3, 2, 2, 2, 2, 1, 2, 2, 0],\n",
    "  [6, 5, 4, 2, 2, 3, 3, 2, 3, 2]]\n"
   ]
  },
  {
   "cell_type": "markdown",
   "id": "0fa96a05",
   "metadata": {
    "id": "0fa96a05"
   },
   "source": [
    "Descriu quatre possibles solucions òptimes i com obtindries el text més curt de mínima distància, anant enrera amb la matriu de moviments.\n",
    "\n",
    "El que faria seria anar a la matriu de distància i trobar el mínim nombre o els mínims nombres de la fila. LLavors el que faria seria mirar el matíx index, que a la matriu de moviments i trobaria el camí de menys cost a la vegada que veig les operacions que s'estan fent.\n",
    "\n",
    "En aquest cas hi han quatre situacions, on la distància és mínima, que és quan és igual a 2.\n",
    "\n",
    "DEscric els casos.\n",
    "\n",
    "I el text de més curta distància seria  VA perquè si fem una sola deletion al patró ja el tenim dins."
   ]
  },
  {
   "cell_type": "markdown",
   "id": "953c2e29",
   "metadata": {
    "id": "953c2e29"
   },
   "source": [
    "## Part pràctica"
   ]
  },
  {
   "cell_type": "markdown",
   "id": "78807d34",
   "metadata": {
    "id": "78807d34"
   },
   "source": [
    "### Pregunta P1 (1.5 punts)\n",
    "\n",
    "Diem que dues cadenes de caràcters a i b són isomorfes si les ocurrències de cada caràcter de la cadena a es poden reemplaçar per un caràcter de manera que la convertim en la cadena b, i viceversa.\n",
    "\n",
    "Per exemple, les dues cadenes:\n",
    "\n",
    "+ a = \"Teulades\"\n",
    "+ b = \"Piscines\" \n",
    "\n",
    "són isomorfes perquè podem establir aquestes correspondències:\n",
    "\n",
    "T <=> P, E <=> I, U <=> S, L <=> C, D <=> N\n",
    "\n",
    "cal tenir en compte que un caràcter pot tenir una correspondència amb si mateix, però dos caràcters diferents no poden correspondre a un mateix caràcter.\n",
    "\n",
    "Escriu una funció anomenada \"isomorf\" tal que, donades dues cadenes de caràcters d'entrada, retorni \"True\" si són isomorfes i \"False\" en cas contrari.\n",
    "\n",
    "Fes servir la plantilla següent:"
   ]
  },
  {
   "cell_type": "code",
   "execution_count": null,
   "id": "63fd68ad",
   "metadata": {
    "id": "63fd68ad"
   },
   "outputs": [
    {
     "name": "stdout",
     "output_type": "stream",
     "text": [
      "C\n",
      "B\n",
      "A\n",
      "A\n",
      "B\n",
      "C\n"
     ]
    }
   ],
   "source": [
    "def isomorf(cadX, cadY):\n",
    "    \"\"\"\n",
    "    Aquesta funció comprova si dues cadenes son isomorfes\n",
    "    \n",
    "    Parameters\n",
    "    ----------\n",
    "    cadX: String\n",
    "    cadY: String\n",
    "    \n",
    "    Returns\n",
    "    -------\n",
    "    esIsomorf: bool\n",
    "    \"\"\"\n",
    "    llista_lletres = []\n",
    "    llista_cadX = []\n",
    "    for i in range(0, len(cadX) +1 ):\n",
    "        if not cadX[i] in llista_lletres:\n",
    "            llista_lletres\n",
    "        \n",
    "    \n",
    "    \n",
    "    \n",
    "    #return esIsomorfç\n",
    "isomorf(\"CBAABC\",\"DEFFED\")"
   ]
  },
  {
   "cell_type": "code",
   "execution_count": null,
   "id": "cWZP32qU4fxf",
   "metadata": {
    "id": "cWZP32qU4fxf"
   },
   "outputs": [],
   "source": [
    "assert isomorf('CBAABC', 'DEFFED') == True\n",
    "assert isomorf('XXX', 'YYY') == True\n",
    "assert isomorf('RAMBUNCTIOUSLY', 'THERMODYNAMICS') == True\n",
    "assert isomorf('XXY', 'XYY') == False\n",
    "assert isomorf('ABAB', 'CD') == False"
   ]
  },
  {
   "cell_type": "markdown",
   "id": "0794c841",
   "metadata": {
    "id": "0794c841"
   },
   "source": [
    "### Pregunta P2 (0.5 punts)\n",
    "\n",
    "Completa els punts suspensius (...) del següent codi:\n",
    "\n",
    "    import random\n",
    "    def ...(num, test_count):\n",
    "        if num == 1:\n",
    "            return False\n",
    "        for x in range(...):\n",
    "            val = random.randint(1, num-1)     \n",
    "            if pow(val, num-1) % num != 1:      \n",
    "                return False                   \n",
    "        return True\n",
    "\n",
    "a quin teorema correspon? què ens diu aquest teorema?\n",
    "\n",
    "Correspon al Petit Teorema de Fermat, aquest teorema ens diu que si un nombre es primer llavors per qualsevol nombre 1 <= a <= num-1 ha de complir que a^(p-1) % p = 1. El que passa que aquest teorema asegura que es primer si provem tots els números, llavors ens diu que si un nombre és primer per a haver provat 100 casos d'A per exemple.\n",
    "\n",
    "La probabilitat de que un nombre no primer copmleixi aquest teorema amb 100 casos es de 2^-100, que es molt baixa, pero existeixen, qeu són els nombres de carmichael.\n",
    "\n"
   ]
  },
  {
   "cell_type": "markdown",
   "id": "888bf6fd",
   "metadata": {
    "id": "888bf6fd"
   },
   "source": [
    "### Pregunta P3 (1 punt)\n",
    "\n",
    "Fes una funció que trobi el nombre n més gran tal que compleixi les tres condicions següents:\n",
    "\n",
    "+ 1. n < 10.000\n",
    "+ 2. n = m * m per a algun m\n",
    "+ 3. n = k! + 1 per a algun k\n",
    "\n",
    "Utilitza la plantilla següent (et donem una part feta també)"
   ]
  },
  {
   "cell_type": "code",
   "execution_count": 36,
   "id": "4a545092",
   "metadata": {
    "executionInfo": {
     "elapsed": 225,
     "status": "ok",
     "timestamp": 1672504610600,
     "user": {
      "displayName": "Jacobo Martinez",
      "userId": "18392211941816755617"
     },
     "user_tz": -60
    },
    "id": "4a545092"
   },
   "outputs": [
    {
     "name": "stdout",
     "output_type": "stream",
     "text": [
      "5041\n"
     ]
    }
   ],
   "source": [
    "import math\n",
    "def numero_3_condicions():\n",
    "    \"\"\"\n",
    "    Aquesta funció troba els numeros que compleixen les tres condicions demanades\n",
    "    \n",
    "    Returns\n",
    "    -------\n",
    "    buscat: int\n",
    "    \"\"\"\n",
    "    llista_factorials = []\n",
    "    i = 1\n",
    "    while (math.factorial(i)+ 1) < 10000:\n",
    "        llista_factorials.append(math.factorial(i)+ 1)\n",
    "        i += 1\n",
    "\n",
    "    for i in llista_factorials:\n",
    "        if math.sqrt(i) != int(((math.sqrt(i)))):\n",
    "            llista_factorials.remove(i)\n",
    "\n",
    "    return max(llista_factorials)\n",
    "\n",
    "print(numero_3_condicions())   \n",
    "\n"
   ]
  },
  {
   "cell_type": "code",
   "execution_count": 37,
   "id": "511126dc",
   "metadata": {
    "colab": {
     "base_uri": "https://localhost:8080/"
    },
    "executionInfo": {
     "elapsed": 228,
     "status": "ok",
     "timestamp": 1672504611851,
     "user": {
      "displayName": "Jacobo Martinez",
      "userId": "18392211941816755617"
     },
     "user_tz": -60
    },
    "id": "511126dc",
    "outputId": "1edce801-0811-4b0b-e456-e6ae42a051bb"
   },
   "outputs": [],
   "source": [
    "assert numero_3_condicions() == 5041"
   ]
  },
  {
   "cell_type": "markdown",
   "id": "7c6d8137",
   "metadata": {
    "id": "7c6d8137"
   },
   "source": [
    "### Pregunta P4 (2 punts)\n",
    "\n",
    "Escriu una funció que donada una matriu d'entrada en retorni una altra de la mateixa mida però en la que cada casella pren per valor el promig del valor original i del valor dels seus veins. S'entén per veí qualsevol casella que comparteixi una aresta.\n",
    "\n",
    "Calcula l'ordre de complexitat O gran. No cal que ho facis de manera gaire detallada, pots donar el valor i justificar-lo breument.\n",
    "\n",
    "Atenció: has de tenir en compte tres casos: les caselles de la cantonada, les caselles interiors i les caselles del canto.\n",
    "\n",
    "També vigila que en inicialitzar la matriu resultat no estiguis fent còpies de la mateixa fila per referència, i et trobéssis que si canvies un valor en una fila canvia a totes les files.\n",
    "\n",
    "A continuació s'il.lustra el problema i es dóna un plantilla per al codi."
   ]
  },
  {
   "cell_type": "markdown",
   "id": "f1271aae",
   "metadata": {
    "id": "f1271aae"
   },
   "source": [
    "<h3>Mostra dels diferents elements a tenir en compte</h3>\n",
    "<table>\n",
    "<tbody>\n",
    "  <tr>\n",
    "    <td style=\"background-color:Orange\">cantonada</td>\n",
    "    <td style=\"background-color:Yellow\">vei</td>\n",
    "    <td></td>\n",
    "    <td></td>\n",
    "    <td></td>\n",
    "  </tr>\n",
    "  <tr>\n",
    "    <td style=\"background-color:Yellow\">vei</td>\n",
    "    <td></td>\n",
    "    <td style=\"background-color:Cyan\">vei</td>\n",
    "    <td></td>\n",
    "    <td></td>\n",
    "  </tr>\n",
    "  <tr>\n",
    "    <td></td>\n",
    "    <td style=\"background-color:Cyan\">vei</td>\n",
    "    <td style=\"background-color:CornflowerBlue\">interior</td>\n",
    "    <td style=\"background-color:Cyan\">vei</td>\n",
    "    <td></td>\n",
    "  </tr>\n",
    "  <tr>\n",
    "    <td></td>\n",
    "    <td></td>\n",
    "    <td style=\"background-color:Cyan\">vei</td>\n",
    "    <td></td>\n",
    "    <td></td>\n",
    "  </tr>\n",
    "  <tr>\n",
    "    <td></td>\n",
    "    <td></td>\n",
    "    <td></td>\n",
    "    <td></td>\n",
    "    <td></td>\n",
    "  </tr>\n",
    "  <tr>\n",
    "    <td></td>\n",
    "    <td></td>\n",
    "    <td style=\"background-color:Aquamarine\">vei</td>\n",
    "    <td></td>\n",
    "    <td></td>\n",
    "  </tr>\n",
    "  <tr>\n",
    "    <td></td>\n",
    "    <td style=\"background-color:Aquamarine\">vei</td>\n",
    "    <td style=\"background-color:Green\">canto</td>\n",
    "    <td style=\"background-color:Aquamarine\">vei</td>\n",
    "    <td></td>\n",
    "  </tr>\n",
    "</tbody>\n",
    "</table>\n",
    "\n",
    "<h3>Un exemple de matriu d'entrada</h3>\n",
    "<table>\n",
    "<tbody>\n",
    "  <tr>\n",
    "    <td>1</td>\n",
    "    <td>2</td>\n",
    "    <td>3</td>\n",
    "    <td>4</td>\n",
    "  </tr>\n",
    "  <tr>\n",
    "    <td>5</td>\n",
    "    <td>6</td>\n",
    "    <td>7</td>\n",
    "    <td>8</td>\n",
    "  </tr>\n",
    "  <tr>\n",
    "    <td>9</td>\n",
    "    <td>10</td>\n",
    "    <td>11</td>\n",
    "    <td>12</td>\n",
    "  </tr>\n",
    "</tbody>\n",
    "</table>\n",
    "\n",
    "<h3>La matriu d'exemple, transformada</h3>\n",
    "<table>\n",
    "<tbody>\n",
    "  <tr>\n",
    "    <td>2.66</td>\n",
    "    <td> 3.0</td>\n",
    "    <td>4.0</td>\n",
    "    <td>5.0</td>\n",
    "  </tr>\n",
    "  <tr>\n",
    "    <td>5.25</td>\n",
    "    <td>6.0</td>\n",
    "    <td>7.0</td>\n",
    "    <td>7.75</td>\n",
    "  </tr>\n",
    "  <tr>\n",
    "    <td>8.0</td>\n",
    "    <td>9.0</td>\n",
    "    <td>10.0</td>\n",
    "    <td>10.33</td>\n",
    "  </tr>\n",
    "</tbody>\n",
    "</table>\n",
    "\n",
    "\n"
   ]
  },
  {
   "cell_type": "code",
   "execution_count": 75,
   "id": "8d2c9220",
   "metadata": {
    "id": "8d2c9220"
   },
   "outputs": [
    {
     "name": "stdout",
     "output_type": "stream",
     "text": [
      "[[33, 2, 3, 33], [33, 6, 7, 33], [9, 10, 11, 12]]\n"
     ]
    }
   ],
   "source": [
    "def processar_matriu(llista_de_llistes):\n",
    "    \"\"\"\n",
    "    Aquest programa retorna una matriu de la mateixa mida que la que rep per paràmetre, \n",
    "    amb els valors transformats: cada element passa a tenir com a valor el promig del seu \n",
    "    valor original i del valors dels seus veins.\n",
    "    Es consideren veins aquells elements que comparteixen una aresta amb la casella.\n",
    "       \n",
    "    Parameters\n",
    "    ----------\n",
    "    llista_de_llistes: una matriu no buida d'enters  o reals expressada com una llista de llistes\n",
    "    \n",
    "    Returns\n",
    "    -------\n",
    "    matriu_transformada: una matriu no buida d'enters o reals expressada com una llista de llistes\n",
    "    \"\"\"\n",
    "    matriu_transformada = llista_de_llistes[:][:]\n",
    "    llargada = len(llista_de_llistes[:]) \n",
    "    amplada = len(llista_de_llistes[0]) \n",
    "    for i in range(0,llargada -1,):\n",
    "        for j in range(0, amplada, amplada-1):\n",
    "            matriu_transformada[i][j] = 33\n",
    "    return matriu_transformada\n",
    "\n",
    "print(processar_matriu([[1,2,3,4],[5,6,7,8],[9,10,11,12]]))"
   ]
  },
  {
   "cell_type": "code",
   "execution_count": 53,
   "id": "7f59e7a1",
   "metadata": {
    "id": "7f59e7a1"
   },
   "outputs": [
    {
     "name": "stdout",
     "output_type": "stream",
     "text": [
      "0\n"
     ]
    },
    {
     "ename": "AssertionError",
     "evalue": "",
     "output_type": "error",
     "traceback": [
      "\u001b[1;31m---------------------------------------------------------------------------\u001b[0m",
      "\u001b[1;31mAssertionError\u001b[0m                            Traceback (most recent call last)",
      "Cell \u001b[1;32mIn[53], line 1\u001b[0m\n\u001b[1;32m----> 1\u001b[0m \u001b[38;5;28;01massert\u001b[39;00m processar_matriu([[\u001b[38;5;241m1\u001b[39m,\u001b[38;5;241m2\u001b[39m,\u001b[38;5;241m3\u001b[39m,\u001b[38;5;241m4\u001b[39m],[\u001b[38;5;241m5\u001b[39m,\u001b[38;5;241m6\u001b[39m,\u001b[38;5;241m7\u001b[39m,\u001b[38;5;241m8\u001b[39m],[\u001b[38;5;241m9\u001b[39m,\u001b[38;5;241m10\u001b[39m,\u001b[38;5;241m11\u001b[39m,\u001b[38;5;241m12\u001b[39m]])\u001b[38;5;241m==\u001b[39m[[\u001b[38;5;241m2.6666666666666665\u001b[39m, \u001b[38;5;241m3.0\u001b[39m, \u001b[38;5;241m4.0\u001b[39m, \u001b[38;5;241m5.0\u001b[39m], [\u001b[38;5;241m5.25\u001b[39m, \u001b[38;5;241m6.0\u001b[39m, \u001b[38;5;241m7.0\u001b[39m, \u001b[38;5;241m7.75\u001b[39m], [\u001b[38;5;241m8.0\u001b[39m, \u001b[38;5;241m9.0\u001b[39m, \u001b[38;5;241m10.0\u001b[39m, \u001b[38;5;241m10.333333333333334\u001b[39m]]\n\u001b[0;32m      2\u001b[0m \u001b[38;5;28;01massert\u001b[39;00m processar_matriu([[\u001b[38;5;241m3\u001b[39m,\u001b[38;5;241m3\u001b[39m,\u001b[38;5;241m3\u001b[39m],[\u001b[38;5;241m0\u001b[39m,\u001b[38;5;241m0\u001b[39m,\u001b[38;5;241m0\u001b[39m],[\u001b[38;5;241m1\u001b[39m,\u001b[38;5;241m1\u001b[39m,\u001b[38;5;241m1\u001b[39m]])\u001b[38;5;241m==\u001b[39m[[\u001b[38;5;241m2.0\u001b[39m, \u001b[38;5;241m2.25\u001b[39m, \u001b[38;5;241m2.0\u001b[39m], [\u001b[38;5;241m1.0\u001b[39m, \u001b[38;5;241m0.8\u001b[39m, \u001b[38;5;241m1.0\u001b[39m], [\u001b[38;5;241m0.6666666666666666\u001b[39m, \u001b[38;5;241m0.75\u001b[39m, \u001b[38;5;241m0.6666666666666666\u001b[39m]]\n",
      "\u001b[1;31mAssertionError\u001b[0m: "
     ]
    }
   ],
   "source": [
    "assert processar_matriu([[1,2,3,4],[5,6,7,8],[9,10,11,12]])==[[2.6666666666666665, 3.0, 4.0, 5.0], [5.25, 6.0, 7.0, 7.75], [8.0, 9.0, 10.0, 10.333333333333334]]\n",
    "assert processar_matriu([[3,3,3],[0,0,0],[1,1,1]])==[[2.0, 2.25, 2.0], [1.0, 0.8, 1.0], [0.6666666666666666, 0.75, 0.6666666666666666]]"
   ]
  }
 ],
 "metadata": {
  "colab": {
   "provenance": []
  },
  "kernelspec": {
   "display_name": "Python 3",
   "language": "python",
   "name": "python3"
  },
  "language_info": {
   "codemirror_mode": {
    "name": "ipython",
    "version": 3
   },
   "file_extension": ".py",
   "mimetype": "text/x-python",
   "name": "python",
   "nbconvert_exporter": "python",
   "pygments_lexer": "ipython3",
   "version": "3.13.0"
  }
 },
 "nbformat": 4,
 "nbformat_minor": 5
}
