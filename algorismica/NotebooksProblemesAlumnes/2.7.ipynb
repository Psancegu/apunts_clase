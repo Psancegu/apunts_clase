{
 "cells": [
  {
   "cell_type": "markdown",
   "metadata": {
    "id": "fCvx4YrOPNVa"
   },
   "source": [
    "# Capítol 2 - Algorismes bàsics de Python"
   ]
  },
  {
   "cell_type": "markdown",
   "metadata": {
    "id": "CwpT7yCCPNVo"
   },
   "source": [
    "### 2.7 Divisors"
   ]
  },
  {
   "cell_type": "markdown",
   "metadata": {},
   "source": [
    "Escriu una funció en què, donat un nombre menor que 30, retorni tots els seus divisors."
   ]
  },
  {
   "cell_type": "code",
   "execution_count": 3,
   "metadata": {
    "id": "msilhpuJPNVo"
   },
   "outputs": [],
   "source": [
    "def divisors(num):\n",
    "    divisors = []\n",
    "    for i in range(1,num +1):\n",
    "        if num % i == 0:\n",
    "            divisors.append(i)\n",
    "    \n",
    "    return divisors\n",
    "\n",
    "\n",
    "    \"\"\"\n",
    "    Aquesta funció retorna la llista amb els seus divisors\n",
    "    \n",
    "    Parameters\n",
    "    ----------\n",
    "    num: int\n",
    "    \n",
    "    Returns\n",
    "    -------\n",
    "    divisors: list\n",
    "    \"\"\""
   ]
  },
  {
   "cell_type": "code",
   "execution_count": 4,
   "metadata": {
    "id": "E7ZBqLXvPNVo"
   },
   "outputs": [],
   "source": [
    "assert divisors(8) == [1,2,4,8]\n",
    "assert divisors(5) == [1,5]\n",
    "assert divisors(210) == [1, 2, 3, 5, 6, 7, 10, 14, 15, 21, 30, 35, 42, 70, 105, 210]"
   ]
  }
 ],
 "metadata": {
  "colab": {
   "collapsed_sections": [],
   "name": "2.7.ipynb",
   "provenance": []
  },
  "kernelspec": {
   "display_name": "Python 3",
   "language": "python",
   "name": "python3"
  },
  "language_info": {
   "codemirror_mode": {
    "name": "ipython",
    "version": 3
   },
   "file_extension": ".py",
   "mimetype": "text/x-python",
   "name": "python",
   "nbconvert_exporter": "python",
   "pygments_lexer": "ipython3",
   "version": "3.11.2"
  }
 },
 "nbformat": 4,
 "nbformat_minor": 1
}
