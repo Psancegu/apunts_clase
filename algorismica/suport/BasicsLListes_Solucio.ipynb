{
 "cells": [
  {
   "cell_type": "markdown",
   "metadata": {
    "id": "qViGmDSS-mnf"
   },
   "source": [
    "<div id=\"capcalera\">\n",
    "    \n",
    "<p>Aquest notebook forma part dels continguts teòrics dels problemes de l'assignatura d'<strong>Algorísmica</strong> del Grau d'Enginyeria Informàtica a la <a href=\"https://mat.ub.edu\">Facultat de Matemàtiques i Informàtica</a> de la <a href=\"https://www.ub.edu\">Universitat de Barcelona</a></p>\n",
    "\n",
    "<p>Els problemes s'ofereixen sota llicència <a href=\"https://creativecommons.org/licenses/by-nc-nd/3.0/us/legalcode\">CC-BY-NC-ND license</a>, i el codi sota <a href=\"https://opensource.org/licenses/MIT\">Llicència MIT</a>.</p>\n",
    "\n",
    "</div>"
   ]
  },
  {
   "cell_type": "markdown",
   "metadata": {
    "id": "DoEAQmmh-mni"
   },
   "source": [
    "# <span class=\"tema\">(Bàsics Python)</span> Llistes - Solucions"
   ]
  },
  {
   "cell_type": "markdown",
   "metadata": {
    "id": "W__ZNIPx-mnj"
   },
   "source": [
    "Aquest fitxer mostra les solucions als problemes BasicsLListes.ipynb"
   ]
  },
  {
   "cell_type": "markdown",
   "metadata": {
    "id": "gWsHt0d1-mnj"
   },
   "source": [
    "<p class=\"exercici\">Exercici 1: LLista de zeros</p>\n",
    "\n",
    "Escriu una funció que donat un nombre $n$ crei una llista amb n zeros. No pots fer cap iteració."
   ]
  },
  {
   "cell_type": "code",
   "execution_count": null,
   "metadata": {
    "id": "YU0fBFKd-mnj",
    "outputId": "53c402a9-e45f-4ae0-aea1-8af08e1058fb"
   },
   "outputs": [
    {
     "data": {
      "text/plain": [
       "[0, 0, 0, 0]"
      ]
     },
     "execution_count": 2,
     "metadata": {
      "tags": []
     },
     "output_type": "execute_result"
    }
   ],
   "source": [
    "def zeros(n):\n",
    "    return [0] * n\n",
    "\n",
    "\n",
    "zeros(4)"
   ]
  },
  {
   "cell_type": "markdown",
   "metadata": {
    "id": "Zx-jvop5-mnm"
   },
   "source": [
    "<p class=\"exercici\">Exercici 2: LLista selectiva</p>\n",
    "\n",
    "Escriu una funció que donat un nombre $n$ i una llista, retorni una segona llista amb els elements de la llista inicials que són estrictament menors al nombre $n$ donat. "
   ]
  },
  {
   "cell_type": "code",
   "execution_count": null,
   "metadata": {
    "id": "sz102RA--mnm",
    "outputId": "efa090ba-6376-4ca4-d361-d76fe5404532"
   },
   "outputs": [
    {
     "data": {
      "text/plain": [
       "[1, 5, 3, 2, 8, 6]"
      ]
     },
     "execution_count": 36,
     "metadata": {
      "tags": []
     },
     "output_type": "execute_result"
    }
   ],
   "source": [
    "def llistaSelectiva(llista, n):\n",
    "    novaLlista = []\n",
    "    for i in llista:\n",
    "        if i < n:\n",
    "            novaLlista.append(i)\n",
    "    return novaLlista\n",
    "\n",
    "\n",
    "llistaSelectiva([1, 15, 5, 3, 2, 12, 99, 8, 6], 10)\n"
   ]
  },
  {
   "cell_type": "markdown",
   "metadata": {
    "id": "9t8SPYEl-mnn"
   },
   "source": [
    "<p class=\"exercici\">Exercici 3: LLista selectiva ordenada</p>\n",
    "\n",
    "Aquest exercici requereix coneixements d'*ordenació i cerca*.\n",
    "\n",
    "Escriu una funció que donat un nombre $n$ i una llista ordenada, retorni una segona llista amb els elements de la llista inicials que són estrictament menors al nombre $n$ donat. "
   ]
  },
  {
   "cell_type": "code",
   "execution_count": null,
   "metadata": {
    "id": "gofyg5QS-mno",
    "outputId": "635c8d15-c5b4-4a4a-cf8c-8a226993a987"
   },
   "outputs": [
    {
     "data": {
      "text/plain": [
       "[11, 12]"
      ]
     },
     "execution_count": 80,
     "metadata": {
      "tags": []
     },
     "output_type": "execute_result"
    }
   ],
   "source": [
    "def llistaSelectivaOrd(llista, n):\n",
    "    posicio = recbinsearch(n, llista, 0, len(llista) - 1)\n",
    "    return llista[posicio:len(llista)]\n",
    "\n",
    "\n",
    "def recbinsearch(x, nums, low, high):\n",
    "    if low >= high:  # fem que retorni si només queda un\n",
    "        if nums[low] > x:\n",
    "            return low\n",
    "        else:\n",
    "            return low + 1  # no volem incloure el num trobat\n",
    "    mid = (low + high) // 2\n",
    "    items = nums[mid]\n",
    "    if items == x:\n",
    "        return mid + 1\n",
    "    elif x < items:\n",
    "        return recbinsearch(x, nums, low, mid-1)\n",
    "    else:\n",
    "        return recbinsearch(x, nums, mid+1, high)\n",
    "\n",
    "\n",
    "llistaSelectivaOrd([10, 11, 12], 10)\n"
   ]
  },
  {
   "cell_type": "code",
   "execution_count": null,
   "metadata": {
    "id": "EfBzugc3-mno",
    "outputId": "aa750802-547c-4758-bfd3-cb04e126ec8d"
   },
   "outputs": [
    {
     "data": {
      "text/plain": [
       "[]"
      ]
     },
     "execution_count": 82,
     "metadata": {
      "tags": []
     },
     "output_type": "execute_result"
    }
   ],
   "source": [
    "llistaSelectivaOrd([1, 2, 3], 10)"
   ]
  },
  {
   "cell_type": "code",
   "execution_count": null,
   "metadata": {
    "id": "5eBkG3_q-mnp",
    "outputId": "24569e90-a125-4908-94aa-b60a555feacb"
   },
   "outputs": [
    {
     "data": {
      "text/plain": [
       "[11, 12]"
      ]
     },
     "execution_count": 81,
     "metadata": {
      "tags": []
     },
     "output_type": "execute_result"
    }
   ],
   "source": [
    "llistaSelectivaOrd([5, 8, 11, 12], 10)"
   ]
  },
  {
   "cell_type": "code",
   "execution_count": null,
   "metadata": {
    "id": "8t7vdmqe-mnq",
    "outputId": "9c7c936a-f907-4b86-e187-94b60f0b4a99"
   },
   "outputs": [
    {
     "data": {
      "text/plain": [
       "[11, 12]"
      ]
     },
     "execution_count": 84,
     "metadata": {
      "tags": []
     },
     "output_type": "execute_result"
    }
   ],
   "source": [
    "llistaSelectivaOrd([8, 11, 12], 10)"
   ]
  },
  {
   "cell_type": "code",
   "execution_count": null,
   "metadata": {
    "id": "v5WMQzbK-mnq",
    "outputId": "21007385-b70d-49e2-9878-62557202404f"
   },
   "outputs": [
    {
     "data": {
      "text/plain": [
       "[14, 16, 20]"
      ]
     },
     "execution_count": 83,
     "metadata": {
      "tags": []
     },
     "output_type": "execute_result"
    }
   ],
   "source": [
    "llistaSelectivaOrd([14, 16, 20], 10)"
   ]
  },
  {
   "cell_type": "markdown",
   "metadata": {
    "id": "_9OLW-Rr-mnq"
   },
   "source": [
    "<p class=\"exercici\">Exercici 4: Selecció d'una llista</p>\n",
    "\n",
    "Escriu una funció que donada una llista retorni una tupla amb dues llistes: una amb els elements senars de la llista i l'altra amb els elements parells de la llista. No pots fer cap iteració."
   ]
  },
  {
   "cell_type": "code",
   "execution_count": null,
   "metadata": {
    "id": "-yO9r-Nd-mnr",
    "outputId": "64ccff8b-2a01-47c3-b405-236ded4f88be"
   },
   "outputs": [
    {
     "data": {
      "text/plain": [
       "(['un', 'dos', 'tres', 'quatre'], [1, 2, 3, 4])"
      ]
     },
     "execution_count": 4,
     "metadata": {
      "tags": []
     },
     "output_type": "execute_result"
    }
   ],
   "source": [
    "def splitMagic(llista):\n",
    "    return(llista[::2], llista[1::2])\n",
    "\n",
    "\n",
    "splitMagic([\"un\", 1, \"dos\", 2, \"tres\", 3, \"quatre\", 4])\n"
   ]
  },
  {
   "cell_type": "markdown",
   "metadata": {
    "id": "Yi2rSHXE-mnr"
   },
   "source": [
    "<p class=\"exercici\">Exercici 5: Matriu</p>\n",
    "\n",
    "Escriu una funció que donats dos nombres $nfiles$ i $ncolumnes$ retorni una matriu de zeros amb nfiles files i ncolumnes columnes. Cal crear la matriu com una llista de llistes."
   ]
  },
  {
   "cell_type": "code",
   "execution_count": null,
   "metadata": {
    "id": "km-D3niD-mnr"
   },
   "outputs": [],
   "source": [
    "def generarMatriu(nfiles, ncolumnes):\n",
    "    matriu = []\n",
    "    for i in range(nfiles):\n",
    "        fila = []\n",
    "        for j in range(ncolumnes):\n",
    "            fila.append(0)\n",
    "        matriu.append(fila)\n",
    "    return matriu\n",
    "\n",
    "\n",
    "# ho podriem fer amb menys línies!\n",
    "def generarMatriu2(nfiles, ncolumnes):\n",
    "    matriu = []\n",
    "    for i in range(nfiles):\n",
    "        matriu.append([0] * ncolumnes)\n",
    "    return matriu\n"
   ]
  },
  {
   "cell_type": "code",
   "execution_count": null,
   "metadata": {
    "id": "G6hWYAno-mnr",
    "outputId": "d1860aad-0305-4bf9-eef8-e62a0c211db8"
   },
   "outputs": [
    {
     "name": "stdout",
     "output_type": "stream",
     "text": [
      "[[0, 0, 0, 0], [0, 0, 0, 0]]\n"
     ]
    }
   ],
   "source": [
    "mat1=generarMatriu(2, 4)\n",
    "print(mat1)"
   ]
  },
  {
   "cell_type": "code",
   "execution_count": null,
   "metadata": {
    "id": "akMeqsLZ-mns",
    "outputId": "750b3e15-2527-4fcd-ddff-37ce3f3349ab"
   },
   "outputs": [
    {
     "name": "stdout",
     "output_type": "stream",
     "text": [
      "[[0, 0, 0, 0], [0, 0, 0, 0]]\n"
     ]
    }
   ],
   "source": [
    "mat2=generarMatriu2(2, 4)\n",
    "print(mat2)"
   ]
  },
  {
   "cell_type": "code",
   "execution_count": null,
   "metadata": {
    "id": "sK4Y_wMJ-mns",
    "outputId": "8595fcba-2765-4ee3-966d-51aea9c598b3"
   },
   "outputs": [
    {
     "name": "stdout",
     "output_type": "stream",
     "text": [
      "[[0, 4, 0, 0], [0, 0, 0, 0]]\n"
     ]
    }
   ],
   "source": [
    "mat1[0][1] = 4\n",
    "print(mat1)"
   ]
  },
  {
   "cell_type": "code",
   "execution_count": null,
   "metadata": {
    "id": "vnliboY9-mnt",
    "outputId": "08b7098f-c85f-48b1-f1df-b6abea2acc59"
   },
   "outputs": [
    {
     "name": "stdout",
     "output_type": "stream",
     "text": [
      "[[0, 4, 0, 0], [0, 0, 0, 0]]\n"
     ]
    }
   ],
   "source": [
    "mat2[0][1] = 4\n",
    "print(mat2)"
   ]
  },
  {
   "cell_type": "markdown",
   "metadata": {
    "id": "sqBW2Xgb-mnt"
   },
   "source": [
    "<p class=\"exercici\">Exercici 6: Entrada en seqüència i càlculs sobre llistes</p>\n",
    "\n",
    "Escriu un programa que demani un número a l'usuari repetidament fins que aquest introdueixi -99. Quan hagi acabat d'introduir els números mostra per pantalla la suma dels nombres introduits, quants nombres s'han introduit i la mitjana aritmètica."
   ]
  },
  {
   "cell_type": "code",
   "execution_count": 2,
   "metadata": {
    "id": "Wlz7BJ2m-mnt",
    "outputId": "c28f2cbe-294a-472d-ac4e-22872262ed78"
   },
   "outputs": [
    {
     "name": "stdout",
     "output_type": "stream",
     "text": [
      "S'han introduit 4 nombres, amb una suma total de  142 i una mitjana aritmètica de 35.5\n"
     ]
    }
   ],
   "source": [
    "from statistics import mean\n",
    "\n",
    "\n",
    "def calculsLlista():\n",
    "    # inicialització\n",
    "    llista = []\n",
    "    i = int(input(\"Entra un número. -99 per acabar \"))\n",
    "    # iteració\n",
    "    while i != -99:\n",
    "        llista.append(i)\n",
    "        i = int(input(\"Entra un número. -99 per acabar \"))\n",
    "    print(\"S'han introduit\", len(llista), \"nombres, amb una suma total de \",\n",
    "          sum(llista), \"i una mitjana aritmètica de\", mean(llista))\n",
    "\n",
    "\n",
    "calculsLlista()\n"
   ]
  },
  {
   "cell_type": "markdown",
   "metadata": {
    "id": "8TvE8nUh-mnu"
   },
   "source": [
    "<p class=\"exercici\">Exercici 7: Entrada en seqüència i càlculs sobre llistes. Variant</p>\n",
    "\n",
    "Escriu un programa que demani un número a l'usuari repetidament fins que aquest introdueixi -99. Ves recopilant els nombres en una llista. Quan hagi acabat d'introduir els números mostra per pantalla el mínim i el màxim de la llista."
   ]
  },
  {
   "cell_type": "code",
   "execution_count": null,
   "metadata": {
    "id": "dBRSOloG-mnu",
    "outputId": "ec2c6f92-0a39-46e9-f925-6db2cf3e3486"
   },
   "outputs": [
    {
     "name": "stdout",
     "output_type": "stream",
     "text": [
      "Entra un número. -99 per acabar 1\n",
      "Entra un número. -99 per acabar -99\n",
      "El número màxim introduit és el 1 i el mínim el 1\n"
     ]
    }
   ],
   "source": [
    "def calculsLlista():\n",
    "    # inicialització\n",
    "    llista = []\n",
    "    i = int(input(\"Entra un número. -99 per acabar \"))\n",
    "    # iteració\n",
    "    while i != -99:\n",
    "        llista.append(i)\n",
    "        i = int(input(\"Entra un número. -99 per acabar \"))\n",
    "    print(\"El número màxim introduit és el\", max(llista), \"i el mínim el\",\n",
    "          min(llista))\n",
    "\n",
    "\n",
    "calculsLlista()\n"
   ]
  },
  {
   "cell_type": "markdown",
   "metadata": {
    "id": "re5WFr-O-mnu"
   },
   "source": [
    "<p class=\"exercici\">Exercici 8: Inici i final d'una llista</p>\n",
    "\n",
    "Escriu un programa que donada una llista en retorni una de nova amb només el primer i el darrer element de la llista."
   ]
  },
  {
   "cell_type": "code",
   "execution_count": null,
   "metadata": {
    "id": "_cjdtE2h-mnu",
    "outputId": "1f691225-fe9e-4b4a-c4d3-1028fe2229cf"
   },
   "outputs": [
    {
     "data": {
      "text/plain": [
       "[3, 10]"
      ]
     },
     "execution_count": 1,
     "metadata": {
      "tags": []
     },
     "output_type": "execute_result"
    }
   ],
   "source": [
    "def iniciFinal(llista):\n",
    "    return [llista[0], llista[-1]]\n",
    "\n",
    "\n",
    "iniciFinal([3, 6, 1, 9, 10])\n"
   ]
  },
  {
   "cell_type": "code",
   "execution_count": null,
   "metadata": {
    "id": "c6p7RjPu-mnu",
    "outputId": "21f42c05-026f-483e-99e6-52b35ffed192"
   },
   "outputs": [
    {
     "data": {
      "text/plain": [
       "[3, 3]"
      ]
     },
     "execution_count": 2,
     "metadata": {
      "tags": []
     },
     "output_type": "execute_result"
    }
   ],
   "source": [
    "iniciFinal([3])"
   ]
  },
  {
   "cell_type": "markdown",
   "metadata": {
    "id": "rdJP6KBy-mnu"
   },
   "source": [
    "<p class=\"exercici\">Exercici 9: Canviar les paraules d'ordre</p>\n",
    "\n",
    "Escriu una funció que donada una frase la retorni a l'usuari amb les paraules en ordre invers."
   ]
  },
  {
   "cell_type": "code",
   "execution_count": null,
   "metadata": {
    "id": "xeIXUbHQ-mnv",
    "outputId": "1c319f7c-17d2-4faa-dc67-d1debc455052"
   },
   "outputs": [
    {
     "data": {
      "text/plain": [
       "'Andreu dic Em'"
      ]
     },
     "execution_count": 6,
     "metadata": {
      "tags": []
     },
     "output_type": "execute_result"
    }
   ],
   "source": [
    "def ordreInvers(frase):\n",
    "    return ' '.join(frase.split()[::-1])\n",
    "\n",
    "\n",
    "ordreInvers(\"Em dic Andreu\")"
   ]
  }
 ],
 "metadata": {
  "colab": {
   "name": "BasicsLListes-Solucio.ipynb",
   "provenance": []
  },
  "kernelspec": {
   "display_name": "Python 3 (ipykernel)",
   "language": "python",
   "name": "python3"
  },
  "language_info": {
   "codemirror_mode": {
    "name": "ipython",
    "version": 3
   },
   "file_extension": ".py",
   "mimetype": "text/x-python",
   "name": "python",
   "nbconvert_exporter": "python",
   "pygments_lexer": "ipython3",
   "version": "3.9.4"
  }
 },
 "nbformat": 4,
 "nbformat_minor": 1
}
