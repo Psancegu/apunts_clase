{
 "cells": [
  {
   "cell_type": "markdown",
   "metadata": {
    "id": "t7I2Vq1m-wSg"
   },
   "source": [
    "<div id=\"capcalera\">\n",
    "    \n",
    "<p>Aquest notebook forma part dels continguts teòrics dels problemes de l'assignatura d'<strong>Algorísmica</strong> del Grau d'Enginyeria Informàtica a la <a href=\"https://mat.ub.edu\">Facultat de Matemàtiques i Informàtica</a> de la <a href=\"https://www.ub.edu\">Universitat de Barcelona</a></p>\n",
    "\n",
    "<p>Els problemes s'ofereixen sota llicència <a href=\"https://creativecommons.org/licenses/by-nc-nd/3.0/us/legalcode\">CC-BY-NC-ND license</a>, i el codi sota <a href=\"https://opensource.org/licenses/MIT\">Llicència MIT</a>.</p>\n",
    "\n",
    "</div>"
   ]
  },
  {
   "cell_type": "markdown",
   "metadata": {
    "id": "49d3MEDP-wSj"
   },
   "source": [
    "# <span class=\"tema\">(Bàsics Python)</span> List Comprehensions - Solucions"
   ]
  },
  {
   "cell_type": "markdown",
   "metadata": {
    "id": "4dm_5omL-wSk"
   },
   "source": [
    "Aquest fitxer mostra les solucions als problemes BasicsListComprehensions.ipynb"
   ]
  },
  {
   "cell_type": "markdown",
   "metadata": {
    "id": "lsIFEOZT-wSk"
   },
   "source": [
    "<p class=\"exercici\">Exercici 1: Matriu amb List Comprehensions</p>\n",
    "\n",
    "Escriu una funció que donats dos nombres $nfiles$ i $ncolumnes$ retorni una matriu de zeros amb nfiles files i ncolumnes columnes. Cal crear la matriu com una llista de llistes **amb una list comprehension**. "
   ]
  },
  {
   "cell_type": "code",
   "execution_count": null,
   "metadata": {
    "id": "0LYDW-Ou-wSl"
   },
   "outputs": [],
   "source": [
    "# això no funcionarà... perquè?\n",
    "\n",
    "\n",
    "def generarMatriu3(nfiles, ncolumnes):\n",
    "    return [[0] * ncolumnes] * nfiles"
   ]
  },
  {
   "cell_type": "markdown",
   "metadata": {
    "id": "3tEvKQZx-wSl"
   },
   "source": [
    "L'operador de multiplicació còpia per referència, quan treballa sobre variables no primitives. Si a la matriu 3 fem algun canvi en un element afectarà a altres elements."
   ]
  },
  {
   "cell_type": "code",
   "execution_count": null,
   "metadata": {
    "id": "nIdOKYzg-wSl",
    "outputId": "b763b756-2a17-4890-95c5-2f52d0e69de9"
   },
   "outputs": [
    {
     "name": "stdout",
     "output_type": "stream",
     "text": [
      "[[0, 0, 0, 0], [0, 0, 0, 0]]\n",
      "*****\n",
      "[[0, 4, 0, 0], [0, 4, 0, 0]]\n"
     ]
    }
   ],
   "source": [
    "mat3 = generarMatriu3(2, 4)\n",
    "print(mat3)\n",
    "print(\"*****\")\n",
    "mat3[0][1] = 4\n",
    "print(mat3)\n"
   ]
  },
  {
   "cell_type": "code",
   "execution_count": null,
   "metadata": {
    "id": "hR6Dpnf_-wSn",
    "outputId": "3bf99eb5-2c4e-4b78-f1de-61ffffc02801"
   },
   "outputs": [
    {
     "name": "stdout",
     "output_type": "stream",
     "text": [
      "[[0, 0, 0, 0], [0, 0, 0, 0]]\n",
      "*****\n",
      "[[0, 4, 0, 0], [0, 0, 0, 0]]\n"
     ]
    }
   ],
   "source": [
    "# sí que podem escriure:\n",
    "\n",
    "def generarMatriu4(nfiles, ncolumnes):\n",
    "    return [[0] * ncolumnes for i in range(nfiles)]\n",
    "\n",
    "\n",
    "mat4 = generarMatriu4(2, 4)\n",
    "print(mat4)\n",
    "print(\"*****\")\n",
    "mat4[0][1] = 4\n",
    "print(mat4)\n"
   ]
  },
  {
   "cell_type": "markdown",
   "metadata": {
    "id": "qL0fZYqq-wSn"
   },
   "source": [
    "<p class=\"exercici\">Exercici 2: LLista selectiva amb list comprehension</p>\n",
    "\n",
    "Escriu una funció que donat un nombre $n$ i una llista, retorni una segona llista amb els elements de la llista inicials que són estrictament menors al nombre $n$ donat. Usa una list comprehension, el programa només pot tenir una línea."
   ]
  },
  {
   "cell_type": "code",
   "execution_count": null,
   "metadata": {
    "id": "7gvlZnQ0-wSo",
    "outputId": "74b6bf8c-0a73-4769-80de-8d2643714e48"
   },
   "outputs": [
    {
     "data": {
      "text/plain": [
       "[1, 5, 3, 2, 8, 6]"
      ]
     },
     "execution_count": 1,
     "metadata": {
      "tags": []
     },
     "output_type": "execute_result"
    }
   ],
   "source": [
    "# solució amb list comprehensions\n",
    "\n",
    "def llistaSelectiva2(llista, n):\n",
    "    return [a for a in llista if a < n]\n",
    "\n",
    "\n",
    "llistaSelectiva2([1, 15, 5, 3, 2, 12, 99, 8, 6], 10)\n"
   ]
  },
  {
   "cell_type": "markdown",
   "metadata": {
    "id": "qxnxoMxL-wSo"
   },
   "source": [
    "<p class=\"exercici\">Exercici 3: Nombres repetits</p>\n",
    "\n",
    "Escriu una funció que donades dues llistes ordenades retorni una nova llista amb només els elements que estan repetits en ambdues. Usa una list comprehension, el programa només pot tenir una línea.\n",
    "\n",
    "Exemple:\n",
    "\n",
    "    nombresRepetits([1, 1, 2, 3, 5, 8, 13, 21, 34, 55, 89],[1, 2, 3, 4, 5, 6, 7, 8, 9, 10, 11, 12, 13]])\n",
    "    [1,2,3,5,8,13]\n",
    "\n",
    "Font: Adaptat de [Practice Python. Beginner Python exercises / Michele Pratusevich](http://www.practicepython.org)"
   ]
  },
  {
   "cell_type": "code",
   "execution_count": null,
   "metadata": {
    "id": "s88Agwxc-wSp",
    "outputId": "391bfa5b-5397-4ea2-af9f-dcd20b423844"
   },
   "outputs": [
    {
     "data": {
      "text/plain": [
       "[1, 1, 2, 3, 5, 8, 13]"
      ]
     },
     "execution_count": 12,
     "metadata": {
      "tags": []
     },
     "output_type": "execute_result"
    }
   ],
   "source": [
    "def repetits(llista1, llista2):\n",
    "    return[a for a in llista1 if a in llista2]\n",
    "    # la list comprehension no permet optimitzar\n",
    "\n",
    "\n",
    "llistaA = [1, 1, 2, 3, 5, 8, 13, 21, 34, 55, 89]\n",
    "llistaB = [1, 2, 3, 4, 5, 6, 7, 8, 9, 10, 11, 12, 13]\n",
    "repetits(llistaA, llistaB)\n"
   ]
  },
  {
   "cell_type": "markdown",
   "metadata": {
    "id": "wvbpRwWa-wSp"
   },
   "source": [
    "<p class=\"exercici\">Exercici 4: Combinació de llistes</p>\n",
    "\n",
    "Escriu una funció que donades dues llistes retorni una nova llista amb tuples que continguin un element de cada llista, sempre i quan els elements no siguin el mateix. Usa una list comprehension, el programa només pot tenir una línea.\n"
   ]
  },
  {
   "cell_type": "code",
   "execution_count": null,
   "metadata": {
    "id": "RfQ7f8dV-wSp",
    "outputId": "dca381f5-d2ff-4573-ef37-265d42c3eca1"
   },
   "outputs": [
    {
     "data": {
      "text/plain": [
       "[(1, 3), (1, 4), (2, 3), (2, 1), (2, 4), (3, 1), (3, 4)]"
      ]
     },
     "execution_count": 2,
     "metadata": {
      "tags": []
     },
     "output_type": "execute_result"
    }
   ],
   "source": [
    "def combMagica(list1, list2):\n",
    "    return [(x, y) for x in list1 for y in list2 if x != y]\n",
    "\n",
    "\n",
    "listA = [1, 2, 3]\n",
    "listB = [3, 1, 4]\n",
    "combMagica(listA, listB)\n"
   ]
  },
  {
   "cell_type": "markdown",
   "metadata": {
    "id": "-rHBX7Xw-wSq"
   },
   "source": [
    "<p class=\"exercici\">Exercici 5: Només parells</p>\n",
    "\n",
    "Escriu una funció que donada una llista retorni una nova llista amb només els elements parells. Usa una list comprehension, el programa només pot tenir una línea."
   ]
  },
  {
   "cell_type": "code",
   "execution_count": null,
   "metadata": {
    "id": "3Pd8SvE2-wSq",
    "outputId": "0ce55412-ab59-499d-9051-55b6789a3a56"
   },
   "outputs": [
    {
     "data": {
      "text/plain": [
       "[10, 2, 4]"
      ]
     },
     "execution_count": 5,
     "metadata": {
      "tags": []
     },
     "output_type": "execute_result"
    }
   ],
   "source": [
    "def parells(list1):\n",
    "    return [x for x in list1 if x % 2 == 0]\n",
    "\n",
    "\n",
    "listA = [7, 10, 1, 2, 3, 4]\n",
    "parells(listA)\n"
   ]
  },
  {
   "cell_type": "markdown",
   "metadata": {
    "id": "Jj1evuMn-wSq"
   },
   "source": [
    "<p class=\"exercici\">Exercici 6: Elements d'una matriu</p>\n",
    "\n",
    "Donada una matriu $𝑀$  de nombres, retornar la llista formada per cada un dels elements de la matriu. Usa una list comprehension, el programa només pot tenir una línea."
   ]
  },
  {
   "cell_type": "code",
   "execution_count": null,
   "metadata": {
    "id": "ZubWs5Qd-wSr",
    "outputId": "ad98e7fd-fd51-493e-eb3a-e95c4ec602fb"
   },
   "outputs": [
    {
     "name": "stdout",
     "output_type": "stream",
     "text": [
      "[0, 1, 2, 3, 4, 5, 6, 7, 8, 9, 10, 11, 12, 13, 14]\n"
     ]
    }
   ],
   "source": [
    "M = [list(range(0, 5)), list(range(5, 10)), list(range(10, 15))]\n",
    "a = [x for row in M for x in row]\n",
    "print(a)\n"
   ]
  },
  {
   "cell_type": "markdown",
   "metadata": {
    "id": "zvNCiyZP-wSr"
   },
   "source": [
    "<p class=\"exercici\">Exercici 7: Construir un diccionari amb dues llistes</p>\n",
    "\n",
    "Donades dues llistes de la mateixa mida, retornar **un diccionari** que usi els elements de la primera com a clausi els de la segona com valors. "
   ]
  },
  {
   "cell_type": "code",
   "execution_count": null,
   "metadata": {
    "id": "tK_6P16O-wSr",
    "outputId": "a07a6875-7b0b-40e5-fd30-550516ed248a"
   },
   "outputs": [
    {
     "name": "stdout",
     "output_type": "stream",
     "text": [
      "{'India': 'New Delhi', 'Pakistan': 'Islamabad', 'Nepal': 'Kathmandu', 'Bhutan': 'Thimphu', 'China': 'Beijing', 'Bangladesh': 'Dhaka'}\n"
     ]
    }
   ],
   "source": [
    "pais = ['India', 'Pakistan', 'Nepal', 'Bhutan', 'China', 'Bangladesh']\n",
    "capital = ['New Delhi', 'Islamabad', 'Kathmandu', 'Thimphu',\n",
    "           'Beijing', 'Dhaka']\n",
    "b = {pais[i]: capital[i] for i in range(len(pais))}\n",
    "print(b)\n"
   ]
  }
 ],
 "metadata": {
  "colab": {
   "name": "BasicsListComprehensions-Solucio.ipynb",
   "provenance": []
  },
  "kernelspec": {
   "display_name": "Python 3 (ipykernel)",
   "language": "python",
   "name": "python3"
  },
  "language_info": {
   "codemirror_mode": {
    "name": "ipython",
    "version": 3
   },
   "file_extension": ".py",
   "mimetype": "text/x-python",
   "name": "python",
   "nbconvert_exporter": "python",
   "pygments_lexer": "ipython3",
   "version": "3.9.7"
  }
 },
 "nbformat": 4,
 "nbformat_minor": 1
}
