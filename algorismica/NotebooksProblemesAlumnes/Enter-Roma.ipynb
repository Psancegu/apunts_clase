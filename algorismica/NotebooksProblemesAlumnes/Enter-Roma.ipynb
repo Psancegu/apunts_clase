{
 "cells": [
  {
   "cell_type": "markdown",
   "metadata": {},
   "source": [
    "# Converteix un enter decimal a numeració romana\n",
    "(Poblema extret de [Leetcode](https://leetcode.com/))\n",
    "\n",
    "Els nombres romans es representen amb 7 símbols: I, V, X, L, C, D i M.\n",
    "\n",
    "Cada símbol té associat un valor:\n",
    "\n",
    "\n",
    "| Symbol | Value |\n",
    "|--------|-------|\n",
    "| I      | 1     |\n",
    "| V      | 5     |\n",
    "| X      | 10    |\n",
    "| L      | 50    |\n",
    "| C      | 100   |\n",
    "| D      | 500   |\n",
    "| M      | 1000  |\n",
    "\n",
    "Per exemple, el 2 es escriu com a II en numeració romana, simplement afegint dos uns junts. El 12 es escriu com a XII, que és simplement X + II. El número 27 es escriu com a XXVII, que és XX + V + II.\n",
    "\n",
    "Els nombres romans solen escriure's del més gran al més petit d'esquerra a dreta. No obstant això, el numeral pel quatre no és IIII, sinó que s'escriu com a IV. Perquè l'unitat està abans del cinc, la restem, fent-ne quatre. El mateix principi s'aplica al número nou, que es escriu com a IX. Hi ha sis instàncies on s'utilitza la resta:\n",
    "\n",
    "I pot situar-se abans de V (5) i X (10) per fer 4 i 9.\n",
    "X pot situar-se abans de L (50) i C (100) per fer 40 i 90.\n",
    "C pot situar-se abans de D (500) i M (1000) per fer 400 i 900.\n",
    "Donat un nombre enter, converteix-lo en un numeral romà.\n",
    "\n",
    "Fes una funcio `enter_roma(num)` que donat un enter `num` retorni una `string` amb la seva representació en numeració romana. El teu codi hauria de funcionar com els següents exemples:\n",
    "\n",
    "Input: num = 3\n",
    "Output: \"III\"\n",
    "\n",
    "Input: num = 11\n",
    "Output: \"XI\"\n",
    "\n",
    "Input: num = 19\n",
    "Output: \"XIX\"\n",
    "\n",
    "Input: num = 58\n",
    "Output: \"LVIII\"\n",
    "\n",
    "Input: num = 1994\n",
    "Output: \"MCMXCIV\"\n",
    "\n",
    "Input: num = 8796\n",
    "Output: \"MMMMMMMMDCCXCVI\"\n"
   ]
  },
  {
   "cell_type": "code",
   "execution_count": 6,
   "metadata": {},
   "outputs": [
    {
     "ename": "ValueError",
     "evalue": "not enough values to unpack (expected 2, got 1)",
     "output_type": "error",
     "traceback": [
      "\u001b[0;31m---------------------------------------------------------------------------\u001b[0m",
      "\u001b[0;31mValueError\u001b[0m                                Traceback (most recent call last)",
      "Cell \u001b[0;32mIn [6], line 40\u001b[0m\n\u001b[1;32m     24\u001b[0m     \u001b[38;5;28;01mreturn\u001b[39;00m result\n\u001b[1;32m     26\u001b[0m \u001b[38;5;250m    \u001b[39m\u001b[38;5;124;03m\"\"\"\u001b[39;00m\n\u001b[1;32m     27\u001b[0m \u001b[38;5;124;03m    Aquesta funció calcula la representació en xifres romanes d'un nombre enter positiu.\u001b[39;00m\n\u001b[1;32m     28\u001b[0m \n\u001b[0;32m   (...)\u001b[0m\n\u001b[1;32m     38\u001b[0m \n\u001b[1;32m     39\u001b[0m \u001b[38;5;124;03m    \"\"\"\u001b[39;00m\n\u001b[0;32m---> 40\u001b[0m \u001b[38;5;28mprint\u001b[39m(\u001b[43menter_roma\u001b[49m\u001b[43m(\u001b[49m\u001b[38;5;241;43m39\u001b[39;49m\u001b[43m)\u001b[49m)\n",
      "Cell \u001b[0;32mIn [6], line 19\u001b[0m, in \u001b[0;36menter_roma\u001b[0;34m(num)\u001b[0m\n\u001b[1;32m      2\u001b[0m roman_numerals \u001b[38;5;241m=\u001b[39m {\n\u001b[1;32m      3\u001b[0m \u001b[38;5;124m'\u001b[39m\u001b[38;5;124mI\u001b[39m\u001b[38;5;124m'\u001b[39m: \u001b[38;5;241m1\u001b[39m,\n\u001b[1;32m      4\u001b[0m \u001b[38;5;124m'\u001b[39m\u001b[38;5;124mIV\u001b[39m\u001b[38;5;124m'\u001b[39m: \u001b[38;5;241m4\u001b[39m,\n\u001b[0;32m   (...)\u001b[0m\n\u001b[1;32m     15\u001b[0m \u001b[38;5;124m'\u001b[39m\u001b[38;5;124mM\u001b[39m\u001b[38;5;124m'\u001b[39m: \u001b[38;5;241m1000\u001b[39m\n\u001b[1;32m     16\u001b[0m }\n\u001b[1;32m     18\u001b[0m result \u001b[38;5;241m=\u001b[39m \u001b[38;5;124m\"\u001b[39m\u001b[38;5;124m\"\u001b[39m\n\u001b[0;32m---> 19\u001b[0m \u001b[38;5;28;01mfor\u001b[39;00m symbol, value \u001b[38;5;129;01min\u001b[39;00m roman_numerals:\n\u001b[1;32m     20\u001b[0m     \u001b[38;5;28;01mif\u001b[39;00m num \u001b[38;5;241m>\u001b[39m\u001b[38;5;241m=\u001b[39m value:\n\u001b[1;32m     21\u001b[0m         result \u001b[38;5;241m+\u001b[39m\u001b[38;5;241m=\u001b[39m symbol\n",
      "\u001b[0;31mValueError\u001b[0m: not enough values to unpack (expected 2, got 1)"
     ]
    }
   ],
   "source": [
    "def enter_roma(num):\n",
    "    roman_numerals = {\n",
    "    'I': 1,\n",
    "    'IV': 4,\n",
    "    'V': 5,\n",
    "    'IX': 9,\n",
    "    'X': 10,\n",
    "    'XL': 40,\n",
    "    'L': 50,\n",
    "    'XC': 90,\n",
    "    'C': 100,\n",
    "    'CD': 400,\n",
    "    'D': 500,\n",
    "    'CM': 900,\n",
    "    'M': 1000\n",
    "    }\n",
    "\n",
    "    result = \"\"\n",
    "    for symbol, value in roman_numerals:\n",
    "        if num >= value:\n",
    "            result += symbol\n",
    "            num -= value\n",
    "    \n",
    "    return result\n",
    "\n",
    "    \"\"\"\n",
    "    Aquesta funció calcula la representació en xifres romanes d'un nombre enter positiu.\n",
    "\n",
    "    Parameters\n",
    "    ----------\n",
    "    num : int\n",
    "        Nombre enter positiu a convertir.\n",
    "\n",
    "    Returns\n",
    "    -------\n",
    "    roma : str\n",
    "        Representació en xifres romanes de `num`.\n",
    "\n",
    "    \"\"\"\n",
    "print(enter_roma(39))\n"
   ]
  },
  {
   "cell_type": "code",
   "execution_count": 2,
   "metadata": {},
   "outputs": [
    {
     "ename": "ValueError",
     "evalue": "not enough values to unpack (expected 2, got 1)",
     "output_type": "error",
     "traceback": [
      "\u001b[0;31m---------------------------------------------------------------------------\u001b[0m",
      "\u001b[0;31mValueError\u001b[0m                                Traceback (most recent call last)",
      "Cell \u001b[0;32mIn [2], line 1\u001b[0m\n\u001b[0;32m----> 1\u001b[0m \u001b[38;5;28;01massert\u001b[39;00m \u001b[43menter_roma\u001b[49m\u001b[43m(\u001b[49m\u001b[38;5;241;43m1\u001b[39;49m\u001b[43m)\u001b[49m \u001b[38;5;241m==\u001b[39m \u001b[38;5;124m'\u001b[39m\u001b[38;5;124mI\u001b[39m\u001b[38;5;124m'\u001b[39m\n\u001b[1;32m      2\u001b[0m \u001b[38;5;28;01massert\u001b[39;00m enter_roma(\u001b[38;5;241m2\u001b[39m) \u001b[38;5;241m==\u001b[39m \u001b[38;5;124m'\u001b[39m\u001b[38;5;124mII\u001b[39m\u001b[38;5;124m'\u001b[39m\n\u001b[1;32m      3\u001b[0m \u001b[38;5;28;01massert\u001b[39;00m enter_roma(\u001b[38;5;241m39\u001b[39m) \u001b[38;5;241m==\u001b[39m \u001b[38;5;124m'\u001b[39m\u001b[38;5;124mXXXIX\u001b[39m\u001b[38;5;124m'\u001b[39m\n",
      "Cell \u001b[0;32mIn [1], line 19\u001b[0m, in \u001b[0;36menter_roma\u001b[0;34m(num)\u001b[0m\n\u001b[1;32m      2\u001b[0m roman_numerals \u001b[38;5;241m=\u001b[39m {\n\u001b[1;32m      3\u001b[0m \u001b[38;5;124m'\u001b[39m\u001b[38;5;124mI\u001b[39m\u001b[38;5;124m'\u001b[39m: \u001b[38;5;241m1\u001b[39m,\n\u001b[1;32m      4\u001b[0m \u001b[38;5;124m'\u001b[39m\u001b[38;5;124mIV\u001b[39m\u001b[38;5;124m'\u001b[39m: \u001b[38;5;241m4\u001b[39m,\n\u001b[0;32m   (...)\u001b[0m\n\u001b[1;32m     15\u001b[0m \u001b[38;5;124m'\u001b[39m\u001b[38;5;124mM\u001b[39m\u001b[38;5;124m'\u001b[39m: \u001b[38;5;241m1000\u001b[39m\n\u001b[1;32m     16\u001b[0m }\n\u001b[1;32m     18\u001b[0m result \u001b[38;5;241m=\u001b[39m \u001b[38;5;124m\"\u001b[39m\u001b[38;5;124m\"\u001b[39m\n\u001b[0;32m---> 19\u001b[0m \u001b[38;5;28;01mfor\u001b[39;00m symbol, value \u001b[38;5;129;01min\u001b[39;00m roman_numerals:\n\u001b[1;32m     20\u001b[0m     \u001b[38;5;28;01mif\u001b[39;00m num \u001b[38;5;241m>\u001b[39m\u001b[38;5;241m=\u001b[39m value:\n\u001b[1;32m     21\u001b[0m         result \u001b[38;5;241m+\u001b[39m\u001b[38;5;241m=\u001b[39m symbol\n",
      "\u001b[0;31mValueError\u001b[0m: not enough values to unpack (expected 2, got 1)"
     ]
    }
   ],
   "source": [
    "assert enter_roma(1) == 'I'\n",
    "assert enter_roma(2) == 'II'\n",
    "assert enter_roma(39) == 'XXXIX'\n",
    "assert enter_roma(40) == 'XL'\n",
    "assert enter_roma(49) == 'XLIX'\n",
    "assert enter_roma(162) == 'CLXII'\n",
    "assert enter_roma(199) == 'CXCIX'\n",
    "assert enter_roma(8796) == \"MMMMMMMMDCCXCVI\""
   ]
  }
 ],
 "metadata": {
  "kernelspec": {
   "display_name": "Python 3",
   "language": "python",
   "name": "python3"
  },
  "language_info": {
   "codemirror_mode": {
    "name": "ipython",
    "version": 3
   },
   "file_extension": ".py",
   "mimetype": "text/x-python",
   "name": "python",
   "nbconvert_exporter": "python",
   "pygments_lexer": "ipython3",
   "version": "3.11.2"
  }
 },
 "nbformat": 4,
 "nbformat_minor": 2
}
