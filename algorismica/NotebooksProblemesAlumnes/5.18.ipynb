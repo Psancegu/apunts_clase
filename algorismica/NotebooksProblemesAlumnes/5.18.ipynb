{
 "cells": [
  {
   "cell_type": "markdown",
   "metadata": {
    "id": "JhseXv7sljGk"
   },
   "source": [
    "# Capítol 5 - Dividir i Vèncer"
   ]
  },
  {
   "cell_type": "markdown",
   "metadata": {
    "id": "zLcirSm5ljGx"
   },
   "source": [
    "### 5.18 Implementació eficient de la potència"
   ]
  },
  {
   "cell_type": "markdown",
   "metadata": {},
   "source": [
    "Donats dos nombres enters $x$ i $y$, amb $y\\geq 0$, escriu un algorisme recursiu que calculi $x^y$ de manera eficient. No utilitzis cap funció específica de Python per fer aquesta operació."
   ]
  },
  {
   "cell_type": "code",
   "execution_count": 14,
   "metadata": {
    "id": "wzF_B2uHljGx"
   },
   "outputs": [],
   "source": [
    "def potencia_eficient(base, exponent):\n",
    "    \n",
    "    if exponent == 0:\n",
    "        return 1\n",
    "    \n",
    "    elif exponent == 1:\n",
    "        return base\n",
    "    \n",
    "    elif exponent%2 == 0:\n",
    "        return potencia_eficient(base*base, exponent/2)\n",
    "    else:\n",
    "        return base * potencia_eficient(base*base, (exponent-1)/2)\n",
    "\n",
    "    \"\"\"\n",
    "    Aquesta funció calcula de manera eficient el valor de la potència de x elevat a y.\n",
    "    \n",
    "    Parameters\n",
    "    ----------\n",
    "    base: int\n",
    "    exponent: int\n",
    "    \n",
    "    Returns\n",
    "    -------\n",
    "    potencia: int\n",
    "    \"\"\""
   ]
  },
  {
   "cell_type": "code",
   "execution_count": 15,
   "metadata": {
    "id": "AclPI9VmljGx"
   },
   "outputs": [],
   "source": [
    "assert potencia_eficient(2, 10) == 1024\n",
    "assert potencia_eficient(3, 4) == 81\n",
    "assert potencia_eficient(5, 0) == 1 \n",
    "assert potencia_eficient(-2, 3) == -8"
   ]
  }
 ],
 "metadata": {
  "colab": {
   "collapsed_sections": [],
   "name": "5.18.ipynb",
   "provenance": []
  },
  "kernelspec": {
   "display_name": "Python 3",
   "language": "python",
   "name": "python3"
  },
  "language_info": {
   "codemirror_mode": {
    "name": "ipython",
    "version": 3
   },
   "file_extension": ".py",
   "mimetype": "text/x-python",
   "name": "python",
   "nbconvert_exporter": "python",
   "pygments_lexer": "ipython3",
   "version": "3.12.3"
  }
 },
 "nbformat": 4,
 "nbformat_minor": 0
}
