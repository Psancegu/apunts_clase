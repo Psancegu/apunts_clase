{
 "cells": [
  {
   "cell_type": "markdown",
   "metadata": {
    "id": "9kg3ijcih0Xy"
   },
   "source": [
    "# Capítol 5 - Dividir i Vèncer"
   ]
  },
  {
   "cell_type": "markdown",
   "metadata": {
    "id": "T6PpxPzih0X7"
   },
   "source": [
    "### 5.4 El més petit que falta"
   ]
  },
  {
   "cell_type": "markdown",
   "metadata": {},
   "source": [
    "Donada una llista ordenada d'enters no negatius (inclòs el 0), troba el valor\n",
    "més petit que hi falta. En cas que no hi falti cap valor, la teva funció ha de\n",
    "retornar -1.\n",
    "\n",
    "Fes servir aquesta plantilla per escriure el teu codi:"
   ]
  },
  {
   "cell_type": "code",
   "execution_count": 14,
   "metadata": {
    "id": "pjq3YtXRh0X7"
   },
   "outputs": [],
   "source": [
    "def el_mes_petit(llista):\n",
    "    def trobar_faltant(llista, low, high):\n",
    "        if low > high:\n",
    "            return low\n",
    "\n",
    "        mid = (low + high) // 2\n",
    "\n",
    "        if llista[mid] == mid:\n",
    "            return trobar_faltant(llista, mid + 1, high)\n",
    "        else:\n",
    "            return trobar_faltant(llista, low, mid - 1)\n",
    "\n",
    "    result = trobar_faltant(llista, 0, len(llista) - 1)\n",
    "    return result if result < len(llista) else -1\n"
   ]
  },
  {
   "cell_type": "code",
   "execution_count": 15,
   "metadata": {
    "id": "PxmTpU3Qh0X8"
   },
   "outputs": [],
   "source": [
    "assert el_mes_petit([0, 1, 2, 3, 4, 7, 12]) == 5\n",
    "assert el_mes_petit([1, 2, 3, 4, 7, 12]) == 0\n",
    "assert el_mes_petit([0,1,2,3]) == -1"
   ]
  },
  {
   "cell_type": "code",
   "execution_count": null,
   "metadata": {
    "id": "3fszZzMGh0YI"
   },
   "outputs": [],
   "source": [
    "\"\"\"\n",
    "    Aquesta funció troba el valor més petit que falta.\n",
    "    \n",
    "    Parameters\n",
    "    ----------\n",
    "    llista: list\n",
    "    \n",
    "    Returns\n",
    "    -------\n",
    "    valor: int\n",
    "    \"\"\""
   ]
  }
 ],
 "metadata": {
  "colab": {
   "collapsed_sections": [],
   "name": "5.4.ipynb",
   "provenance": []
  },
  "kernelspec": {
   "display_name": "Python 3",
   "language": "python",
   "name": "python3"
  },
  "language_info": {
   "codemirror_mode": {
    "name": "ipython",
    "version": 3
   },
   "file_extension": ".py",
   "mimetype": "text/x-python",
   "name": "python",
   "nbconvert_exporter": "python",
   "pygments_lexer": "ipython3",
   "version": "3.12.3"
  }
 },
 "nbformat": 4,
 "nbformat_minor": 0
}
