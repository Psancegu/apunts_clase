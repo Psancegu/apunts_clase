{
 "cells": [
  {
   "cell_type": "markdown",
   "metadata": {
    "id": "Tq8bG1MNUhzi"
   },
   "source": [
    "# Capítol 3 - Algorismes i Nombres"
   ]
  },
  {
   "cell_type": "markdown",
   "metadata": {},
   "source": [
    "<div style=\"background-color:rgba(0, 0, 0, 0.2); text-align:left; vertical-align: middle;  border-radius:10px\">\n",
    "    <div style=\"padding: 20px\">\n",
    "    <h3>Correcció d'errates: </h3>\n",
    "        <p> A la introducció del llibre es comenta l'exemple de 20 & 1 i de 21 & 1. En aquest segon cas cal corregir les xifres binàries del llibre. Les correctes són:</p>\n",
    "        <p>En el segon cas, tenim que 00010101 & 00000001 = 1;</p>\n",
    "    </div>\n",
    "</div>"
   ]
  },
  {
   "cell_type": "markdown",
   "metadata": {
    "id": "c-_iKOw1Uhz1"
   },
   "source": [
    "### 3.5 Operacions amb nombres binaris"
   ]
  },
  {
   "cell_type": "markdown",
   "metadata": {},
   "source": [
    "Determina si un nombre (no tindrem en compte els negatius) és potència de 2 fent ús de les operacions\\\n",
    "binàries d'acord amb les indicacions següents:\n",
    "+ Si ens fixem en la representació binària d'un nombre,\\\n",
    "és fàcil veure que les potències de 2 només tenen un bit a 1\n",
    "+ Pel que fa als bits, donada una potència de 2 (p. ex. 010000), el nombre\\\n",
    "anterior té una forma complementària en els bits menys significatius (001111)."
   ]
  },
  {
   "cell_type": "code",
   "execution_count": null,
   "metadata": {},
   "outputs": [],
   "source": [
    "def potencia2(num):\n",
    "    \"\"\"\n",
    "    Aquesta comprova si num és una potencia de 2.\n",
    "    \n",
    "    Parameters\n",
    "    ----------\n",
    "    num: int\n",
    "        Valor a determinar si es potencia de 2\n",
    "        \n",
    "    Returns\n",
    "    -------\n",
    "    esPotencia: bool\n",
    "        És num potencia de 2?\n",
    "    \"\"\"\n",
    "    "
   ]
  },
  {
   "cell_type": "code",
   "execution_count": null,
   "metadata": {},
   "outputs": [],
   "source": [
    "assert potencia2(1024) == True\n",
    "assert potencia2(2**2345) == True\n",
    "assert potencia2(2**2345-1) == False"
   ]
  }
 ],
 "metadata": {
  "colab": {
   "collapsed_sections": [],
   "name": "3.10.ipynb",
   "provenance": []
  },
  "kernelspec": {
   "display_name": "Python 3 (ipykernel)",
   "language": "python",
   "name": "python3"
  },
  "language_info": {
   "codemirror_mode": {
    "name": "ipython",
    "version": 3
   },
   "file_extension": ".py",
   "mimetype": "text/x-python",
   "name": "python",
   "nbconvert_exporter": "python",
   "pygments_lexer": "ipython3",
   "version": "3.9.13"
  },
  "vscode": {
   "interpreter": {
    "hash": "b7d5521a80c2c370047c8b3946d4b51cbe9eac44fad1075e96f476b66b4a61cb"
   }
  }
 },
 "nbformat": 4,
 "nbformat_minor": 4
}
