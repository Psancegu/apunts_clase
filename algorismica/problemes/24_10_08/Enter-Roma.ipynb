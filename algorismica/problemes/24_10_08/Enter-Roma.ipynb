{
 "cells": [
  {
   "cell_type": "markdown",
   "metadata": {},
   "source": [
    "# Converteix un enter decimal a numeració romana\n",
    "(Poblema extret de [Leetcode](https://leetcode.com/))\n",
    "\n",
    "Els nombres romans es representen amb 7 símbols: I, V, X, L, C, D i M.\n",
    "\n",
    "Cada símbol té associat un valor:\n",
    "\n",
    "\n",
    "| Symbol | Value |\n",
    "|--------|-------|\n",
    "| I      | 1     |\n",
    "| V      | 5     |\n",
    "| X      | 10    |\n",
    "| L      | 50    |\n",
    "| C      | 100   |\n",
    "| D      | 500   |\n",
    "| M      | 1000  |\n",
    "\n",
    "Per exemple, el 2 es escriu com a II en numeració romana, simplement afegint dos uns junts. El 12 es escriu com a XII, que és simplement X + II. El número 27 es escriu com a XXVII, que és XX + V + II.\n",
    "\n",
    "Els nombres romans solen escriure's del més gran al més petit d'esquerra a dreta. No obstant això, el numeral pel quatre no és IIII, sinó que s'escriu com a IV. Perquè l'unitat està abans del cinc, la restem, fent-ne quatre. El mateix principi s'aplica al número nou, que es escriu com a IX. Hi ha sis instàncies on s'utilitza la resta:\n",
    "\n",
    "I pot situar-se abans de V (5) i X (10) per fer 4 i 9.\n",
    "X pot situar-se abans de L (50) i C (100) per fer 40 i 90.\n",
    "C pot situar-se abans de D (500) i M (1000) per fer 400 i 900.\n",
    "Donat un nombre enter, converteix-lo en un numeral romà.\n",
    "\n",
    "Fes una funcio `enter_roma(num)` que donat un enter `num` retorni una `string` amb la seva representació en numeració romana. El teu codi hauria de funcionar com els següents exemples:\n",
    "\n",
    "Input: num = 3\n",
    "Output: \"III\"\n",
    "\n",
    "Input: num = 11\n",
    "Output: \"XI\"\n",
    "\n",
    "Input: num = 19\n",
    "Output: \"XIX\"\n",
    "\n",
    "Input: num = 58\n",
    "Output: \"LVIII\"\n",
    "\n",
    "Input: num = 1994\n",
    "Output: \"MCMXCIV\"\n",
    "\n",
    "Input: num = 8796\n",
    "Output: \"MMMMMMMMDCCXCVI\"\n"
   ]
  },
  {
   "cell_type": "code",
   "execution_count": 100,
   "metadata": {},
   "outputs": [],
   "source": [
    "def enter_roma(num):\n",
    "    digits = {1000 : 'M', 500 : 'D', 100 : 'C', 50 : 'L', 10 : 'X', 5 : 'V', 1 : 'I' }\n",
    "    critics = { \"C\": \"CM\", \"L\": \"LC\", \"X\":\"XL\",\"Xesp\":\"XC\"}\n",
    "    resultat = \"\"\n",
    "    residu = 0\n",
    "    divisió = 0\n",
    "    for i in digits.keys():\n",
    "        if num == 0:\n",
    "            break\n",
    "        else:\n",
    "            residu = num % i\n",
    "            divisió = int(num / i)\n",
    "            if divisió == 4 and i!= 1:\n",
    "                if i == 10 and resultat[-1] == \"L\":\n",
    "                    resultat = resultat[0:-1] + critics[\"Xesp\"]\n",
    "                elif i == 10 and \n",
    "                else:\n",
    "                    resultat = resultat[0:-1] + critics[digits[i]]\n",
    "            elif divisió == 4 and i == 1:\n",
    "                if resultat[-1] == \"V\":\n",
    "                    resultat = resultat[0:-1] + \"IX\"\n",
    "                else:\n",
    "                    resultat = resultat[0:-1] + \"IV\"    \n",
    "            else:    \n",
    "                resultat = resultat + divisió*digits[i]\n",
    "            num = residu\n",
    "    \n",
    "    return resultat"
   ]
  },
  {
   "cell_type": "code",
   "execution_count": 101,
   "metadata": {},
   "outputs": [
    {
     "ename": "IndexError",
     "evalue": "string index out of range",
     "output_type": "error",
     "traceback": [
      "\u001b[0;31m---------------------------------------------------------------------------\u001b[0m",
      "\u001b[0;31mIndexError\u001b[0m                                Traceback (most recent call last)",
      "Cell \u001b[0;32mIn [101], line 4\u001b[0m\n\u001b[1;32m      2\u001b[0m \u001b[38;5;28;01massert\u001b[39;00m enter_roma(\u001b[38;5;241m2\u001b[39m) \u001b[38;5;241m==\u001b[39m \u001b[38;5;124m'\u001b[39m\u001b[38;5;124mII\u001b[39m\u001b[38;5;124m'\u001b[39m\n\u001b[1;32m      3\u001b[0m \u001b[38;5;28;01massert\u001b[39;00m enter_roma(\u001b[38;5;241m39\u001b[39m) \u001b[38;5;241m==\u001b[39m \u001b[38;5;124m'\u001b[39m\u001b[38;5;124mXXXIX\u001b[39m\u001b[38;5;124m'\u001b[39m\n\u001b[0;32m----> 4\u001b[0m \u001b[38;5;28;01massert\u001b[39;00m \u001b[43menter_roma\u001b[49m\u001b[43m(\u001b[49m\u001b[38;5;241;43m40\u001b[39;49m\u001b[43m)\u001b[49m \u001b[38;5;241m==\u001b[39m \u001b[38;5;124m'\u001b[39m\u001b[38;5;124mXL\u001b[39m\u001b[38;5;124m'\u001b[39m\n\u001b[1;32m      5\u001b[0m \u001b[38;5;28;01massert\u001b[39;00m enter_roma(\u001b[38;5;241m49\u001b[39m) \u001b[38;5;241m==\u001b[39m \u001b[38;5;124m'\u001b[39m\u001b[38;5;124mXLIX\u001b[39m\u001b[38;5;124m'\u001b[39m\n\u001b[1;32m      6\u001b[0m \u001b[38;5;28;01massert\u001b[39;00m enter_roma(\u001b[38;5;241m162\u001b[39m) \u001b[38;5;241m==\u001b[39m \u001b[38;5;124m'\u001b[39m\u001b[38;5;124mCLXII\u001b[39m\u001b[38;5;124m'\u001b[39m\n",
      "Cell \u001b[0;32mIn [100], line 14\u001b[0m, in \u001b[0;36menter_roma\u001b[0;34m(num)\u001b[0m\n\u001b[1;32m     12\u001b[0m divisió \u001b[38;5;241m=\u001b[39m \u001b[38;5;28mint\u001b[39m(num \u001b[38;5;241m/\u001b[39m i)\n\u001b[1;32m     13\u001b[0m \u001b[38;5;28;01mif\u001b[39;00m divisió \u001b[38;5;241m==\u001b[39m \u001b[38;5;241m4\u001b[39m \u001b[38;5;129;01mand\u001b[39;00m i\u001b[38;5;241m!=\u001b[39m \u001b[38;5;241m1\u001b[39m:\n\u001b[0;32m---> 14\u001b[0m     \u001b[38;5;28;01mif\u001b[39;00m i \u001b[38;5;241m==\u001b[39m \u001b[38;5;241m10\u001b[39m \u001b[38;5;129;01mand\u001b[39;00m \u001b[43mresultat\u001b[49m\u001b[43m[\u001b[49m\u001b[38;5;241;43m-\u001b[39;49m\u001b[38;5;241;43m1\u001b[39;49m\u001b[43m]\u001b[49m \u001b[38;5;241m==\u001b[39m \u001b[38;5;124m\"\u001b[39m\u001b[38;5;124mL\u001b[39m\u001b[38;5;124m\"\u001b[39m:\n\u001b[1;32m     15\u001b[0m         resultat \u001b[38;5;241m=\u001b[39m resultat[\u001b[38;5;241m0\u001b[39m:\u001b[38;5;241m-\u001b[39m\u001b[38;5;241m1\u001b[39m] \u001b[38;5;241m+\u001b[39m critics[\u001b[38;5;124m\"\u001b[39m\u001b[38;5;124mXesp\u001b[39m\u001b[38;5;124m\"\u001b[39m]\n\u001b[1;32m     16\u001b[0m     \u001b[38;5;28;01melse\u001b[39;00m:\n",
      "\u001b[0;31mIndexError\u001b[0m: string index out of range"
     ]
    }
   ],
   "source": [
    "assert enter_roma(1) == 'I'\n",
    "assert enter_roma(2) == 'II'\n",
    "assert enter_roma(39) == 'XXXIX'\n",
    "assert enter_roma(40) == 'XL'\n",
    "assert enter_roma(49) == 'XLIX'\n",
    "assert enter_roma(162) == 'CLXII'\n",
    "assert enter_roma(199) == 'CXCIX'\n",
    "assert enter_roma(8796) == \"MMMMMMMMDCCXCVI\""
   ]
  },
  {
   "cell_type": "code",
   "execution_count": null,
   "metadata": {},
   "outputs": [],
   "source": [
    "import math\n",
    "\n",
    "if num>=a:\n",
    "    res += b*(num//a)\n",
    "    num% = \n",
    "\n",
    "var = 10**(math.ceil(math.log10(a))-1)"
   ]
  }
 ],
 "metadata": {
  "kernelspec": {
   "display_name": "Python 3",
   "language": "python",
   "name": "python3"
  },
  "language_info": {
   "codemirror_mode": {
    "name": "ipython",
    "version": 3
   },
   "file_extension": ".py",
   "mimetype": "text/x-python",
   "name": "python",
   "nbconvert_exporter": "python",
   "pygments_lexer": "ipython3",
   "version": "3.11.2"
  }
 },
 "nbformat": 4,
 "nbformat_minor": 2
}
