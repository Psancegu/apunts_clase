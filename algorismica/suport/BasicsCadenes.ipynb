{
 "cells": [
  {
   "cell_type": "markdown",
   "metadata": {
    "id": "kCEp8E9d-lXl"
   },
   "source": [
    "<div id=\"capcalera\">\n",
    "    \n",
    "<p>Aquest notebook forma part dels continguts teòrics dels problemes de l'assignatura d'<strong>Algorísmica</strong> del Grau d'Enginyeria Informàtica a la <a href=\"https://mat.ub.edu\">Facultat de Matemàtiques i Informàtica</a> de la <a href=\"https://www.ub.edu\">Universitat de Barcelona</a></p>\n",
    "\n",
    "<p>Els problemes s'ofereixen sota llicència <a href=\"https://creativecommons.org/licenses/by-nc-nd/3.0/us/legalcode\">CC-BY-NC-ND license</a>, i el codi sota <a href=\"https://opensource.org/licenses/MIT\">Llicència MIT</a>.</p>\n",
    "\n",
    "</div>"
   ]
  },
  {
   "cell_type": "markdown",
   "metadata": {
    "id": "xxa91U-8-lXr"
   },
   "source": [
    "# <span class=\"tema\">(Bàsics Python)</span> Cadenes (strings)"
   ]
  },
  {
   "cell_type": "markdown",
   "metadata": {
    "id": "hfyXY7md-lXs"
   },
   "source": [
    "Les solucions a aquests exercicis són al fitxer BasicsCadenes-Solucio.ipynb"
   ]
  },
  {
   "cell_type": "markdown",
   "metadata": {
    "id": "3DQLsVV--lXt"
   },
   "source": [
    "<p class=\"exercici\">Exercici 1: Tallar cadena</p>\n",
    "\n",
    "Escriu una funció que donats una cadena i un nombre $n<<len(cadena)$, elimini els primers n caràcters i els darrers n caràcters de la cadena.\n",
    "\n",
    "Font: Adaptat de [Python praktikum / Alessandro Mammana](https://www.molgen.mpg.de/3372238/python_praesentation.pdf)"
   ]
  },
  {
   "cell_type": "markdown",
   "metadata": {
    "id": "ucG9bQQM-lXt"
   },
   "source": [
    "<p class=\"exercici\">Exercici 2: Slicing i conversió</p>\n",
    "\n",
    "Imagina que tens la següent cadena:\n",
    "\n",
    "text = 'X-DSPAM-Confidence:0.8475'\n",
    "\n",
    "Retalla-la pels dos punts amb `split`, agafa la darrera part i usa la funció `float()` per convertir la segona part en un nombre decimal.\n",
    "\n",
    "Font: Adaptat de [Python for Everybody / Charles Severance](https://books.trinket.io/pfe/index.html)"
   ]
  },
  {
   "cell_type": "markdown",
   "metadata": {
    "id": "RbeY0luT-lXu"
   },
   "source": [
    "<p class=\"exercici\">Exercici 3: Mètodes de string</p>\n",
    "\n",
    "Llegeix la documentació sobre els [mètodes de string](https://docs.python.org/3.7/library/stdtypes.html?#string-methods). Inventa't dues cadenes i experimenta amb algun dels mètodes per assegurar-te que entens com funcionen. ``strip`` i ``replace`` són particularment útils.\n",
    "\n",
    "La documentació fa servir una sintaxi que pot resulta confusa. Per exemple, a ``find(sub[, start[, end]])``, els claudators indiquen que els arguments són opcionals, per tant, sub és necessari però start és optional, i si inclous start, end és opcional.\n",
    "\n",
    "    \n",
    "Font: Adaptat de [Python for Everybody / Charles Severance](https://books.trinket.io/pfe/index.html)"
   ]
  },
  {
   "cell_type": "markdown",
   "metadata": {
    "id": "k7gJxSOb-lXv"
   },
   "source": [
    "<p class=\"exercici\">Exercici 4: Generador de passwords</p>\n",
    "\n",
    "Escriu una funció que generi passwords. La generació ha de ser aleatòria i ha de generar un password nou a cada execució. L'usuari ha de determinar la llargada del password.\n",
    "    \n",
    "Font: Adaptat de [Practice Python. Beginner Python exercises / Michele Pratusevich](http://www.practicepython.org)"
   ]
  }
 ],
 "metadata": {
  "colab": {
   "name": "BasicsCadenes.ipynb",
   "provenance": []
  },
  "kernelspec": {
   "display_name": "Python 3 (ipykernel)",
   "language": "python",
   "name": "python3"
  },
  "language_info": {
   "codemirror_mode": {
    "name": "ipython",
    "version": 3
   },
   "file_extension": ".py",
   "mimetype": "text/x-python",
   "name": "python",
   "nbconvert_exporter": "python",
   "pygments_lexer": "ipython3",
   "version": "3.11.7"
  }
 },
 "nbformat": 4,
 "nbformat_minor": 4
}
