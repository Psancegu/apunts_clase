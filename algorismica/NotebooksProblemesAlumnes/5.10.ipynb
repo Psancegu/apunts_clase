{
 "cells": [
  {
   "cell_type": "markdown",
   "metadata": {
    "id": "kNRqz9KvjFpo"
   },
   "source": [
    "# Capítol 5 - Dividir i Vèncer"
   ]
  },
  {
   "cell_type": "markdown",
   "metadata": {
    "id": "prntJTi2jFp3"
   },
   "source": [
    "### 5.10 Comptador d'inversions"
   ]
  },
  {
   "cell_type": "markdown",
   "metadata": {},
   "source": [
    "Volem ordenar una llista A de nombres enters en ordre creixent, es a dir,\n",
    "$A[i] < A[j]$ per a qualsevol $i < j$.\n",
    "\n",
    "Definim inversió, com el procés d'intercanviar dos valors de la llista que no\n",
    "estiguin en el seu ordre natural, es a dir, que el de l'esquerra sigui més gran\n",
    "que el de la dreta. Concretament, diem que $(A[i];A[j])$ es una inversió, si\n",
    "$A[i] > A[j]$ i $i < j$. \n",
    "\n",
    "Escriu una funció que calculi el nombre d'inversions dins una llista i que digui quines son.\n",
    "\n",
    "Fes servir aquesta plantilla per escriure el teu codi:"
   ]
  },
  {
   "cell_type": "code",
   "execution_count": null,
   "metadata": {
    "id": "TjP_vab2jFp3"
   },
   "outputs": [],
   "source": [
    "def comptador_inversions(llista):\n",
    "    \"\"\"\n",
    "    Aquesta funció compta quantes inversions s'han fet.\n",
    "    \n",
    "    Parameters\n",
    "    ----------\n",
    "    llista: list\n",
    "    \n",
    "    Returns\n",
    "    -------\n",
    "    num: int\n",
    "    \"\"\"\n",
    "    \n",
    "    return b"
   ]
  },
  {
   "cell_type": "code",
   "execution_count": null,
   "metadata": {
    "id": "r9jAwhO6jFp3"
   },
   "outputs": [],
   "source": [
    "assert comptador_inversions([3, 1, 5, 2, 7, 8, 4]) == 6"
   ]
  }
 ],
 "metadata": {
  "colab": {
   "collapsed_sections": [],
   "name": "5.10.ipynb",
   "provenance": []
  },
  "kernelspec": {
   "display_name": "Python 3",
   "language": "python",
   "name": "python3"
  },
  "language_info": {
   "codemirror_mode": {
    "name": "ipython",
    "version": 3
   },
   "file_extension": ".py",
   "mimetype": "text/x-python",
   "name": "python",
   "nbconvert_exporter": "python",
   "pygments_lexer": "ipython3",
   "version": "3.8.10"
  }
 },
 "nbformat": 4,
 "nbformat_minor": 0
}
