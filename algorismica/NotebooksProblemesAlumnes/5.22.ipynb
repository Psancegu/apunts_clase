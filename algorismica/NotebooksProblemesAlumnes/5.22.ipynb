{
 "cells": [
  {
   "cell_type": "markdown",
   "metadata": {
    "id": "1rQeW3F3lk-b"
   },
   "source": [
    "# Capítol 5 - Dividir i Vèncer"
   ]
  },
  {
   "cell_type": "markdown",
   "metadata": {
    "id": "zfJVB5Gslk-5"
   },
   "source": [
    "### 5.22 Ordenar llista aparellada"
   ]
  },
  {
   "cell_type": "markdown",
   "metadata": {},
   "source": [
    "Suposem que necessitem ordenar llistes els nombres de les quals apareixen duplicats, un darrere l'altre. Per exemple, la llista [1, 1, 4, 4, 3, 3, 5, 5]. Prova els algorismes d'ordenació quicksort i mergesort. Calcula la complexitat d'aquests dos algorismes a nivell de comparacions i d'intercanvis d'elements.\n",
    "\n",
    "No pots utilitzar funcions d'ordenació de Python."
   ]
  },
  {
   "cell_type": "markdown",
   "metadata": {},
   "source": [
    "El mergesort ha de retornar la llista modificada."
   ]
  },
  {
   "cell_type": "code",
   "execution_count": null,
   "metadata": {
    "id": "o7MB7CStlk-5"
   },
   "outputs": [],
   "source": [
    "def mergesortParelles(llista):\n",
    "    \"\"\"\n",
    "    Aquesta funció va partint la llista en una banda dreta i una esquerra\n",
    "    fins que aquestes bandes tenen un element. \n",
    "    Quan ho aconsegueix, crida merge per fusionar ambdues bandes de manera \n",
    "    ordenada fins arribar a fusionar la llista completa original.\n",
    "    \n",
    "    Retorna la llista modificada.\n",
    "    \"\"\""
   ]
  },
  {
   "cell_type": "code",
   "execution_count": null,
   "metadata": {
    "id": "ey5xo0DZlk-5",
    "outputId": "308e0cf2-b0d3-480e-bddd-102f9b58dc63"
   },
   "outputs": [],
   "source": [
    "llista = [1, 1, 7, 7, 2, 2, 3, 3, 5, 5]\n",
    "assert mergesortParelles(llista) == [1, 1, 2, 2, 3, 3, 5, 5, 7, 7]"
   ]
  },
  {
   "cell_type": "markdown",
   "metadata": {},
   "source": [
    "El quicksort no retorna res perquè modifica la llista original."
   ]
  },
  {
   "cell_type": "code",
   "execution_count": null,
   "metadata": {
    "id": "LAkrUEhwlk-5"
   },
   "outputs": [],
   "source": [
    "def quick_sortParelles(llista): \n",
    "    \"\"\"\n",
    "    Aquesta funció tria el valor mig entre l'element inicial, final i mig \n",
    "    d'una llista i l'ubica al lloc que li correspondrà quan la llista està \n",
    "    ordenada, alhora deixa a la seva esquerra valors menors i a la dreta\n",
    "    valors majors. \n",
    "    \n",
    "    Per tant altera la llista i no retorna res.\n",
    "    \"\"\""
   ]
  },
  {
   "cell_type": "code",
   "execution_count": null,
   "metadata": {
    "id": "HVq549DTlk-6",
    "outputId": "5da55dd1-16a1-40b8-e449-e0786afdf809"
   },
   "outputs": [],
   "source": [
    "llista = [1, 1, 7, 7, 2, 2, 3, 3, 5, 5]\n",
    "quick_sortParelles(llista)\n",
    "assert llista == [1, 1, 2, 2, 3, 3, 5, 5, 7, 7]"
   ]
  }
 ],
 "metadata": {
  "colab": {
   "collapsed_sections": [],
   "name": "5.22.ipynb",
   "provenance": []
  },
  "kernelspec": {
   "display_name": "Python 3 (ipykernel)",
   "language": "python",
   "name": "python3"
  },
  "language_info": {
   "codemirror_mode": {
    "name": "ipython",
    "version": 3
   },
   "file_extension": ".py",
   "mimetype": "text/x-python",
   "name": "python",
   "nbconvert_exporter": "python",
   "pygments_lexer": "ipython3",
   "version": "3.8.13"
  }
 },
 "nbformat": 4,
 "nbformat_minor": 4
}
