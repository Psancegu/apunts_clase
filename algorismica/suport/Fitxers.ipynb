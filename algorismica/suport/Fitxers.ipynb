{
 "cells": [
  {
   "cell_type": "markdown",
   "metadata": {
    "id": "IDioXxCpAYvd"
   },
   "source": [
    "<div id=\"capcalera\">\n",
    "<p >Aquest notebook complementa els continguts teòrics de l'assignatura d'<strong>Algorísmica</strong> del Grau d'Enginyeria Informàtica a la <a href=\"https://mat.ub.edu\">Facultat de Matemàtiques i Informàtica</a> de la <a href=\"https://www.ub.edu\">Universitat de Barcelona</a></p>\n",
    "\n",
    "<p>Els problemes s'ofereixen sota llicència <a href=\"https://creativecommons.org/licenses/by-nc-nd/3.0/us/legalcode\">CC-BY-NC-ND license</a>, i el codi sota <a href=\"https://opensource.org/licenses/MIT\">Llicència MIT</a>.</p>\n",
    "\n",
    "</div>"
   ]
  },
  {
   "cell_type": "markdown",
   "metadata": {
    "id": "dJvkvLujAYvi"
   },
   "source": [
    "# <span class=\"tema\">( Continguts teòrics)</span> Input/Output i fitxers"
   ]
  },
  {
   "cell_type": "markdown",
   "metadata": {
    "id": "YCaIhV3SAYvj"
   },
   "source": [
    "## Input: \n",
    "Per demanar dades a l’usuari s’usa input(‘Text a mostrar:’).\n",
    "\n",
    "### Documentació Python de referència\n",
    "\n",
    "- https://docs.python.org/3/library/functions.html?#input***"
   ]
  },
  {
   "cell_type": "code",
   "execution_count": null,
   "metadata": {
    "id": "_4aSZA7QAYvk",
    "outputId": "9737e4c4-5e8f-4d8b-e539-7ff7e7c7020b"
   },
   "outputs": [
    {
     "name": "stdout",
     "output_type": "stream",
     "text": [
      "Digues-me el teu nom:Cristina\n",
      "Cristina\n"
     ]
    }
   ],
   "source": [
    "# Exemple\n",
    "nom = input(\"Digues-me el teu nom:\")\n",
    "print(nom)"
   ]
  },
  {
   "cell_type": "markdown",
   "metadata": {
    "id": "QQiptcR-AYvm"
   },
   "source": [
    "Per defecte el valor entrat serà una cadena de caràcters. Si volem canviar el tipus caldrà indicar el tipus que volem usar."
   ]
  },
  {
   "cell_type": "code",
   "execution_count": null,
   "metadata": {
    "id": "ricj3-jNAYvn",
    "outputId": "7053b702-559b-40ab-cf5b-7b6384a67195"
   },
   "outputs": [
    {
     "name": "stdout",
     "output_type": "stream",
     "text": [
      "Digues-me la teva edat:15\n",
      "15\n",
      "<class 'int'>\n"
     ]
    }
   ],
   "source": [
    "# Exemple\n",
    "edat = int(input(\"Digues-me la teva edat:\"))\n",
    "print(edat)\n",
    "print(type(edat))"
   ]
  },
  {
   "cell_type": "code",
   "execution_count": null,
   "metadata": {
    "id": "L1lRyC4uAYvn",
    "outputId": "9c91cfbf-3706-4c33-a12c-ed3f677d8d3c"
   },
   "outputs": [
    {
     "name": "stdout",
     "output_type": "stream",
     "text": [
      "Digues-me quin descompte vols per les rebaixes (per ex. 0.2 és un 20%) 0.5\n",
      "50.0 %\n",
      "<class 'float'>\n"
     ]
    }
   ],
   "source": [
    "# Exemple 2\n",
    "descompte = float(input(\"Digues-me quin descompte vols per les rebaixes (per ex. 0.2 és un 20%) \"))\n",
    "print(descompte * 100, \"%\")\n",
    "print(type(descompte))"
   ]
  },
  {
   "cell_type": "code",
   "execution_count": null,
   "metadata": {
    "id": "d3BOrZ1fAYvo",
    "outputId": "ec2bda2a-f193-46d8-f7bf-b89f60920ef6"
   },
   "outputs": [
    {
     "name": "stdout",
     "output_type": "stream",
     "text": [
      "Entra un valor0.6\n",
      "0.6\n"
     ]
    },
    {
     "data": {
      "text/plain": [
       "float"
      ]
     },
     "execution_count": 5,
     "metadata": {
      "tags": []
     },
     "output_type": "execute_result"
    }
   ],
   "source": [
    "# Exemple 3\n",
    "x = eval(input(\"Entra un valor\"))  \n",
    "#eval avalua l'entrada i fa que el tipus sigui l'adient\n",
    "print(x)\n",
    "type(x)"
   ]
  },
  {
   "cell_type": "markdown",
   "metadata": {
    "id": "aS6xbNbUAYvp"
   },
   "source": [
    "També podem demanar dues o més dades alhora amb una assignació múltiple i separant l'entrada amb una coma si usem <cite>eval</cite>. Però en aquest cas, si el que entrem és una paraula ha d'anar entre cometes, perquè altrament Python es pensa que és una variable."
   ]
  },
  {
   "cell_type": "code",
   "execution_count": null,
   "metadata": {
    "id": "tdUVFzMhAYvq"
   },
   "outputs": [],
   "source": [
    "# Exemple\n",
    "nom, cognom1, cognom2 = eval(input(\"Digues-me el teu nom i cognoms \\\n",
    "separant-los per comes, per ex. 'Anna', 'Cendra', 'Fuster':\"))\n",
    "print(nom)\n",
    "print(cognom1)\n",
    "print(cognom2)"
   ]
  },
  {
   "cell_type": "markdown",
   "metadata": {
    "id": "YLqV4n5zAYvr"
   },
   "source": [
    "## Output: \n",
    "Per mostrar dades a l'usuari s'utilitza print(text o valors a mostrar).\n",
    "\n",
    "***Nota: pots trobar més informació sobre print a la documentació de Python: ***\n",
    "- Formatted string literals https://docs.python.org/3.6/reference/lexical_analysis.html#f-strings\n",
    "- Input and Output https://docs.python.org/3.6/tutorial/inputoutput.html"
   ]
  },
  {
   "cell_type": "code",
   "execution_count": null,
   "metadata": {
    "id": "SukjJXfFAYvr",
    "outputId": "e0e6fca1-9ea6-4227-c87f-d2841e898853"
   },
   "outputs": [
    {
     "name": "stdout",
     "output_type": "stream",
     "text": [
      "Jordi\n"
     ]
    }
   ],
   "source": [
    "# Exemple\n",
    "nom = \"Jordi\"\n",
    "print(nom)"
   ]
  },
  {
   "cell_type": "markdown",
   "metadata": {
    "id": "SRr-ksL-AYvr"
   },
   "source": [
    "Amb Python 3 els arguments de print sempre han d'anar entre parèntesi, i poden consistir en literals (nombres o textos directament), variables o operacions"
   ]
  },
  {
   "cell_type": "code",
   "execution_count": null,
   "metadata": {
    "id": "89GwfdoAAYvs",
    "outputId": "b37d4ad9-c088-4ae8-ce9b-311379d8710f"
   },
   "outputs": [
    {
     "name": "stdout",
     "output_type": "stream",
     "text": [
      "pere\n",
      "17\n",
      "alex\n",
      "14\n",
      "15\n",
      "18\n",
      "alexalex\n"
     ]
    }
   ],
   "source": [
    "# Exemple\n",
    "edat = 14\n",
    "nom = \"alex\"\n",
    "print(\"pere\")\n",
    "print(17)\n",
    "print(nom)\n",
    "print(edat)\n",
    "print(17 - 2)\n",
    "print(edat + 4)\n",
    "print(nom + nom)"
   ]
  },
  {
   "cell_type": "markdown",
   "metadata": {
    "id": "Y9Ft0Jo7AYvs"
   },
   "source": [
    "Cada \"print\" ocuparà una línia nova a la sortida, però podem ajuntar diversos valors en un únic print sense operar-los, amb una coma."
   ]
  },
  {
   "cell_type": "code",
   "execution_count": null,
   "metadata": {
    "id": "5PDeulsmAYvt",
    "outputId": "8491d3c5-f98c-4b37-ef77-369ea844475d"
   },
   "outputs": [
    {
     "name": "stdout",
     "output_type": "stream",
     "text": [
      "alex 14\n"
     ]
    }
   ],
   "source": [
    "# Exemple\n",
    "edat = 14\n",
    "nom = \"alex\"\n",
    "print(nom, edat)"
   ]
  },
  {
   "cell_type": "markdown",
   "metadata": {
    "id": "RdJF7V05AYvt"
   },
   "source": [
    "També podem usar el print amb format **print(f...)** per incloure valors de variables dins una frase o provocar que el següent print es faci a la mateixa línia."
   ]
  },
  {
   "cell_type": "code",
   "execution_count": null,
   "metadata": {
    "id": "JUN2wKVjAYvt",
    "outputId": "26f431db-e4cb-4953-e550-f2729685c2a6"
   },
   "outputs": [
    {
     "name": "stdout",
     "output_type": "stream",
     "text": [
      "L' alex té 18 anys\n",
      "L'edat de l'alex és: 18\n"
     ]
    }
   ],
   "source": [
    "# Exemple\n",
    "edat = 18\n",
    "nom = \"alex\"\n",
    "print(f\"L' {nom} té {edat} anys\")  # les variables les hem de posar entre {}\n",
    "print(f\"L'edat de l'{nom} és: \", end=\"\")  #amb end=\"\" fem que no salti línea\n",
    "print(edat)"
   ]
  },
  {
   "cell_type": "markdown",
   "metadata": {
    "id": "k3Eh_nLoAYvu"
   },
   "source": [
    "### <span class=\"exercici\">Exercici 1: Fes una funció que et demani dades del teu esport, joc o app preferida i les mostri a la pantalla amb elegància. Les dades han d'incloure com a mínim un text, un nombre i un booleà.</span>"
   ]
  },
  {
   "cell_type": "markdown",
   "metadata": {
    "id": "9gQE176xAYvu"
   },
   "source": [
    "### <span class=\"exercici\">Exercici 2:Escriu una funció, ``magnitude``, que accepti dos punts i calculi la distància euclidiana entre ells, $d= \\sqrt{(x_2-x_1)^2+(y_2-y_1)^2}$</span>"
   ]
  },
  {
   "cell_type": "markdown",
   "metadata": {
    "id": "qVgx7UeSAYvv"
   },
   "source": [
    "## Fitxers\n",
    "\n",
    "Sovint les dades d´un algorisme es troben a memòria permanent en un fitxer. Des de Python podem llegir i escriure fitxers amb algunes instruccions particulars. En aquesta assignatura només veurem fitxers de text.\n",
    "\n",
    "### Obrir un fitxer i tancar-lo\n",
    "Per poder treballar amb un fitxer primer de tot cal obrir-lo\n",
    "\n",
    "**Atenció**: el fitxer ha de ser a la mateixa carpeta que la funció (que el notebook o que l'arxiu .py)\n",
    "\n",
    "```python\n",
    "elMeuFitxer = open(\"nom fitxer\", \"mode\") \n",
    "```\n",
    "a on nom fitxer és el nom del fitxer en el disc i mode pot ser r (read) per llegir, w (write) per escriure [si no hi ha cap fitxer això el crea] o altres que no tractarem.\n",
    "\n",
    "Per exemple:\n",
    "```python\n",
    "elMeuFitxer = open(\"prova.txt\", r) \n",
    "```\n",
    "obre el fitxer prova.txt en mode lectura (només podrem llegir, no escriure)\n",
    "\n",
    "Hem de pensar sempre a tancar els fitxers un cop oberts perquè altrament es podrien produir resultats inesperats a l´hora de fer altres entrades o sortides o podriem tenir problemes de memòria.\n",
    "\n",
    "```python\n",
    "elMeuFitxer.close()\n",
    "```\n",
    "\n",
    "### Escriure en un fitxer\n",
    "\n",
    "Un cop tinguem el fitxer obert ja podem fer coses amb ell. Per ex:\n",
    "\n",
    "```python\n",
    "fitxer = open(\"fitxerprova.txt\", \"w\") \n",
    " \n",
    "fitxer.write(\"Hola món\\n\")  # el caràcter \\n indica salt de línia\n",
    "fitxer.write(\"Aquest és el nostre fitxer de text nou\\n\") \n",
    "fitxer.write(\"i això és una línia nova\\n\") \n",
    "fitxer.write(\"I el fitxer s'ha creat.\\n\") \n",
    " \n",
    "fitxer.close() \n",
    "```\n",
    "\n",
    "I efectivament si mirem el fitxer amb un editor de text, a dintre hi veurem:\n",
    "```python\n",
    "Hola món\n",
    "Aquest és el nostre fitxer de text nou\n",
    "i això és una línia nova\n",
    "I el fitxer s´ha creat.\n",
    "```\n",
    "\n",
    "### Llegir d'un fitxer\n",
    "\n",
    "Quan llegim un fitxer python ens retorna un string amb el seu contingut\n",
    "\n",
    "```python\n",
    "file = open(\"fitxerprova.txt\", \"r\") \n",
    "print(file.read())\n",
    "file.close() \n",
    "```\n",
    "\n",
    "Que ens mostrarà:\n",
    "\n",
    "```python\n",
    "    Hola món\n",
    "    Aquest és el nostre fitxer de text nou\n",
    "    i això és una línia nova\n",
    "    I el fitxer s'ha creat.\n",
    "```\n",
    "\n",
    "\n",
    "o també podem optar a llegir-lo línia a línia\n",
    "```python\n",
    "file = open(\"fitxerprova.txt\", \"r\") \n",
    "print(file.readlines())\n",
    "file.close() \n",
    "```\n",
    "Que ens mostrarà\n",
    "```python\n",
    "['Hola món\\n', 'Aquest és el nostre fitxer de text nou\\n', 'i això és una línia nova\\n', 'I el fitxer s'ha creat.\\n']\n",
    "```\n",
    "\n",
    "Podem també recorrer un fitxer dins una iteració:\n",
    "```python\n",
    "file = open(\"fitxerprova.txt\", \"r\") \n",
    "for l in file:\n",
    "    print(l)\n",
    "file.close() \n",
    "```\n",
    "\n",
    "Que ens mostrarà\n",
    "```python\n",
    "Hola món\n",
    "\n",
    "Aquest és el nostre fitxer de text nou\n",
    "\n",
    "i això és una línia nova\n",
    "\n",
    "I el fitxer s'ha creat..\n",
    "```\n",
    "\n",
    "### Gestió elegant de fitxers\n",
    "Quan volem fer diverses accions de lectura sobre un fitxer podem usar l´ordre with...\n",
    "\n",
    "```python\n",
    "with open(\"fitxerprova.txt\") as file:  \n",
    "    data = file.read() \n",
    "    do something with data \n",
    "```\n",
    "\n",
    "amb el with obrim sempre en mode lectura, i no ens cal indicar el tancament\n",
    "\n",
    "És molt recomanable doncs usar aquesta sintaxi quan s´escau.\n"
   ]
  },
  {
   "cell_type": "markdown",
   "metadata": {
    "id": "mkuJCdnvAYvv"
   },
   "source": [
    "### <span class=\"exercici\">Exercici 3: Refès el programa del joc, esport o app preferida per a que llegeixi les dades d'un fitxer i escrigui el resultat en un altre fitxer. Recorda que les dades han d'incloure com a mínim un text, un nombre i un booleà.</span>"
   ]
  },
  {
   "cell_type": "code",
   "execution_count": null,
   "metadata": {
    "id": "y1ewmxCUAYvw",
    "outputId": "ebd3e4ad-1bd7-47a7-f416-b0af6343cd63"
   },
   "outputs": [
    {
     "data": {
      "text/html": [
       "<style><style>\n",
       "\n",
       "@import url('http://fonts.googleapis.com/css?family=Source+Code+Pro');\n",
       "@import url('http://fonts.googleapis.com/css?family=Lora');\n",
       "\n",
       "/*   adapted from https://github.com/edwardtufte/et-book/blob/gh-pages/et-book.css */\n",
       "\n",
       "@charset \"UTF-8\";\n",
       "\n",
       "@font-face {\n",
       "  font-family: \"et-book\";\n",
       "  src: url(\"et-book/roman-line-figures.ttf\") format(\"truetype\");\n",
       "  font-weight: normal;\n",
       "  font-style: normal\n",
       "}\n",
       "\n",
       "@font-face {\n",
       "  font-family: \"et-book\";\n",
       "  src: url(\"et-book/display-italic-old-style-figures.ttf\") format(\"truetype\");\n",
       "  font-weight: normal;\n",
       "  font-style: italic\n",
       "}\n",
       "\n",
       "@font-face {\n",
       "  font-family: \"et-book\";\n",
       "  src: url(\"et-book/bold-line-figures.ttf\") format(\"truetype\");\n",
       "  font-weight: bold;\n",
       "  font-style: normal\n",
       "}\n",
       "\n",
       "@font-face {\n",
       "  font-family: \"et-book-roman-old-style\";\n",
       "  src: url(\"et-book/roman-old-style-figures.ttf\") format(\"truetype\");\n",
       "  font-weight: normal;\n",
       "  font-style: normal;\n",
       "}\n",
       "\n",
       "html {\n",
       "       font-size: 15px !important;\n",
       "}\n",
       "\n",
       ".tema, h1 span { font-size: 14pt;\n",
       "\tfont-style: italic;\n",
       "\tfont-weight: 100;}\n",
       "\n",
       "#capcalera {\tfont-family:Arial;\n",
       "\t\tfont-size:12pt;\n",
       "\t\tbackground-color:#fff1f1;\n",
       "\t\tpadding:5px;\n",
       "\t\t}\n",
       "#peu {\tfont-family:Arial;\n",
       "\tfont-size:12pt;\n",
       "\tbackground-color:#fff1f1;\n",
       "\tpadding:2px;\n",
       "\tline-height:1}\n",
       "\n",
       ".exercici {color:#a60d0d;\n",
       "\t   /* border-width:0 0 2px 2px !important;\n",
       "\t   border-style:solid !important;\n",
       "\t   border-color:#5e3333 !important; */ }\n",
       "\n",
       ".explicacio {}\n",
       "\n",
       ".avaluacio {}\n",
       "\n",
       "\n",
       "#notebook-container, .notebook_cell_list {\n",
       "       font-size: 1rem !important;\n",
       "       line-height: 1.5 !important;\n",
       "       width: 100%  !important;\n",
       "       margin-left: auto !important;\n",
       "       margin-right: auto !important;\n",
       "       padding-left: 12.5% !important;\n",
       "       font-family: et-book, Palatino, \"Palatino Linotype\", \"Palatino LT STD\", \"Book Antiqua\", Georgia, serif  !important;\n",
       "       background-color: #fffff8 !important;\n",
       "       color: #111 !important;\n",
       "       max-width: 1400px !important; }\n",
       "\n",
       " .rendered .input_prompt {\n",
       "\t min-width:0 !important; } \n",
       "\n",
       ".text_cell_render h1, .markdown h1 { \n",
       "     font-weight: 400;\n",
       "     font-style: normal;\n",
       "     margin-top: 0rem;\n",
       "     margin-bottom: 0rem;\n",
       "     font-size: 2rem; }\n",
       "\n",
       " .text_cell_render h2 { font-style: italic;\n",
       "     font-weight: 400;\n",
       "     font-size: 1.5rem;\n",
       "     margin-top: 1.5rem;\n",
       "     margin-bottom: 1.5em; }\n",
       "\n",
       " .text_cell_render h3 { font-style: italic;\n",
       "             font-weight: 400;\n",
       "             margin-top: 1rem;\n",
       "             margin-bottom: 1rem;\n",
       "             font-size: 1.2rem;\n",
       "             display: block; }\n",
       "\n",
       " .text_cell_render h4 {\n",
       "    font-size: 1.1rem;\n",
       "    font-weight: 400;\n",
       "    margin: 1rem auto; }\n",
       "\n",
       ".rendered_html p { \n",
       "\tfont-size: 1rem !important; \n",
       "    \tmargin-top: 1rem !important;;\n",
       "    \tmargin-bottom: 1rem !important;;\n",
       "    \tpadding-right: 0 !important;;\n",
       "    \tvertical-align: baseline !important;; }\n",
       "\n",
       ".rendered_html blockquote { font-size: 1.1rem !important;}\n",
       "\n",
       ".rendered_html ol, ul { width: 75% !important;; }\n",
       "\n",
       ".rendered_html li { padding: 0.5rem 0 !important;; }\n",
       "\n",
       ".rendered_html table {\n",
       "  border-top: 2px solid #111 !important;\n",
       "  border-bottom: 2px solid #111 !important;\n",
       "  font-size: 0.8rem !important;\n",
       "}\n",
       "\n",
       ".rendered_html th {\n",
       "  border-bottom: 1px solid #111 !important;\n",
       "}\n",
       "\t \n",
       ".rendered_html a { text-decoration: none !important;\n",
       "         background: linear-gradient(#fffff8, #fffff8), linear-gradient(#fffff8, #fffff8), linear-gradient(#333, #333);\n",
       "         background-size: 0.05em 1px, 0.05em 1px, 1px 1px;\n",
       "         background-repeat: no-repeat, no-repeat, repeat-x;\n",
       "         text-shadow: 0.03em 0 #fffff8, -0.03em 0 #fffff8, 0 0.03em #fffff8, 0 -0.03em #fffff8, 0.06em 0 #fffff8, -0.06em 0 #fffff8, 0.09em 0 #fffff8, -0.09em 0 #fffff8, 0.12em 0 #fffff8, -0.12em 0 #fffff8, 0.15em 0 #fffff8, -0.15em 0 #fffff8;\n",
       "         background-position: 0% 93%, 100% 93%, 0% 93%; }\n",
       "\n",
       ".rendered_html a:link::selection { text-shadow: 0.03em 0 #b4d5fe, -0.03em 0 #b4d5fe, 0 0.03em #b4d5fe, 0 -0.03em #b4d5fe, 0.06em 0 #b4d5fe, -0.06em 0 #b4d5fe, 0.09em 0 #b4d5fe, -0.09em 0 #b4d5fe, 0.12em 0 #b4d5fe, -0.12em 0 #b4d5fe, 0.15em 0 #b4d5fe, -0.15em 0 #b4d5fe;\n",
       "                    background: #b4d5fe; }\n",
       " \n",
       ".rendered_html pre { \n",
       "\tborder:1px solid #cccccc !important; }\n",
       "\n",
       ".rendered_html * code { \n",
       "\tfont-size: 1rem !important;\n",
       "        line-height: 1.5 !important;\n",
       "\tfont-family: Consolas, \"Liberation Mono\", Menlo, Courier, monospace !important;\n",
       "\tbackground-color: #fff !important }\n",
       "</style> \n",
       "<script>\n",
       "    MathJax.Hub.Config({\n",
       "                        TeX: {\n",
       "                           extensions: [\"AMSmath.js\"],\n",
       "                           equationNumbers: { autoNumber: \"AMS\", useLabelIds: true}\n",
       "                           },\n",
       "                tex2jax: {\n",
       "                    inlineMath: [ ['$','$'], [\"\\\\(\",\"\\\\)\"] ],\n",
       "                    displayMath: [ ['$$','$$'], [\"\\\\[\",\"\\\\]\"] ]\n",
       "                },\n",
       "                displayAlign: 'center', // Change this to 'center' to center equations.\n",
       "                \"HTML-CSS\": {\n",
       "                    scale: 95,\n",
       "                        availableFonts: [],\n",
       "                        preferredFont:null,\n",
       "                        webFont: \"TeX\",\n",
       "                    styles: {'.MathJax_Display': {\"margin\": 4}}\n",
       "                },\n",
       "                 \"fast-preview\": {\n",
       "                    \"disabled\": false\n",
       "                }\n",
       "        });\n",
       "</script>\n",
       "</style>"
      ],
      "text/plain": [
       "<IPython.core.display.HTML object>"
      ]
     },
     "execution_count": 1,
     "metadata": {
      "tags": []
     },
     "output_type": "execute_result"
    }
   ],
   "source": [
    "# Executar aquesta cel.la per donar estil al notebook\n",
    "from IPython.core.display import HTML\n",
    "import requests\n",
    "style=requests.get('https://raw.githubusercontent.com/algorismica2019/problemes/master/assets/prova.css').text\n",
    "HTML('<style>{}</style>'.format(style))"
   ]
  },
  {
   "cell_type": "markdown",
   "metadata": {
    "id": "btbsZBaKAYvx"
   },
   "source": [
    "<div id=\"peu\">\n",
    "<p><a href=\"https://colab.research.google.com/github/algorismica2019/problemes/blob/master/Fitxers.ipynb\"><img style=\"margin:-10px 10px 20px 0\" width=\"150px\" align=\"right\" src=\"https://raw.githubusercontent.com/algorismica2019/problemes/master/assets/colab-badge.png?raw=1\" alt=\"Obrir a Colab\" title=\"Obrir i executar a Google Colaboratory\"></a></p>\n",
    "<p style=\"clear:both;text-align:center\">&lt; <a href=\"Control.ipynb\">Control</a> | <a href=\"Teoria.ipynb\">Explicacions teòriques</a> | <a href=\"LListatProblemes.ipynb\">LListat de problemes</a> | <a href=\"Complexitat.ipynb\">Complexitat</a> &gt; </p>\n",
    "</div>"
   ]
  }
 ],
 "metadata": {
  "colab": {
   "name": "Fitxers.ipynb",
   "provenance": []
  },
  "kernelspec": {
   "display_name": "Python 3 (ipykernel)",
   "language": "python",
   "name": "python3"
  },
  "language_info": {
   "codemirror_mode": {
    "name": "ipython",
    "version": 3
   },
   "file_extension": ".py",
   "mimetype": "text/x-python",
   "name": "python",
   "nbconvert_exporter": "python",
   "pygments_lexer": "ipython3",
   "version": "3.9.7"
  }
 },
 "nbformat": 4,
 "nbformat_minor": 1
}
