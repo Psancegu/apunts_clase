{
 "cells": [
  {
   "cell_type": "markdown",
   "metadata": {
    "id": "z3lp7QgqhXIg"
   },
   "source": [
    "# Capítol 5 - Dividir i Vèncer"
   ]
  },
  {
   "cell_type": "markdown",
   "metadata": {
    "id": "49cQQoRrhXIk"
   },
   "source": [
    "### 5.2 Nombre no repetit"
   ]
  },
  {
   "cell_type": "markdown",
   "metadata": {},
   "source": [
    "Donada una llista de nombres en què cada nombre apareix dues vegades consecutives (una darrera l'altra) i només hi ha un element que surt una sola vegada, escriu una funció que trobi aquest valor desaparellat. Pensa en una solució que resolgui el problema amb una complexitat menor que $O(n)$."
   ]
  },
  {
   "cell_type": "code",
   "execution_count": 11,
   "metadata": {
    "id": "BXoWbjdvhXIl"
   },
   "outputs": [
    {
     "name": "stdout",
     "output_type": "stream",
     "text": [
      "low: 1, high: 6\n",
      "low: 1, high: 4\n",
      "low: 1, high: 2\n",
      "low: 2, high: 2\n",
      "2\n"
     ]
    }
   ],
   "source": [
    "def busca_unic(arr):\n",
    "    def dividir_y_conquistar(arr, low, high):\n",
    "        print(f'low: {arr[low]}, high: {arr[high]}')\n",
    "        # Caso base: si solo queda un elemento, ese es el único\n",
    "        if low == high:\n",
    "            return arr[low]\n",
    "\n",
    "        mid = (low + high) // 2\n",
    "\n",
    "        # Verificar si estamos en una posición par o impar\n",
    "        if mid % 2 == 0:\n",
    "            # Si es par, el par correspondiente debería estar a la derecha\n",
    "            if arr[mid] == arr[mid + 1]:\n",
    "                return dividir_y_conquistar(arr, mid + 2, high)\n",
    "            else:\n",
    "                return dividir_y_conquistar(arr, low, mid)\n",
    "        else:\n",
    "            # Si es impar, el par correspondiente debería estar a la izquierda\n",
    "            if arr[mid] == arr[mid - 1]:\n",
    "                return dividir_y_conquistar(arr, mid + 1, high)\n",
    "            else:\n",
    "                return dividir_y_conquistar(arr, low, mid - 1)\n",
    "\n",
    "\n",
    "    return dividir_y_conquistar(arr, 0, len(arr) - 1)\n",
    "\n",
    "\n",
    "print(busca_unic([ 1, 1, 2, 4, 4, 5, 5, 6, 6 ]))   "
   ]
  },
  {
   "cell_type": "code",
   "execution_count": 7,
   "metadata": {
    "id": "4-jOEkijhXIm",
    "outputId": "20c21f25-7970-4eea-a178-c1bdcbfe7f19"
   },
   "outputs": [],
   "source": [
    "assert busca_unic([ 1, 1, 2, 4, 4, 5, 5, 6, 6 ]) == 2"
   ]
  },
  {
   "cell_type": "markdown",
   "metadata": {},
   "source": [
    "La complexitat de l'algorisme és O( )."
   ]
  }
 ],
 "metadata": {
  "colab": {
   "collapsed_sections": [],
   "name": "5.2.ipynb",
   "provenance": []
  },
  "kernelspec": {
   "display_name": "Python 3",
   "language": "python",
   "name": "python3"
  },
  "language_info": {
   "codemirror_mode": {
    "name": "ipython",
    "version": 3
   },
   "file_extension": ".py",
   "mimetype": "text/x-python",
   "name": "python",
   "nbconvert_exporter": "python",
   "pygments_lexer": "ipython3",
   "version": "3.12.3"
  }
 },
 "nbformat": 4,
 "nbformat_minor": 1
}
