{
 "cells": [
  {
   "cell_type": "markdown",
   "metadata": {},
   "source": [
    "# Rotació circular\n",
    "\n",
    "Anomenem \"rotació circular cap a la dreta\" en una llista al moviment que trasllada tots els elements a la casella que tenen a la dreta i mou l'últim a la primera posició.\n",
    "\n",
    "En aquest exercici es proporcionen una llista, un índex pos i un nombre rotacions. Es demana retornar l'element de la posició \"pos\" després d'haver fet \"rotacions\" rotacions cap a la dreta a la llista:"
   ]
  },
  {
   "cell_type": "markdown",
   "metadata": {},
   "source": [
    "<div style=\"background-color:rgba(0, 0, 0, 0.0470588); text-align:left; vertical-align: middle;  border-radius:10px\">\n",
    "    <div style=\"padding: 20px\">\n",
    "    <h5>Exemple 1: </h5>\n",
    "    <p style=\"font-family: Consolas\">Llista: [1,2,3,4,5,6], pos = 2, rotacions = 3.<br>Fem tres rotacions circulars cap a la dreta:<br>\n",
    "     1. [6,1,2,3,4,5]<br>2. [5,6,1,2,3,4]<br>3. [4,5,6,1,2,3]<br>Ara l'element a la posició pos = 2 és el 6, per tant retornaríem 6.</p>\n",
    "        </div>\n",
    "        <p></p>\n",
    "    </div>\n",
    "</div>"
   ]
  },
  {
   "cell_type": "markdown",
   "metadata": {},
   "source": [
    "<div style=\"background-color:rgba(0, 0, 0, 0.0470588); text-align:left; vertical-align: middle;  border-radius:10px\">\n",
    "    <div style=\"padding: 20px\">\n",
    "        <h3>Reflexions prèvies: </h3>\n",
    "        <p>Quines posicions ocupa el \"3\" durant les iteracions? I l'element \"6\"?</p>\n",
    "        <p>Podem pensar en rotacions circulars cap a l'esquerra a partir de les rotacions circulars cap a la dreta? Com?</p>\n",
    "        <h5>Exemple 2: </h5>\n",
    "    <p style=\"font-family: Consolas\">Llista: [1,2,3,4,5,6], j = 2, k = -3.<br>Farem tres rotacions criculars cap a l'esquerra:<br>\n",
    "     1. [2,3,4,5,6,1]<br>2. [3,4,5,6,1,2]<br>3. [4,5,6,1,2,3]<br>Ara l'element a la posició j = 2 és el 6, per tant retornaríem 6.</p>\n",
    "     <p></p>\n",
    "    <h3>Preguntes: </h3>\n",
    "        <p>Quina és la complexitat de l'algorisme si la llista és de mida n i el nombre de rotacions es r?</p>\n",
    "        <p>Es pot aconseguir amb complexitat O(1)?</p>\n",
    "     <p></p>\n",
    "    </div>\n",
    "</div>"
   ]
  },
  {
   "cell_type": "code",
   "execution_count": null,
   "metadata": {},
   "outputs": [],
   "source": [
    "def rotacio_circular(llista, pos, rotacions):\n",
    "    pass\n",
    "\n",
    "assert rotacio_circular([1,2,3,4,5,6],2,3) == 6\n",
    "assert rotacio_circular([1,2,3,4,5,6],2,6) == 3"
   ]
  },
  {
   "cell_type": "markdown",
   "metadata": {},
   "source": [
    "<div style=\"background-color:rgba(70,0, 255, 0.1); text-align:center; vertical-align: center;  border-radius:10px\">\n",
    "    <div style=\"padding: 20px\">\n",
    "    <h5>Problemes elaborats per Esther Ruano, auxiliar docent d'algorismica el curs 22/23.</h5>\n",
    "        <p></p>\n",
    "    </div>\n",
    "</div>"
   ]
  }
 ],
 "metadata": {
  "kernelspec": {
   "display_name": "Python 3",
   "language": "python",
   "name": "python3"
  },
  "language_info": {
   "codemirror_mode": {
    "name": "ipython",
    "version": 3
   },
   "file_extension": ".py",
   "mimetype": "text/x-python",
   "name": "python",
   "nbconvert_exporter": "python",
   "pygments_lexer": "ipython3",
   "version": "3.8.5"
  }
 },
 "nbformat": 4,
 "nbformat_minor": 4
}
