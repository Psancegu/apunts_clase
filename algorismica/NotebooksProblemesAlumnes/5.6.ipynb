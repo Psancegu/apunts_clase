{
 "cells": [
  {
   "cell_type": "markdown",
   "metadata": {
    "id": "sjzYPNHsie1w"
   },
   "source": [
    "# Capítol 5 - Dividir i Vèncer"
   ]
  },
  {
   "cell_type": "markdown",
   "metadata": {
    "id": "XCwfxvKOie16"
   },
   "source": [
    "### 5.6 Negatius al davant"
   ]
  },
  {
   "cell_type": "markdown",
   "metadata": {},
   "source": [
    "Escriu una funcio no recursiva anomenada negatius tal que, donada una llista de nombres enters, modifiqui la llista per col·locar els nombres negatius al principi de la llista. Assegura't que l'algorisme té complexitat lineal, no es poden fer servir funcions addicionals de Python: min, max, pop, insert, sort, etc."
   ]
  },
  {
   "cell_type": "code",
   "execution_count": 16,
   "metadata": {
    "id": "lPkE7tsGie16"
   },
   "outputs": [
    {
     "name": "stdout",
     "output_type": "stream",
     "text": [
      "0\n",
      "6\n",
      "0\n",
      "5\n",
      "0\n",
      "4\n",
      "1\n",
      "-3\n",
      "1\n",
      "4\n",
      "1\n",
      "3\n",
      "-2\n",
      "-4\n",
      "2\n",
      "3\n",
      "3\n",
      "-2\n",
      "[-3, -4, -2, 3, 1, 5, 6]\n"
     ]
    }
   ],
   "source": [
    "def negatius(llista):\n",
    "    \n",
    "    i = 0\n",
    "    j = len(llista) -1\n",
    "\n",
    "    while i < j:\n",
    "        print(i)\n",
    "        print(j)\n",
    "        if llista[i] < llista[j]:\n",
    "            j -= 1\n",
    "        elif llista[i] > llista[j]:\n",
    "            print(llista[i])\n",
    "            print(llista[j])\n",
    "            llista[i], llista[j] = llista[j], llista[i]\n",
    "            i += 1    \n",
    "\n",
    "\n",
    "    return llista\n",
    "\n",
    "\n",
    "llista = [1, -2, 3, -4, -3, 5, 6]\n",
    "print(negatius(llista))"
   ]
  },
  {
   "cell_type": "code",
   "execution_count": 1,
   "metadata": {},
   "outputs": [],
   "source": [
    "def negatius2(llista):\n",
    "    j = length = len(llista) -1\n",
    "    i = 0\n",
    "\n",
    "\n",
    "    while i < j:\n",
    "        while i < length and llista[i] <= 0: i+=1\n",
    "        while j > 0 and llista[j] > 0: j -= 1\n",
    "\n",
    "        if i < j:\n",
    "            llista[i], llista[j] = llista[j], llista[i]\n",
    "\n",
    "    return llista\n"
   ]
  },
  {
   "cell_type": "code",
   "execution_count": 2,
   "metadata": {
    "id": "mNhUoBmAie16"
   },
   "outputs": [],
   "source": [
    "llista = [1, -2, 3, -4, -3, 5, 6]\n",
    "negatius2(llista)\n",
    "assert llista == [-3, -2, -4, 3, 1, 5, 6]"
   ]
  }
 ],
 "metadata": {
  "colab": {
   "collapsed_sections": [],
   "name": "5.6.ipynb",
   "provenance": []
  },
  "kernelspec": {
   "display_name": "Python 3",
   "language": "python",
   "name": "python3"
  },
  "language_info": {
   "codemirror_mode": {
    "name": "ipython",
    "version": 3
   },
   "file_extension": ".py",
   "mimetype": "text/x-python",
   "name": "python",
   "nbconvert_exporter": "python",
   "pygments_lexer": "ipython3",
   "version": "3.12.3"
  }
 },
 "nbformat": 4,
 "nbformat_minor": 4
}
