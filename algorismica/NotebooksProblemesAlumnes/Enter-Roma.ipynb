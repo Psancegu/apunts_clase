{
 "cells": [
  {
   "cell_type": "markdown",
   "metadata": {},
   "source": [
    "# Converteix un enter decimal a numeració romana\n",
    "(Poblema extret de [Leetcode](https://leetcode.com/))\n",
    "\n",
    "Els nombres romans es representen amb 7 símbols: I, V, X, L, C, D i M.\n",
    "\n",
    "Cada símbol té associat un valor:\n",
    "\n",
    "\n",
    "| Symbol | Value |\n",
    "|--------|-------|\n",
    "| I      | 1     |\n",
    "| V      | 5     |\n",
    "| X      | 10    |\n",
    "| L      | 50    |\n",
    "| C      | 100   |\n",
    "| D      | 500   |\n",
    "| M      | 1000  |\n",
    "\n",
    "Per exemple, el 2 es escriu com a II en numeració romana, simplement afegint dos uns junts. El 12 es escriu com a XII, que és simplement X + II. El número 27 es escriu com a XXVII, que és XX + V + II.\n",
    "\n",
    "Els nombres romans solen escriure's del més gran al més petit d'esquerra a dreta. No obstant això, el numeral pel quatre no és IIII, sinó que s'escriu com a IV. Perquè l'unitat està abans del cinc, la restem, fent-ne quatre. El mateix principi s'aplica al número nou, que es escriu com a IX. Hi ha sis instàncies on s'utilitza la resta:\n",
    "\n",
    "I pot situar-se abans de V (5) i X (10) per fer 4 i 9.\n",
    "X pot situar-se abans de L (50) i C (100) per fer 40 i 90.\n",
    "C pot situar-se abans de D (500) i M (1000) per fer 400 i 900.\n",
    "Donat un nombre enter, converteix-lo en un numeral romà.\n",
    "\n",
    "Fes una funcio `enter_roma(num)` que donat un enter `num` retorni una `string` amb la seva representació en numeració romana. El teu codi hauria de funcionar com els següents exemples:\n",
    "\n",
    "Input: num = 3\n",
    "Output: \"III\"\n",
    "\n",
    "Input: num = 11\n",
    "Output: \"XI\"\n",
    "\n",
    "Input: num = 19\n",
    "Output: \"XIX\"\n",
    "\n",
    "Input: num = 58\n",
    "Output: \"LVIII\"\n",
    "\n",
    "Input: num = 1994\n",
    "Output: \"MCMXCIV\"\n",
    "\n",
    "Input: num = 8796\n",
    "Output: \"MMMMMMMMDCCXCVI\"\n"
   ]
  },
  {
   "cell_type": "code",
   "execution_count": null,
   "metadata": {},
   "outputs": [],
   "source": [
    "def enter_roma(num):\n",
    "    \"\"\"\n",
    "    Aquesta funció calcula la representació en xifres romanes d'un nombre enter positiu.\n",
    "\n",
    "    Parameters\n",
    "    ----------\n",
    "    num : int\n",
    "        Nombre enter positiu a convertir.\n",
    "\n",
    "    Returns\n",
    "    -------\n",
    "    roma : str\n",
    "        Representació en xifres romanes de `num`.\n",
    "\n",
    "    \"\"\""
   ]
  },
  {
   "cell_type": "code",
   "execution_count": null,
   "metadata": {},
   "outputs": [],
   "source": [
    "assert enter_roma(1) == 'I'\n",
    "assert enter_roma(2) == 'II'\n",
    "assert enter_roma(39) == 'XXXIX'\n",
    "assert enter_roma(40) == 'XL'\n",
    "assert enter_roma(49) == 'XLIX'\n",
    "assert enter_roma(162) == 'CLXII'\n",
    "assert enter_roma(199) == 'CXCIX'\n",
    "assert enter_roma(8796) == \"MMMMMMMMDCCXCVI\""
   ]
  }
 ],
 "metadata": {
  "language_info": {
   "name": "python"
  }
 },
 "nbformat": 4,
 "nbformat_minor": 2
}
