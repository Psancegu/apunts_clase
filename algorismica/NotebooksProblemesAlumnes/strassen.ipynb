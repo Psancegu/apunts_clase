{
 "cells": [
  {
   "cell_type": "code",
   "execution_count": 3,
   "metadata": {},
   "outputs": [],
   "source": [
    "import numpy as np"
   ]
  },
  {
   "cell_type": "code",
   "execution_count": 22,
   "metadata": {},
   "outputs": [
    {
     "ename": "TypeError",
     "evalue": "Cannot interpret '4' as a data type",
     "output_type": "error",
     "traceback": [
      "\u001b[0;31m---------------------------------------------------------------------------\u001b[0m",
      "\u001b[0;31mTypeError\u001b[0m                                 Traceback (most recent call last)",
      "Cell \u001b[0;32mIn[22], line 17\u001b[0m\n\u001b[1;32m     12\u001b[0m                 C[i][j] \u001b[38;5;241m+\u001b[39m\u001b[38;5;241m=\u001b[39m A[i][k]\u001b[38;5;241m*\u001b[39m B[k][j]\n\u001b[1;32m     15\u001b[0m     \u001b[38;5;28;01mreturn\u001b[39;00m C\n\u001b[0;32m---> 17\u001b[0m \u001b[38;5;28mprint\u001b[39m(\u001b[43mmultiplicar_matrius\u001b[49m\u001b[43m(\u001b[49m\u001b[43mA\u001b[49m\u001b[43m,\u001b[49m\u001b[43mB\u001b[49m\u001b[43m)\u001b[49m) \n",
      "Cell \u001b[0;32mIn[22], line 7\u001b[0m, in \u001b[0;36mmultiplicar_matrius\u001b[0;34m(A, B)\u001b[0m\n\u001b[1;32m      4\u001b[0m \u001b[38;5;28;01mdef\u001b[39;00m \u001b[38;5;21mmultiplicar_matrius\u001b[39m(A,B):\n\u001b[1;32m      5\u001b[0m     n,m,p \u001b[38;5;241m=\u001b[39m A\u001b[38;5;241m.\u001b[39mshape[\u001b[38;5;241m0\u001b[39m], A\u001b[38;5;241m.\u001b[39mshape[\u001b[38;5;241m1\u001b[39m], B\u001b[38;5;241m.\u001b[39mshape[\u001b[38;5;241m1\u001b[39m]\n\u001b[0;32m----> 7\u001b[0m     C \u001b[38;5;241m=\u001b[39m \u001b[43mnp\u001b[49m\u001b[38;5;241;43m.\u001b[39;49m\u001b[43mzeros\u001b[49m\u001b[43m(\u001b[49m\u001b[43mn\u001b[49m\u001b[43m,\u001b[49m\u001b[43mp\u001b[49m\u001b[43m)\u001b[49m\n\u001b[1;32m      9\u001b[0m     \u001b[38;5;28;01mfor\u001b[39;00m i \u001b[38;5;129;01min\u001b[39;00m \u001b[38;5;28mrange\u001b[39m(n):\n\u001b[1;32m     10\u001b[0m         \u001b[38;5;28;01mfor\u001b[39;00m j \u001b[38;5;129;01min\u001b[39;00m \u001b[38;5;28mrange\u001b[39m(p):\n",
      "\u001b[0;31mTypeError\u001b[0m: Cannot interpret '4' as a data type"
     ]
    }
   ],
   "source": [
    "A = np.array([[1,2,3,4],[5,6,7,8],[9,10,11,12]])\n",
    "B = np.array([[1,2,3,4],[5,6,7,8],[9,10,11,12]])\n",
    "\n",
    "def multiplicar_matrius(A,B):\n",
    "    n,m,p = A.shape[0], A.shape[1], B.shape[1]\n",
    "\n",
    "    C = np.zeros(n,p)\n",
    "\n",
    "    for i in range(n):\n",
    "        for j in range(p):\n",
    "            for k in range(m):\n",
    "                C[i][j] += A[i][k]* B[k][j]\n",
    "\n",
    "\n",
    "    return C\n",
    "\n",
    "print(multiplicar_matrius(A,B)) \n"
   ]
  },
  {
   "cell_type": "code",
   "execution_count": 10,
   "metadata": {},
   "outputs": [],
   "source": [
    "def split(matrix):\n",
    "    n = len(matrix)\n",
    "\n",
    "    return matrix[:n//2,:n//2], matrix[:n//2, n//2:], matrix[n//2:, :n//2], matrix[n//2:, n//2:]"
   ]
  },
  {
   "cell_type": "code",
   "execution_count": 19,
   "metadata": {},
   "outputs": [
    {
     "ename": "IndexError",
     "evalue": "too many indices for array: array is 0-dimensional, but 1 were indexed",
     "output_type": "error",
     "traceback": [
      "\u001b[0;31m---------------------------------------------------------------------------\u001b[0m",
      "\u001b[0;31mIndexError\u001b[0m                                Traceback (most recent call last)",
      "Cell \u001b[0;32mIn[19], line 30\u001b[0m\n\u001b[1;32m     23\u001b[0m     C \u001b[38;5;241m=\u001b[39m np\u001b[38;5;241m.\u001b[39mvstack((np\u001b[38;5;241m.\u001b[39mhstack((C1,C2)), np\u001b[38;5;241m.\u001b[39mhstack((C3,C4))))\n\u001b[1;32m     25\u001b[0m     \u001b[38;5;28;01mreturn\u001b[39;00m C\n\u001b[0;32m---> 30\u001b[0m \u001b[38;5;28mprint\u001b[39m(\u001b[43mstrassen\u001b[49m\u001b[43m(\u001b[49m\u001b[43mA\u001b[49m\u001b[43m,\u001b[49m\u001b[43mB\u001b[49m\u001b[43m)\u001b[49m)\n",
      "Cell \u001b[0;32mIn[19], line 8\u001b[0m, in \u001b[0;36mstrassen\u001b[0;34m(X, Y)\u001b[0m\n\u001b[1;32m      5\u001b[0m a,b,c,d \u001b[38;5;241m=\u001b[39m split(A)\n\u001b[1;32m      6\u001b[0m e,f,g,h \u001b[38;5;241m=\u001b[39m split(B)\n\u001b[0;32m----> 8\u001b[0m ae \u001b[38;5;241m=\u001b[39m \u001b[43mstrassen\u001b[49m\u001b[43m(\u001b[49m\u001b[43ma\u001b[49m\u001b[43m,\u001b[49m\u001b[43me\u001b[49m\u001b[43m)\u001b[49m\n\u001b[1;32m      9\u001b[0m bg \u001b[38;5;241m=\u001b[39m strassen(b,f)\n\u001b[1;32m     10\u001b[0m af \u001b[38;5;241m=\u001b[39m strassen(a,f)\n",
      "Cell \u001b[0;32mIn[19], line 3\u001b[0m, in \u001b[0;36mstrassen\u001b[0;34m(X, Y)\u001b[0m\n\u001b[1;32m      1\u001b[0m \u001b[38;5;28;01mdef\u001b[39;00m \u001b[38;5;21mstrassen\u001b[39m(X,Y):\n\u001b[1;32m      2\u001b[0m     \u001b[38;5;28;01mif\u001b[39;00m \u001b[38;5;28mlen\u001b[39m(X) \u001b[38;5;241m<\u001b[39m\u001b[38;5;241m=\u001b[39m \u001b[38;5;241m2\u001b[39m:\n\u001b[0;32m----> 3\u001b[0m         \u001b[43mmultiplicar_matrius\u001b[49m\u001b[43m(\u001b[49m\u001b[43mX\u001b[49m\u001b[43m,\u001b[49m\u001b[43mY\u001b[49m\u001b[43m)\u001b[49m\n\u001b[1;32m      5\u001b[0m     a,b,c,d \u001b[38;5;241m=\u001b[39m split(A)\n\u001b[1;32m      6\u001b[0m     e,f,g,h \u001b[38;5;241m=\u001b[39m split(B)\n",
      "Cell \u001b[0;32mIn[14], line 12\u001b[0m, in \u001b[0;36mmultiplicar_matrius\u001b[0;34m(A, B)\u001b[0m\n\u001b[1;32m     10\u001b[0m     \u001b[38;5;28;01mfor\u001b[39;00m j \u001b[38;5;129;01min\u001b[39;00m \u001b[38;5;28mrange\u001b[39m(p):\n\u001b[1;32m     11\u001b[0m         \u001b[38;5;28;01mfor\u001b[39;00m k \u001b[38;5;129;01min\u001b[39;00m \u001b[38;5;28mrange\u001b[39m(m):\n\u001b[0;32m---> 12\u001b[0m             \u001b[43mC\u001b[49m\u001b[43m[\u001b[49m\u001b[43mi\u001b[49m\u001b[43m]\u001b[49m[j] \u001b[38;5;241m+\u001b[39m\u001b[38;5;241m=\u001b[39m A[i][k]\u001b[38;5;241m*\u001b[39m B[k][j]\n\u001b[1;32m     15\u001b[0m \u001b[38;5;28;01mreturn\u001b[39;00m C\n",
      "\u001b[0;31mIndexError\u001b[0m: too many indices for array: array is 0-dimensional, but 1 were indexed"
     ]
    }
   ],
   "source": [
    "def strassen(X,Y):\n",
    "    if len(X) <= 2:\n",
    "        multiplicar_matrius(X,Y)\n",
    "    \n",
    "    a,b,c,d = split(A)\n",
    "    e,f,g,h = split(B)\n",
    "\n",
    "    ae = strassen(a,e)\n",
    "    bg = strassen(b,f)\n",
    "    af = strassen(a,f)\n",
    "    bh = strassen(b,h)\n",
    "\n",
    "    ce = strassen(c,e)\n",
    "    dg = strassen(d,g)\n",
    "    cf = strassen(c,f)\n",
    "    dh = strassen(d,h)\n",
    "\n",
    "    C1 = ae + bg \n",
    "    C2 = af + bh\n",
    "    C3 = ce + dg\n",
    "    C4 = cf + dh\n",
    "\n",
    "    C = np.vstack((np.hstack((C1,C2)), np.hstack((C3,C4))))\n",
    "\n",
    "    return C\n",
    "\n",
    "\n",
    "        \n",
    "\n",
    "print(strassen(A,B))"
   ]
  },
  {
   "cell_type": "code",
   "execution_count": 21,
   "metadata": {},
   "outputs": [
    {
     "ename": "IndexError",
     "evalue": "too many indices for array: array is 0-dimensional, but 1 were indexed",
     "output_type": "error",
     "traceback": [
      "\u001b[0;31m---------------------------------------------------------------------------\u001b[0m",
      "\u001b[0;31mIndexError\u001b[0m                                Traceback (most recent call last)",
      "Cell \u001b[0;32mIn[21], line 25\u001b[0m\n\u001b[1;32m     21\u001b[0m     C \u001b[38;5;241m=\u001b[39m np\u001b[38;5;241m.\u001b[39mvstack((np\u001b[38;5;241m.\u001b[39mhstack((C1,C2)), np\u001b[38;5;241m.\u001b[39mhstack((C3,C4))))\n\u001b[1;32m     23\u001b[0m     \u001b[38;5;28;01mreturn\u001b[39;00m C\n\u001b[0;32m---> 25\u001b[0m \u001b[38;5;28mprint\u001b[39m(\u001b[43mstrassen2\u001b[49m\u001b[43m(\u001b[49m\u001b[43mA\u001b[49m\u001b[43m,\u001b[49m\u001b[43mB\u001b[49m\u001b[43m)\u001b[49m)\n",
      "Cell \u001b[0;32mIn[21], line 8\u001b[0m, in \u001b[0;36mstrassen2\u001b[0;34m(X, Y)\u001b[0m\n\u001b[1;32m      5\u001b[0m a,b,c,d \u001b[38;5;241m=\u001b[39m split(X)\n\u001b[1;32m      6\u001b[0m e,f,g,h \u001b[38;5;241m=\u001b[39m split(Y)\n\u001b[0;32m----> 8\u001b[0m p1 \u001b[38;5;241m=\u001b[39m \u001b[43mstrassen2\u001b[49m\u001b[43m(\u001b[49m\u001b[43ma\u001b[49m\u001b[38;5;241;43m+\u001b[39;49m\u001b[43md\u001b[49m\u001b[43m,\u001b[49m\u001b[43me\u001b[49m\u001b[38;5;241;43m+\u001b[39;49m\u001b[43mh\u001b[49m\u001b[43m)\u001b[49m\n\u001b[1;32m      9\u001b[0m p2 \u001b[38;5;241m=\u001b[39m strassen2(d,g\u001b[38;5;241m-\u001b[39me)\n\u001b[1;32m     10\u001b[0m p3 \u001b[38;5;241m=\u001b[39m strassen2(a\u001b[38;5;241m+\u001b[39mb,h)\n",
      "Cell \u001b[0;32mIn[21], line 3\u001b[0m, in \u001b[0;36mstrassen2\u001b[0;34m(X, Y)\u001b[0m\n\u001b[1;32m      1\u001b[0m \u001b[38;5;28;01mdef\u001b[39;00m \u001b[38;5;21mstrassen2\u001b[39m(X,Y):\n\u001b[1;32m      2\u001b[0m     \u001b[38;5;28;01mif\u001b[39;00m \u001b[38;5;28mlen\u001b[39m(X) \u001b[38;5;241m<\u001b[39m\u001b[38;5;241m=\u001b[39m \u001b[38;5;241m2\u001b[39m:\n\u001b[0;32m----> 3\u001b[0m         \u001b[43mmultiplicar_matrius\u001b[49m\u001b[43m(\u001b[49m\u001b[43mX\u001b[49m\u001b[43m,\u001b[49m\u001b[43mY\u001b[49m\u001b[43m)\u001b[49m\n\u001b[1;32m      5\u001b[0m     a,b,c,d \u001b[38;5;241m=\u001b[39m split(X)\n\u001b[1;32m      6\u001b[0m     e,f,g,h \u001b[38;5;241m=\u001b[39m split(Y)\n",
      "Cell \u001b[0;32mIn[14], line 12\u001b[0m, in \u001b[0;36mmultiplicar_matrius\u001b[0;34m(A, B)\u001b[0m\n\u001b[1;32m     10\u001b[0m     \u001b[38;5;28;01mfor\u001b[39;00m j \u001b[38;5;129;01min\u001b[39;00m \u001b[38;5;28mrange\u001b[39m(p):\n\u001b[1;32m     11\u001b[0m         \u001b[38;5;28;01mfor\u001b[39;00m k \u001b[38;5;129;01min\u001b[39;00m \u001b[38;5;28mrange\u001b[39m(m):\n\u001b[0;32m---> 12\u001b[0m             \u001b[43mC\u001b[49m\u001b[43m[\u001b[49m\u001b[43mi\u001b[49m\u001b[43m]\u001b[49m[j] \u001b[38;5;241m+\u001b[39m\u001b[38;5;241m=\u001b[39m A[i][k]\u001b[38;5;241m*\u001b[39m B[k][j]\n\u001b[1;32m     15\u001b[0m \u001b[38;5;28;01mreturn\u001b[39;00m C\n",
      "\u001b[0;31mIndexError\u001b[0m: too many indices for array: array is 0-dimensional, but 1 were indexed"
     ]
    }
   ],
   "source": [
    "def strassen2(X,Y):\n",
    "    if len(X) <= 2:\n",
    "        multiplicar_matrius(X,Y)\n",
    "    \n",
    "    a,b,c,d = split(X)\n",
    "    e,f,g,h = split(Y)\n",
    "\n",
    "    p1 = strassen2(a+d,e+h)\n",
    "    p2 = strassen2(d,g-e)\n",
    "    p3 = strassen2(a+b,h)\n",
    "    p4 = strassen2(b-d,g+h)\n",
    "    p5 = strassen2(a,f-h)\n",
    "    p6 = strassen2(c+d,e)\n",
    "    p7 = strassen2(a-c,e+f)\n",
    "\n",
    "    C1 = p1 + p2 -p3 + p4\n",
    "    C2 = p5 + p3\n",
    "    C3 = p6 + p2\n",
    "    C4 = p5 + p1 -p6 -p7\n",
    "\n",
    "    C = np.vstack((np.hstack((C1,C2)), np.hstack((C3,C4))))\n",
    "\n",
    "    return C\n",
    "\n",
    "print(strassen2(A,B))"
   ]
  }
 ],
 "metadata": {
  "kernelspec": {
   "display_name": "Python 3",
   "language": "python",
   "name": "python3"
  },
  "language_info": {
   "codemirror_mode": {
    "name": "ipython",
    "version": 3
   },
   "file_extension": ".py",
   "mimetype": "text/x-python",
   "name": "python",
   "nbconvert_exporter": "python",
   "pygments_lexer": "ipython3",
   "version": "3.12.3"
  }
 },
 "nbformat": 4,
 "nbformat_minor": 2
}
