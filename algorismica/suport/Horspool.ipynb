{
 "cells": [
  {
   "cell_type": "markdown",
   "metadata": {},
   "source": [
    "<div id=\"capcalera\">\n",
    "<p >Aquest notebook complementa els continguts teòrics de l'assignatura d'<strong>Algorísmica</strong> del Grau d'Enginyeria Informàtica a la <a href=\"https://mat.ub.edu\">Facultat de Matemàtiques i Informàtica</a> de la <a href=\"https://www.ub.edu\">Universitat de Barcelona</a></p>\n",
    "\n",
    "<p>Els problemes s'ofereixen sota llicència <a href=\"https://creativecommons.org/licenses/by-nc-nd/3.0/us/legalcode\">CC-BY-NC-ND license</a>, i el codi sota <a href=\"https://opensource.org/licenses/MIT\">Llicència MIT</a>.</p>\n",
    "\n",
    "</div>"
   ]
  },
  {
   "cell_type": "code",
   "execution_count": null,
   "metadata": {
    "id": "G9lBnlCwbdC4"
   },
   "outputs": [],
   "source": [
    "def BoyerMooreHorspool1(pattern, text):\n",
    "    m = len(pattern)\n",
    "    n = len(text)\n",
    "    if m > n: \n",
    "      return -1     # el text ha de ser més llarg\n",
    "    skip = []\n",
    "    for k in range(256): \n",
    "      skip.append(m)      # assignem el desplaçament màxim a tots els caràcters\n",
    "    for k in range(m - 1): \n",
    "      skip[ord(pattern[k])] = m - k - 1    # assignem el desplaçament correcte\n",
    "                                           # als caràcters del patró \n",
    "                                           # si apareixen més d'un cop \n",
    "                                           # es guardarà el darrer només\n",
    "    skip = tuple(skip) # convertim a tupla perquè ja no hi hem de fer més canvis\n",
    "    k = m - 1          # posició del text equivalent a la darrera lletra del patró\n",
    "    while k < n:\n",
    "        j = m - 1      # índex de la lletra del patró que comparem \n",
    "        i = k          # índex de la lletra del text que comparem\n",
    "        while j >= 0 and text[i] == pattern[j]:\n",
    "            j -= 1\n",
    "            i -= 1\n",
    "        # avancem(!) mentre hi hagi text i les lletres coincideixen\n",
    "        if j == -1:    # si el patró s'ha acabat (totes les lletres han coincidit)\n",
    "          return i + 1 # retornem la posició del text \n",
    "        k += skip[ord(text[k])]  # desplacem sense tenir en compte els avenços fets\n",
    "    return -1  # si hem arribat fins aquí no hem trobat el patró"
   ]
  },
  {
   "cell_type": "code",
   "execution_count": null,
   "metadata": {
    "colab": {
     "base_uri": "https://localhost:8080/"
    },
    "id": "CIYBLMNXb0Ga",
    "outputId": "f7f2d027-f4b6-440c-8610-22658d85ca36"
   },
   "outputs": [
    {
     "data": {
      "text/plain": [
       "16"
      ]
     },
     "execution_count": 23,
     "metadata": {
      "tags": []
     },
     "output_type": "execute_result"
    }
   ],
   "source": [
    "BoyerMooreHorspool1(\"BARBER\", \"JIM SAW ME IN A BARBERSHOP\")"
   ]
  },
  {
   "cell_type": "code",
   "execution_count": null,
   "metadata": {
    "id": "3WadU0-GjF1h"
   },
   "outputs": [],
   "source": [
    "def BoyerMooreHorspool2(pattern, text):\n",
    "    m = len(pattern)\n",
    "    n = len(text)\n",
    "    if m > n: \n",
    "      return -1      \n",
    "    skip = []\n",
    "    for k in range(256): \n",
    "      skip.append(m)      \n",
    "    print (\"primera versió d'skip\", skip)  # xivato\n",
    "    for k in range(m - 1): \n",
    "      print(ord(pattern[k]),end=\",\")  # xivato  \n",
    "      skip[ord(pattern[k])] = m - k - 1     \n",
    "      print(skip[ord(pattern[k])])  # xivato\n",
    "    print (\"segona versió d'skip\", skip)  # xivato\n",
    "    skip = tuple(skip)  \n",
    "    k = m - 1           \n",
    "    while k < n:\n",
    "        j = m - 1       \n",
    "        i = k           \n",
    "        while j >= 0 and text[i] == pattern[j]:\n",
    "            j -= 1\n",
    "            i -= 1\n",
    "         \n",
    "        if j == -1:    \n",
    "          return i + 1,text[i+1:i+m+1]  # xivato del text\n",
    "        k += skip[ord(text[k])]  \n",
    "    return -1   "
   ]
  },
  {
   "cell_type": "code",
   "execution_count": null,
   "metadata": {
    "colab": {
     "base_uri": "https://localhost:8080/"
    },
    "id": "9G1XrLYpkIML",
    "outputId": "be72d82e-3148-4890-ff32-267676319b4a"
   },
   "outputs": [
    {
     "name": "stdout",
     "output_type": "stream",
     "text": [
      "primera versió d'skip [6, 6, 6, 6, 6, 6, 6, 6, 6, 6, 6, 6, 6, 6, 6, 6, 6, 6, 6, 6, 6, 6, 6, 6, 6, 6, 6, 6, 6, 6, 6, 6, 6, 6, 6, 6, 6, 6, 6, 6, 6, 6, 6, 6, 6, 6, 6, 6, 6, 6, 6, 6, 6, 6, 6, 6, 6, 6, 6, 6, 6, 6, 6, 6, 6, 6, 6, 6, 6, 6, 6, 6, 6, 6, 6, 6, 6, 6, 6, 6, 6, 6, 6, 6, 6, 6, 6, 6, 6, 6, 6, 6, 6, 6, 6, 6, 6, 6, 6, 6, 6, 6, 6, 6, 6, 6, 6, 6, 6, 6, 6, 6, 6, 6, 6, 6, 6, 6, 6, 6, 6, 6, 6, 6, 6, 6, 6, 6, 6, 6, 6, 6, 6, 6, 6, 6, 6, 6, 6, 6, 6, 6, 6, 6, 6, 6, 6, 6, 6, 6, 6, 6, 6, 6, 6, 6, 6, 6, 6, 6, 6, 6, 6, 6, 6, 6, 6, 6, 6, 6, 6, 6, 6, 6, 6, 6, 6, 6, 6, 6, 6, 6, 6, 6, 6, 6, 6, 6, 6, 6, 6, 6, 6, 6, 6, 6, 6, 6, 6, 6, 6, 6, 6, 6, 6, 6, 6, 6, 6, 6, 6, 6, 6, 6, 6, 6, 6, 6, 6, 6, 6, 6, 6, 6, 6, 6, 6, 6, 6, 6, 6, 6, 6, 6, 6, 6, 6, 6, 6, 6, 6, 6, 6, 6, 6, 6, 6, 6, 6, 6, 6, 6, 6, 6, 6, 6]\n",
      "66,5\n",
      "65,4\n",
      "82,3\n",
      "66,2\n",
      "69,1\n",
      "segona versió d'skip [6, 6, 6, 6, 6, 6, 6, 6, 6, 6, 6, 6, 6, 6, 6, 6, 6, 6, 6, 6, 6, 6, 6, 6, 6, 6, 6, 6, 6, 6, 6, 6, 6, 6, 6, 6, 6, 6, 6, 6, 6, 6, 6, 6, 6, 6, 6, 6, 6, 6, 6, 6, 6, 6, 6, 6, 6, 6, 6, 6, 6, 6, 6, 6, 6, 4, 2, 6, 6, 1, 6, 6, 6, 6, 6, 6, 6, 6, 6, 6, 6, 6, 3, 6, 6, 6, 6, 6, 6, 6, 6, 6, 6, 6, 6, 6, 6, 6, 6, 6, 6, 6, 6, 6, 6, 6, 6, 6, 6, 6, 6, 6, 6, 6, 6, 6, 6, 6, 6, 6, 6, 6, 6, 6, 6, 6, 6, 6, 6, 6, 6, 6, 6, 6, 6, 6, 6, 6, 6, 6, 6, 6, 6, 6, 6, 6, 6, 6, 6, 6, 6, 6, 6, 6, 6, 6, 6, 6, 6, 6, 6, 6, 6, 6, 6, 6, 6, 6, 6, 6, 6, 6, 6, 6, 6, 6, 6, 6, 6, 6, 6, 6, 6, 6, 6, 6, 6, 6, 6, 6, 6, 6, 6, 6, 6, 6, 6, 6, 6, 6, 6, 6, 6, 6, 6, 6, 6, 6, 6, 6, 6, 6, 6, 6, 6, 6, 6, 6, 6, 6, 6, 6, 6, 6, 6, 6, 6, 6, 6, 6, 6, 6, 6, 6, 6, 6, 6, 6, 6, 6, 6, 6, 6, 6, 6, 6, 6, 6, 6, 6, 6, 6, 6, 6, 6, 6]\n"
     ]
    },
    {
     "data": {
      "text/plain": [
       "(16, 'BARBER')"
      ]
     },
     "execution_count": 26,
     "metadata": {
      "tags": []
     },
     "output_type": "execute_result"
    }
   ],
   "source": [
    "BoyerMooreHorspool2(\"BARBER\", \"JIM SAW ME IN A BARBERSHOP\")"
   ]
  },
  {
   "cell_type": "code",
   "execution_count": null,
   "metadata": {
    "id": "SjUeQcaIjgGB"
   },
   "outputs": [],
   "source": [
    "def BoyerMooreHorspool3(pattern, text):\n",
    "    m = len(pattern)\n",
    "    n = len(text)\n",
    "    if m > n: \n",
    "      return -1      \n",
    "    skip = []\n",
    "    for k in range(256): \n",
    "      skip.append(m)       \n",
    "    for k in range(m - 1): \n",
    "      skip[ord(pattern[k])] = m - k - 1     \n",
    "    skip = tuple(skip)  \n",
    "    k = m - 1           \n",
    "    while k < n:\n",
    "        j = m - 1       \n",
    "        i = k           \n",
    "        print(pattern[0:j],'*',pattern[j],'*',pattern[j+1:m], \"---\", text[0:i],'*',text[i],'*',text[i+1:n])\n",
    "        while j >= 0 and text[i] == pattern[j]:\n",
    "            print(pattern[0:j],'*',pattern[j],'*',pattern[j+1:m], \"---\", text[0:k],'*',text[k],'*',text[k+1:n])\n",
    "            j -= 1\n",
    "            i -= 1\n",
    "        if j == -1:     \n",
    "          return i + 1   \n",
    "        k += skip[ord(text[k])]   \n",
    "    return -1   "
   ]
  },
  {
   "cell_type": "code",
   "execution_count": null,
   "metadata": {
    "colab": {
     "base_uri": "https://localhost:8080/"
    },
    "id": "uxPvMvxRkI7p",
    "outputId": "69493a20-1697-41c6-b763-eb02acb65bb9"
   },
   "outputs": [
    {
     "name": "stdout",
     "output_type": "stream",
     "text": [
      "BARBE * R *  --- JIM S * A * W ME IN A BARBERSHOP\n",
      "BARBE * R *  --- JIM SAW M * E *  IN A BARBERSHOP\n",
      "BARBE * R *  --- JIM SAW ME *   * IN A BARBERSHOP\n",
      "BARBE * R *  --- JIM SAW ME IN A  * B * ARBERSHOP\n",
      "BARBE * R *  --- JIM SAW ME IN A BA * R * BERSHOP\n",
      "BARBE * R *  --- JIM SAW ME IN A BA * R * BERSHOP\n",
      "BARBE * R *  --- JIM SAW ME IN A BARBE * R * SHOP\n",
      "BARBE * R *  --- JIM SAW ME IN A BARBE * R * SHOP\n",
      "BARB * E * R --- JIM SAW ME IN A BARBE * R * SHOP\n",
      "BAR * B * ER --- JIM SAW ME IN A BARBE * R * SHOP\n",
      "BA * R * BER --- JIM SAW ME IN A BARBE * R * SHOP\n",
      "B * A * RBER --- JIM SAW ME IN A BARBE * R * SHOP\n",
      " * B * ARBER --- JIM SAW ME IN A BARBE * R * SHOP\n"
     ]
    },
    {
     "data": {
      "text/plain": [
       "16"
      ]
     },
     "execution_count": 39,
     "metadata": {
      "tags": []
     },
     "output_type": "execute_result"
    }
   ],
   "source": [
    "BoyerMooreHorspool3(\"BARBER\", \"JIM SAW ME IN A BARBERSHOP\")"
   ]
  }
 ],
 "metadata": {
  "colab": {
   "collapsed_sections": [],
   "name": "Horspool.ipynb",
   "provenance": []
  },
  "kernelspec": {
   "display_name": "Python 3 (ipykernel)",
   "language": "python",
   "name": "python3"
  },
  "language_info": {
   "codemirror_mode": {
    "name": "ipython",
    "version": 3
   },
   "file_extension": ".py",
   "mimetype": "text/x-python",
   "name": "python",
   "nbconvert_exporter": "python",
   "pygments_lexer": "ipython3",
   "version": "3.9.7"
  }
 },
 "nbformat": 4,
 "nbformat_minor": 1
}
