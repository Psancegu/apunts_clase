{
 "cells": [
  {
   "cell_type": "markdown",
   "metadata": {
    "id": "TZmUuMEEhkf6"
   },
   "source": [
    "# Capítol 5 - Dividir i Vèncer"
   ]
  },
  {
   "cell_type": "markdown",
   "metadata": {
    "id": "cCaw6ElfhkgC"
   },
   "source": [
    "### 5.3 Seqüència capícua més llarga"
   ]
  },
  {
   "cell_type": "markdown",
   "metadata": {},
   "source": [
    "Escriu una funció que donada una cadena trobi la llargada de la subseqüència capicua més llarga de manera òptima. "
   ]
  },
  {
   "cell_type": "code",
   "execution_count": 5,
   "metadata": {
    "id": "CD8fbLMahkgC"
   },
   "outputs": [],
   "source": [
    "def subs_capicua_opt(cadena, solucions = {}):\n",
    "    \n",
    "    init = 0\n",
    "    end = len(cadena) -1 \n",
    "\n",
    "    clau = '{}|{}'.format(init, end)\n",
    "    \n",
    "    if clau in solucions:\n",
    "       pass\n",
    "    else:\n",
    "        if end == 0:\n",
    "          solucions[clau] = 1\n",
    "        elif cadena[init] == cadena[end]:\n",
    "            if end == 1:\n",
    "                solucions[clau] = 2\n",
    "            else: \n",
    "                solucions[clau] = subs_capicua_opt(cadena[1:-1], solucions) + 2\n",
    "        else:\n",
    "           solucions[clau] = max(subs_capicua_opt(cadena[1:], solucions), subs_capicua_opt(cadena[:-1], solucions))\n",
    "    print(solucions)\n",
    "    return solucions[clau]\n",
    "       \n",
    "\n",
    "    \"\"\"\n",
    "    Aquesta funció troba la subseqüència més llarga capícua\n",
    "    d'una cadena donada de manera òptima amb programació dinàmica\n",
    "    \n",
    "    Parameters\n",
    "    ----------\n",
    "    cadena: string\n",
    "    solucions: dict\n",
    "        diccionari que conté la memòria de solucions \n",
    "        per optimitzar el rendiment\n",
    "    \n",
    "    Returns\n",
    "    -------\n",
    "    longitud: int\n",
    "    \"\"\""
   ]
  },
  {
   "cell_type": "code",
   "execution_count": 6,
   "metadata": {
    "id": "T73jzsLwhkgD"
   },
   "outputs": [
    {
     "name": "stdout",
     "output_type": "stream",
     "text": [
      "{'0|0': 1}\n",
      "{'0|0': 1, '0|2': 3}\n",
      "{'0|0': 1, '0|2': 3, '0|4': 5}\n",
      "{'0|0': 1, '0|2': 3, '0|4': 5}\n",
      "{'0|0': 1, '0|2': 3, '0|4': 5, '0|5': 5}\n",
      "{'0|0': 1, '0|2': 3, '0|4': 5, '0|5': 5, '0|7': 7}\n",
      "{'0|0': 1, '0|2': 3, '0|4': 5, '0|5': 5, '0|7': 7, '0|9': 9}\n",
      "{'0|0': 1, '0|2': 3, '0|4': 5, '0|5': 5, '0|7': 7, '0|9': 9}\n",
      "{'0|0': 1, '0|2': 3, '0|4': 5, '0|5': 5, '0|7': 7, '0|9': 9, '0|10': 9}\n"
     ]
    }
   ],
   "source": [
    "assert subs_capicua_opt(\"APXPRABARXP\") == 9"
   ]
  }
 ],
 "metadata": {
  "colab": {
   "collapsed_sections": [],
   "name": "5.3.ipynb",
   "provenance": []
  },
  "kernelspec": {
   "display_name": "Python 3",
   "language": "python",
   "name": "python3"
  },
  "language_info": {
   "codemirror_mode": {
    "name": "ipython",
    "version": 3
   },
   "file_extension": ".py",
   "mimetype": "text/x-python",
   "name": "python",
   "nbconvert_exporter": "python",
   "pygments_lexer": "ipython3",
   "version": "3.12.3"
  }
 },
 "nbformat": 4,
 "nbformat_minor": 0
}
