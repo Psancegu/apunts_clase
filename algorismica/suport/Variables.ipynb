{
 "cells": [
  {
   "cell_type": "markdown",
   "metadata": {
    "id": "IqMOliZ2-gDZ"
   },
   "source": [
    "<div id=\"capcalera\">\n",
    "<p >Aquest notebook complementa els continguts teòrics de l'assignatura d'<strong>Algorísmica</strong> del Grau d'Enginyeria Informàtica a la <a href=\"https://mat.ub.edu\">Facultat de Matemàtiques i Informàtica</a> de la <a href=\"https://www.ub.edu\">Universitat de Barcelona</a></p>\n",
    "\n",
    "<p>Els problemes s'ofereixen sota llicència <a href=\"https://creativecommons.org/licenses/by-nc-nd/3.0/us/legalcode\">CC-BY-NC-ND license</a>, i el codi sota <a href=\"https://opensource.org/licenses/MIT\">Llicència MIT</a>.</p>\n",
    "\n",
    "</div>"
   ]
  },
  {
   "cell_type": "markdown",
   "metadata": {
    "id": "YNHK1SIy-gDc"
   },
   "source": [
    "# <span class=\"tema\">(Python)</span> Variables i operacions bàsiques"
   ]
  },
  {
   "cell_type": "markdown",
   "metadata": {
    "id": "aVk-mYk3-gDd"
   },
   "source": [
    "A Python també podem guardar valors en variables. Les variables seran enters, booleans o text segons els valor que els assignem."
   ]
  },
  {
   "cell_type": "code",
   "execution_count": null,
   "metadata": {
    "id": "ds6wXrpH-gDe"
   },
   "outputs": [],
   "source": [
    "nom = \"Pere\""
   ]
  },
  {
   "cell_type": "code",
   "execution_count": null,
   "metadata": {
    "id": "hmfkjrIE-gDe"
   },
   "outputs": [],
   "source": [
    "edat = 20"
   ]
  },
  {
   "cell_type": "code",
   "execution_count": null,
   "metadata": {
    "id": "swa-6chR-gDf"
   },
   "outputs": [],
   "source": [
    "estudia = True"
   ]
  },
  {
   "cell_type": "code",
   "execution_count": null,
   "metadata": {
    "id": "HIPlgPVt-gDf"
   },
   "outputs": [],
   "source": [
    "print(nom, \"d'edat\", edat, \"estudia:\", estudia)"
   ]
  },
  {
   "cell_type": "markdown",
   "metadata": {
    "id": "u_pByxQ9-gDf"
   },
   "source": [
    "### <span class=\"exercici\">Exercici 1: Escriu un text a partir de variables</span>\n",
    "\n",
    "Escriu les instruccions per escriure la frase \"La botiga FruitaMadura té 20 peres i 10 pomes, en total 30 fruites\", on \"FruitaMadura\", 20 i 10 s'han guardat prèviament en una variable, i 30 es calcula amb una suma en el moment de mostrar el resultat. "
   ]
  },
  {
   "cell_type": "code",
   "execution_count": null,
   "metadata": {
    "id": "cqJ1h2Wv-gDg"
   },
   "outputs": [],
   "source": [
    "# Escriu aquí el codi de la solució "
   ]
  },
  {
   "cell_type": "markdown",
   "metadata": {
    "id": "NzkeF_Bt-gDg"
   },
   "source": [
    "## Operacions matemàtiques bàsiques\n",
    "\n",
    "Python permet executar operacions matemàtiques directament a les cel·les del notebook"
   ]
  },
  {
   "cell_type": "code",
   "execution_count": null,
   "metadata": {
    "id": "LxfPAI1S-gDh"
   },
   "outputs": [],
   "source": [
    "4.0 / 7.0 + 3.5 * 3"
   ]
  },
  {
   "cell_type": "code",
   "execution_count": null,
   "metadata": {
    "id": "6SmsGZn5-gDh"
   },
   "outputs": [],
   "source": [
    "10 % 3 + 6 / 5"
   ]
  },
  {
   "cell_type": "code",
   "execution_count": null,
   "metadata": {
    "id": "diWXXwBR-gDh"
   },
   "outputs": [],
   "source": [
    "5/(3.2 + 1.6 - 4.8)"
   ]
  },
  {
   "cell_type": "code",
   "execution_count": null,
   "metadata": {
    "id": "-BqayLqP-gDi"
   },
   "outputs": [],
   "source": [
    "# // és la divisió entera\n",
    "11 // 3 "
   ]
  },
  {
   "cell_type": "code",
   "execution_count": null,
   "metadata": {
    "id": "N4RZUKjx-gDi"
   },
   "outputs": [],
   "source": [
    "3 * 11 // 3 + 15 % 3   "
   ]
  },
  {
   "cell_type": "markdown",
   "metadata": {
    "id": "pKXIqdhm-gDi"
   },
   "source": [
    "I té algunes funcions per a operacions matemàtiques més complexes:"
   ]
  },
  {
   "cell_type": "code",
   "execution_count": null,
   "metadata": {
    "id": "x7EXtW6j-gDi"
   },
   "outputs": [],
   "source": [
    "abs(1 - 16 / 4) ** 3"
   ]
  },
  {
   "cell_type": "markdown",
   "metadata": {
    "id": "OVx1PeWj-gDi"
   },
   "source": [
    "Però algunes d'elles requereixen importar la llibreria math"
   ]
  },
  {
   "cell_type": "code",
   "execution_count": null,
   "metadata": {
    "id": "MiRXxTel-gDj"
   },
   "outputs": [],
   "source": [
    "import math\n",
    "math.sqrt(16)"
   ]
  },
  {
   "cell_type": "markdown",
   "metadata": {
    "id": "1z0OVMHf-gDj"
   },
   "source": [
    "### <span class=\"exercici\">Exercici 2:  Fes les següents operacions en Python</span>\n",
    "\n",
    "1. $5^3$\n",
    "1. arrel quadrada de 4\n",
    "1. arrel cúbica de 5\n",
    "1. 189456 / 8 => donar el resultat i la resta\n",
    "1. (2 + 9 * 3 / 5 * 4)"
   ]
  },
  {
   "cell_type": "code",
   "execution_count": null,
   "metadata": {
    "id": "aLEME8ef-gDj"
   },
   "outputs": [],
   "source": [
    "# 5^3\n"
   ]
  },
  {
   "cell_type": "code",
   "execution_count": null,
   "metadata": {
    "id": "rMpr1nSd-gDj"
   },
   "outputs": [],
   "source": [
    "# arrel quadrada de 4\n"
   ]
  },
  {
   "cell_type": "code",
   "execution_count": null,
   "metadata": {
    "id": "k_QaASjm-gDj"
   },
   "outputs": [],
   "source": [
    "# arrel cúbica de 5\n"
   ]
  },
  {
   "cell_type": "code",
   "execution_count": null,
   "metadata": {
    "id": "s4BqJyiX-gDj"
   },
   "outputs": [],
   "source": [
    "# 189456 / 8 => donar el resultat i la resta\n"
   ]
  },
  {
   "cell_type": "code",
   "execution_count": null,
   "metadata": {
    "id": "5TaqU9DP-gDk"
   },
   "outputs": [],
   "source": [
    "# (2 + 9 * 3 / 5 * 4)\n"
   ]
  }
 ],
 "metadata": {
  "colab": {
   "name": "Variables.ipynb",
   "provenance": []
  },
  "kernelspec": {
   "display_name": "Python 3 (ipykernel)",
   "language": "python",
   "name": "python3"
  },
  "language_info": {
   "codemirror_mode": {
    "name": "ipython",
    "version": 3
   },
   "file_extension": ".py",
   "mimetype": "text/x-python",
   "name": "python",
   "nbconvert_exporter": "python",
   "pygments_lexer": "ipython3",
   "version": "3.9.7"
  }
 },
 "nbformat": 4,
 "nbformat_minor": 1
}
