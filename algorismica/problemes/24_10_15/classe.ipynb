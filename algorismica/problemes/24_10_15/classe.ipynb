{
 "cells": [
  {
   "cell_type": "markdown",
   "metadata": {},
   "source": [
    "# Problema dels Nombres Primers"
   ]
  },
  {
   "cell_type": "markdown",
   "metadata": {},
   "source": [
    "## Solució Eratóstenes"
   ]
  },
  {
   "cell_type": "code",
   "execution_count": 30,
   "metadata": {},
   "outputs": [
    {
     "ename": "SyntaxError",
     "evalue": "incomplete input (1076213493.py, line 6)",
     "output_type": "error",
     "traceback": [
      "\u001b[0;36m  Cell \u001b[0;32mIn [30], line 6\u001b[0;36m\u001b[0m\n\u001b[0;31m    if l[i]:\u001b[0m\n\u001b[0m            ^\u001b[0m\n\u001b[0;31mSyntaxError\u001b[0m\u001b[0;31m:\u001b[0m incomplete input\n"
     ]
    }
   ],
   "source": [
    "def primers(num):\n",
    "    p = []\n",
    "    l = [True] * (num+1)\n",
    "    i = 2\n",
    "    while i*i <= num:\n",
    "        if l[i]:\n",
    "            p += i\n",
    "            for j in range(1, num//i):\n",
    "                l[i *j] = False\n",
    "                \n"
   ]
  },
  {
   "cell_type": "markdown",
   "metadata": {},
   "source": [
    "## Solució Pol"
   ]
  },
  {
   "cell_type": "code",
   "execution_count": 23,
   "metadata": {},
   "outputs": [
    {
     "data": {
      "text/plain": [
       "[2, 3, 5, 7, 9, 11, 13, 15, 17, 19]"
      ]
     },
     "execution_count": 23,
     "metadata": {},
     "output_type": "execute_result"
    }
   ],
   "source": [
    "def main(num):\n",
    "    llista = list(range(2,num+1))\n",
    "    indexed = llista[0]\n",
    "    for i in llista[1:]:\n",
    "        if i % 2 == 0:\n",
    "            llista.remove(i)\n",
    "        else: continue\n",
    "    \n",
    "   \n",
    "   \n",
    "   \n",
    " \"\"\"  \n",
    "    for i in llista[1:]:\n",
    "        if i % 2 == 0:\n",
    "            llista.remove(i)\n",
    "        else: continue\n",
    "    for i in llista:\n",
    "        if pow(i, 2) in llista:\n",
    "            if i % indexed == 0:\n",
    "                llista.remove(i)\n",
    "        else:\n",
    "            continue\n",
    "\n",
    "\"\"\"\n",
    "                \n",
    "    \n",
    "    return llista\n",
    "\n",
    "main(20)\n"
   ]
  }
 ],
 "metadata": {
  "kernelspec": {
   "display_name": "Python 3",
   "language": "python",
   "name": "python3"
  },
  "language_info": {
   "codemirror_mode": {
    "name": "ipython",
    "version": 3
   },
   "file_extension": ".py",
   "mimetype": "text/x-python",
   "name": "python",
   "nbconvert_exporter": "python",
   "pygments_lexer": "ipython3",
   "version": "3.11.2"
  }
 },
 "nbformat": 4,
 "nbformat_minor": 2
}
