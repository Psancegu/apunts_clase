{
 "cells": [
  {
   "cell_type": "markdown",
   "metadata": {
    "id": "F9fWZlqtkP57"
   },
   "source": [
    "# Capítol 5 - Dividir i Vèncer"
   ]
  },
  {
   "cell_type": "markdown",
   "metadata": {
    "id": "Ee4pKT9KkP6K"
   },
   "source": [
    "### 5.14 Sumatori equivalent a un valor amb llista ordenada"
   ]
  },
  {
   "cell_type": "markdown",
   "metadata": {},
   "source": [
    "Donada una llista ordenada d'enters sense cap repetició $L$, de longitud $n$, i un valor $s$, troba totes les parelles de nombres a la llista que sumin aquest valor. És a dir, troba el conjunt següent:\n",
    "\n",
    "$$ \\{(L[i], L[j]) | i < j, L[i] + L[j] = s, i, j \\in \\{0, \\ldots, n-1\\}\\} $$"
   ]
  },
  {
   "cell_type": "markdown",
   "metadata": {},
   "source": [
    "L'algorisme proposat ha de tenir complexitat $O(n)$."
   ]
  },
  {
   "cell_type": "code",
   "execution_count": null,
   "metadata": {
    "id": "iurgUVBJkP6K"
   },
   "outputs": [],
   "source": [
    "def sumatori_parelles_ord(llista, valorSuma):\n",
    "    \"\"\"\n",
    "    Aquesta funció troba totes les parelles de nombres a la llista que sumin el valor donat.\n",
    "    \n",
    "    Parameters\n",
    "    ----------\n",
    "    llista: list\n",
    "    valorSuma: int\n",
    "    \n",
    "    Returns\n",
    "    -------\n",
    "    llistaTupes: list\n",
    "    \"\"\"\n",
    "    \n",
    "\n",
    "    return llistaTupes"
   ]
  },
  {
   "cell_type": "code",
   "execution_count": null,
   "metadata": {
    "id": "PUVKWLq6kP6K"
   },
   "outputs": [],
   "source": [
    "assert sumatori_parelles_ord([1, 2, 3, 5, 7, 8], 10) == [(2,8),(3,7)]"
   ]
  }
 ],
 "metadata": {
  "colab": {
   "collapsed_sections": [],
   "name": "5.14.ipynb",
   "provenance": []
  },
  "kernelspec": {
   "display_name": "Python 3 (ipykernel)",
   "language": "python",
   "name": "python3"
  },
  "language_info": {
   "codemirror_mode": {
    "name": "ipython",
    "version": 3
   },
   "file_extension": ".py",
   "mimetype": "text/x-python",
   "name": "python",
   "nbconvert_exporter": "python",
   "pygments_lexer": "ipython3",
   "version": "3.9.7"
  }
 },
 "nbformat": 4,
 "nbformat_minor": 1
}
