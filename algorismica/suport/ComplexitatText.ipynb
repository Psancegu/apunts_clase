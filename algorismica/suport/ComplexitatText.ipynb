{
 "cells": [
  {
   "cell_type": "markdown",
   "metadata": {
    "id": "09VK48TFCj7P"
   },
   "source": [
    "<div id=\"capcalera\">\n",
    "    \n",
    "<p>Aquest notebook forma part dels continguts teòrics dels problemes de l'assignatura d'<strong>Algorísmica</strong> del Grau d'Enginyeria Informàtica a la <a href=\"https://mat.ub.edu\">Facultat de Matemàtiques i Informàtica</a> de la <a href=\"https://www.ub.edu\">Universitat de Barcelona</a></p>\n",
    "\n",
    "<p>Els problemes s'ofereixen sota llicència <a href=\"https://creativecommons.org/licenses/by-nc-nd/3.0/us/legalcode\">CC-BY-NC-ND license</a>, i el codi sota <a href=\"https://opensource.org/licenses/MIT\">Llicència MIT</a>.</p>\n",
    "\n",
    "</div>"
   ]
  },
  {
   "cell_type": "markdown",
   "metadata": {
    "id": "t-3SdEsSCj7R"
   },
   "source": [
    "# <span class=\"tema\">(Text)</span> Complexitat"
   ]
  },
  {
   "cell_type": "markdown",
   "metadata": {
    "id": "1ij-5DkFCj7S"
   },
   "source": [
    "## Introducció\n",
    "\n",
    "Quan es treballa amb text la complexitat és molt rellevant, perquè les dades poden ser molt extenses."
   ]
  },
  {
   "cell_type": "markdown",
   "metadata": {
    "id": "5GRBKcKrCj7T"
   },
   "source": [
    "## Càlcul de la complexitat\n",
    "\n",
    "Per explicar la complexitat i facilitar el seu càlcul en aquest notebook s'anirà anotant al costat de cada línia de codi la complexitat"
   ]
  },
  {
   "cell_type": "markdown",
   "metadata": {
    "id": "7zTsZfcQFX-Y"
   },
   "source": [
    "#### Comprovació de que els caràcters d'una cadena són únics"
   ]
  },
  {
   "cell_type": "code",
   "execution_count": null,
   "metadata": {
    "id": "CQp5WLwoCj7U"
   },
   "outputs": [],
   "source": [
    "# n = nombre de caràcters del text\n",
    "# m = nombre de caràcters diferents\n",
    "\n",
    "def is_unique(n):\n",
    "  char_seen = []              # creació de llista buida  =  O(1)\n",
    "  for char in n:              # n iteracions\n",
    "    for i in char_seen:       # el primer cop 0, el segon 1... el darrer m \n",
    "                                  # la combinació d'àmbdues iteracions O(m2)\n",
    "      if char == i:           # comparació simple = O(1)\n",
    "        return False          # return sense cap operació = O(1)\n",
    "                                  # dins la iteració només operacions constants\n",
    "    char_seen.append(char)    # append a una llista = O(1)\n",
    "  return True                 # return sense cap operació = O(1)\n",
    "\n",
    "  # el cost de la funció és O(m2) que és el cost de l'operació més cara"
   ]
  }
 ],
 "metadata": {
  "colab": {
   "collapsed_sections": [],
   "name": "ComplexitatText.ipynb",
   "provenance": []
  },
  "kernelspec": {
   "display_name": "Python 3 (ipykernel)",
   "language": "python",
   "name": "python3"
  },
  "language_info": {
   "codemirror_mode": {
    "name": "ipython",
    "version": 3
   },
   "file_extension": ".py",
   "mimetype": "text/x-python",
   "name": "python",
   "nbconvert_exporter": "python",
   "pygments_lexer": "ipython3",
   "version": "3.9.7"
  }
 },
 "nbformat": 4,
 "nbformat_minor": 1
}
