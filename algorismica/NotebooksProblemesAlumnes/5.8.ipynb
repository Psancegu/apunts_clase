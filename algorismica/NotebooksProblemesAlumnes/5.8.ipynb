{
 "cells": [
  {
   "cell_type": "markdown",
   "metadata": {
    "id": "uUH_vwd8g30H"
   },
   "source": [
    "# Capítol 5 - Dividir i Vèncer"
   ]
  },
  {
   "cell_type": "markdown",
   "metadata": {
    "id": "oaygUdL7g30T"
   },
   "source": [
    "### 5.8 Rotacions"
   ]
  },
  {
   "cell_type": "markdown",
   "metadata": {},
   "source": [
    "Donada una llista ordenada de nombres enters, definim una **rotació** com l'operació de moure elmeents del final de la llista al principi. Escriu una funció que, donada una llista, calculi quantes rotacions s'han aplicat prèviament. Podem assumir que la llista no conté cap element duplicat."
   ]
  },
  {
   "cell_type": "code",
   "execution_count": 3,
   "metadata": {
    "id": "QUsXYGZ5g30U"
   },
   "outputs": [
    {
     "name": "stdout",
     "output_type": "stream",
     "text": [
      "\n",
      "None\n"
     ]
    }
   ],
   "source": [
    "def rotacionsbad(llista):\n",
    "\n",
    "    binsearch(llista, llista[-1])\n",
    "\n",
    "def binsearch(nums, K):\n",
    "    low = 0\n",
    "    high = len(nums)-1\n",
    "    while low <= high:                     \n",
    "        mid = (low + high) // 2       \n",
    "        if nums[mid] > K: high = mid - 1\n",
    "        elif nums[mid] < K: low = mid + 1\n",
    "        else: return mid                           \n",
    "    return -1\n",
    "    \"\"\"\n",
    "    Aquesta funció troba quantes rotacions s'han fet a la llista.\n",
    "    \n",
    "    Parameters\n",
    "    ----------\n",
    "    llista: list\n",
    "\n",
    "    Returns\n",
    "    -------\n",
    "    numRotacions: int\n",
    "    \"\"\"\n",
    "print(rotacions([9, 10, 2, 5, 6, 8]))"
   ]
  },
  {
   "cell_type": "code",
   "execution_count": null,
   "metadata": {},
   "outputs": [
    {
     "ename": "TypeError",
     "evalue": "'function' object is not subscriptable",
     "output_type": "error",
     "traceback": [
      "\u001b[0;31m---------------------------------------------------------------------------\u001b[0m",
      "\u001b[0;31mTypeError\u001b[0m                                 Traceback (most recent call last)",
      "Cell \u001b[0;32mIn[8], line 18\u001b[0m\n\u001b[1;32m     15\u001b[0m     \u001b[38;5;28;01melse\u001b[39;00m:\n\u001b[1;32m     16\u001b[0m         \u001b[38;5;28;01mreturn\u001b[39;00m bin_search(x,nums, mid\u001b[38;5;241m+\u001b[39m\u001b[38;5;241m1\u001b[39m ,right)\n\u001b[0;32m---> 18\u001b[0m \u001b[38;5;28mprint\u001b[39m(\u001b[43mrotacions\u001b[49m\u001b[43m[\u001b[49m\u001b[38;5;241;43m9\u001b[39;49m\u001b[43m,\u001b[49m\u001b[43m \u001b[49m\u001b[38;5;241;43m10\u001b[39;49m\u001b[43m,\u001b[49m\u001b[43m \u001b[49m\u001b[38;5;241;43m2\u001b[39;49m\u001b[43m,\u001b[49m\u001b[43m \u001b[49m\u001b[38;5;241;43m5\u001b[39;49m\u001b[43m,\u001b[49m\u001b[43m \u001b[49m\u001b[38;5;241;43m6\u001b[39;49m\u001b[43m,\u001b[49m\u001b[43m \u001b[49m\u001b[38;5;241;43m8\u001b[39;49m\u001b[43m]\u001b[49m)\n",
      "\u001b[0;31mTypeError\u001b[0m: 'function' object is not subscriptable"
     ]
    }
   ],
   "source": [
    "def rotacions(llista):\n",
    "    \n",
    "def bin_search(x,nums, left, right):\n",
    "    mid = (left +right)//2\n",
    "    print(nums,x,left, mid, right)\n",
    "\n",
    "    if left + 1 >= right:\n",
    "        if nums[mid] > x:\n",
    "            return mid +1\n",
    "        else:\n",
    "            return mid\n",
    "    \n",
    "    if nums[mid] > x:\n",
    "        return bin_search(x,nums, left, mid)\n",
    "    else:\n",
    "        return bin_search(x,nums, mid+1 ,right)\n",
    "\n",
    "print(rotacions[9, 10, 2, 5, 6, 8])"
   ]
  },
  {
   "cell_type": "code",
   "execution_count": null,
   "metadata": {},
   "outputs": [],
   "source": [
    "def rotacions(llista):\n",
    "    \"\"\"\n",
    "    Encuentra el número de rotaciones en una lista ordenada y rotada.\n",
    "    \"\"\"\n",
    "    left = 0\n",
    "    right = len(llista) - 1\n",
    "\n",
    "    # Manejo de casos en los que la lista no está rotada\n",
    "    if llista[left] < llista[right]:\n",
    "        return 0\n",
    "\n",
    "    while left <= right:\n",
    "        mid = (left + right) // 2\n",
    "\n",
    "        # Caso en el que encontramos el punto de rotación\n",
    "        if mid > 0 and llista[mid] < llista[mid - 1]:\n",
    "            return mid\n",
    "        if mid < len(llista) - 1 and llista[mid] > llista[mid + 1]:\n",
    "            return mid + 1\n",
    "\n",
    "        # Decidir en qué mitad buscar\n",
    "        if llista[mid] >= llista[left]:\n",
    "            # Buscar en la mitad derecha\n",
    "            left = mid + 1\n",
    "        else:\n",
    "            # Buscar en la mitad izquierda\n",
    "            right = mid - 1\n",
    "\n",
    "    return 0  # Si no encontramos rotación, está en orden original\n"
   ]
  },
  {
   "cell_type": "code",
   "execution_count": 10,
   "metadata": {
    "id": "mjUyS4L0g30U"
   },
   "outputs": [],
   "source": [
    "assert rotacions([9, 10, 2, 5, 6, 8]) == 2\n",
    "assert rotacions([3, 5, 10, 12, 1, 2]) == 4\n",
    "assert rotacions([20, 2, 3, 7, 15, 18]) == 1"
   ]
  }
 ],
 "metadata": {
  "colab": {
   "collapsed_sections": [],
   "name": "5.8.ipynb",
   "provenance": []
  },
  "kernelspec": {
   "display_name": "Python 3",
   "language": "python",
   "name": "python3"
  },
  "language_info": {
   "codemirror_mode": {
    "name": "ipython",
    "version": 3
   },
   "file_extension": ".py",
   "mimetype": "text/x-python",
   "name": "python",
   "nbconvert_exporter": "python",
   "pygments_lexer": "ipython3",
   "version": "3.12.3"
  }
 },
 "nbformat": 4,
 "nbformat_minor": 1
}
