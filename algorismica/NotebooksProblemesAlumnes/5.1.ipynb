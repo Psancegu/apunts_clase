{
 "cells": [
  {
   "cell_type": "markdown",
   "metadata": {
    "id": "uKjD-YYhgnBF"
   },
   "source": [
    "# Capítol 5 - Dividir i Vèncer"
   ]
  },
  {
   "cell_type": "markdown",
   "metadata": {
    "id": "zugYoY0MgnBH"
   },
   "source": [
    "### 5.1 Suma Llista"
   ]
  },
  {
   "cell_type": "markdown",
   "metadata": {},
   "source": [
    "Escriu una funció recursiva que sumi tots els elements d'una llista. Digues quin és el cas base de l'algorisme i calcula'n la seva complexitat."
   ]
  },
  {
   "cell_type": "code",
   "execution_count": null,
   "metadata": {
    "id": "pJQk7MrugnBI"
   },
   "outputs": [],
   "source": [
    "def suma_llista(llista):\n",
    "\n",
    "    \"\"\"\n",
    "    Aquesta funció implementa la suma recursiva d'una llista\n",
    "    \n",
    "    Parameters\n",
    "    ----------\n",
    "    llista: list\n",
    "    \n",
    "    Returns\n",
    "    -------\n",
    "    suma: int\n",
    "          La suma de tots els elements de la llista d'entrada\n",
    "    \"\"\"\n",
    "\n",
    "    return suma"
   ]
  },
  {
   "cell_type": "code",
   "execution_count": null,
   "metadata": {
    "id": "eKuG_vjTgnBI"
   },
   "outputs": [],
   "source": [
    "# Asserts públics\n",
    "assert suma_llista([1,2,3,4]) == 10\n",
    "assert suma_llista([-1,-2,0,1,2]) == 0"
   ]
  }
 ],
 "metadata": {
  "colab": {
   "collapsed_sections": [],
   "name": "5.1.ipynb",
   "provenance": []
  },
  "kernelspec": {
   "display_name": "Python 3.8.6rc1 64-bit (system)",
   "language": "python",
   "name": "python3"
  },
  "language_info": {
   "codemirror_mode": {
    "name": "ipython",
    "version": 3
   },
   "file_extension": ".py",
   "mimetype": "text/x-python",
   "name": "python",
   "nbconvert_exporter": "python",
   "pygments_lexer": "ipython3",
   "version": "3.8.6rc1"
  },
  "vscode": {
   "interpreter": {
    "hash": "b7d5521a80c2c370047c8b3946d4b51cbe9eac44fad1075e96f476b66b4a61cb"
   }
  }
 },
 "nbformat": 4,
 "nbformat_minor": 0
}
