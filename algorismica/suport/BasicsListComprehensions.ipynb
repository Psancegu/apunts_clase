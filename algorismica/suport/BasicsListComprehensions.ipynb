{
 "cells": [
  {
   "cell_type": "markdown",
   "metadata": {
    "id": "UTsuthUU-vuk"
   },
   "source": [
    "<div id=\"capcalera\">\n",
    "    \n",
    "<p>Aquest notebook forma part dels continguts teòrics dels problemes de l'assignatura d'<strong>Algorísmica</strong> del Grau d'Enginyeria Informàtica a la <a href=\"https://mat.ub.edu\">Facultat de Matemàtiques i Informàtica</a> de la <a href=\"https://www.ub.edu\">Universitat de Barcelona</a></p>\n",
    "\n",
    "<p>Els problemes s'ofereixen sota llicència <a href=\"https://creativecommons.org/licenses/by-nc-nd/3.0/us/legalcode\">CC-BY-NC-ND license</a>, i el codi sota <a href=\"https://opensource.org/licenses/MIT\">Llicència MIT</a>.</p>\n",
    "\n",
    "</div>"
   ]
  },
  {
   "cell_type": "markdown",
   "metadata": {
    "id": "DwqsRJ0M-vun"
   },
   "source": [
    "# <span class=\"tema\">(Bàsics Python)</span> List Comprehensions"
   ]
  },
  {
   "cell_type": "markdown",
   "metadata": {
    "id": "y3N4Szpv-vun"
   },
   "source": [
    "Les solucions a aquests exercicis són al fitxer BasicsListComprehensions-Solucio.ipynb"
   ]
  },
  {
   "cell_type": "markdown",
   "metadata": {
    "id": "TO5jiGmZ-vuo"
   },
   "source": [
    "<p class=\"exercici\">Exercici 1: Matriu amb List Comprehensions</p>\n",
    "\n",
    "Escriu una funció que donats dos nombres $nfiles$ i $ncolumnes$ retorni una matriu de zeros amb nfiles files i ncolumnes columnes. Cal crear la matriu com una llista de llistes **amb una list comprehension**. \n",
    "\n",
    "Pista: als problemes bàsics de llistes potser vas resoldre aquest problema ja amb iteracions.\n",
    "\n",
    "Exemple:\n",
    "\n",
    "    generarMatriuListComprehensions(2, 4)\n",
    "    [[0, 0, 0, 0],[0, 0, 0, 0])\n",
    "\n",
    "Font: Adaptat de [Python praktikum / Alessandro Mammana](https://www.molgen.mpg.de/3372238/python_praesentation.pdf)"
   ]
  },
  {
   "cell_type": "markdown",
   "metadata": {
    "id": "uyinFEkB-vuo"
   },
   "source": [
    "<p class=\"exercici\">Exercici 2: LLista selectiva amb list comprehension</p>\n",
    "\n",
    "Escriu una funció que donat un nombre $n$ i una llista, retorni una segona llista amb els elements de la llista inicials que són estrictament menors al nombre $n$ donat. Usa una list comprehension, el programa només pot tenir una línea.\n",
    "\n",
    "Pista: als problemes bàsics de llistes potser vas resoldre aquest problema ja amb iteracions.\n",
    "\n",
    "Exemple:\n",
    "\n",
    "    llistaSelectiva([1, 15, 5, 3, 2, 12, 99, 8, 6],10)\n",
    "    [1, 5, 3, 2, 8, 6]\n",
    "\n",
    "Font: Adaptat de [Practice Python. Beginner Python exercises / Michele Pratusevich](http://www.practicepython.org)"
   ]
  },
  {
   "cell_type": "markdown",
   "metadata": {
    "id": "8Xa4LTU--vup"
   },
   "source": [
    "<p class=\"exercici\">Exercici 3: Nombres repetits</p>\n",
    "\n",
    "Escriu una funció que donades dues llistes ordenades retorni una nova llista amb només els elements que estan repetits en ambdues. Usa una list comprehension, el programa només pot tenir una línea.\n",
    "\n",
    "Exemple:\n",
    "\n",
    "    nombresRepetits([1, 1, 2, 3, 5, 8, 13, 21, 34, 55, 89],[1, 2, 3, 4, 5, 6, 7, 8, 9, 10, 11, 12, 13]])\n",
    "    [1, 2, 3, 5, 8, 13]\n",
    "\n",
    "Font: Adaptat de [Practice Python. Beginner Python exercises / Michele Pratusevich](http://www.practicepython.org)"
   ]
  },
  {
   "cell_type": "markdown",
   "metadata": {
    "id": "Psg0iS-m-vup"
   },
   "source": [
    "<p class=\"exercici\">Exercici 4: Combinació de llistes</p>\n",
    "\n",
    "Escriu una funció que donades dues llistes retorni una nova llista amb tuples que continguin un element de cada llista, sempre i quan els elements no siguin el mateix. Usa una list comprehension, el programa només pot tenir una línea.\n",
    "\n",
    "Exemple:\n",
    "\n",
    "    list1=[1, 2, 3]\n",
    "    list2=[3, 1, 4]\n",
    "    combMagica(list1, list2)\n",
    "    [(1, 3), (1, 4), (2, 3), (2, 1), (2, 4), (3, 1), (3, 4)]\n",
    "\n",
    "Font: Adaptat de [Python praktikum / Alessandro Mammana](https://www.molgen.mpg.de/3372238/python_praesentation.pdf)"
   ]
  },
  {
   "cell_type": "markdown",
   "metadata": {
    "id": "vzi8-9vb-vuq"
   },
   "source": [
    "<p class=\"exercici\">Exercici 5: Només parells</p>\n",
    "\n",
    "Escriu una funció que donada una llista retorni una nova llista amb només els elements parells. Usa una list comprehension, el programa només pot tenir una línea.\n",
    "\n",
    "Exemple:\n",
    "\n",
    "    list1=[7, 10, 1, 2, 3, 4]\n",
    "    parells(list1)\n",
    "    [10, 2, 4]\n",
    "\n",
    "Font: Adaptat de [Practice Python. Beginner Python exercises / Michele Pratusevich](http://www.practicepython.org)"
   ]
  },
  {
   "cell_type": "markdown",
   "metadata": {
    "id": "Vmy5HR79-vuq"
   },
   "source": [
    "<p class=\"exercici\">Exercici 6: Elements d'una matriu</p>\n",
    "\n",
    "Donada una matriu $𝑀$  de nombres, retornar la llista formada per cada un dels elements de la matriu. Usa una list comprehension, el programa només pot tenir una línea.\n",
    "\n",
    "Exemple:\n",
    "\n",
    "    M = [list(range(0,5)), list(range(5,10)), list(range(10,15))]\n",
    "    [0, 1, 2, 3, 4, 5, 6, 7, 8, 9, 10, 11, 12, 13, 14]\n",
    "\n",
    "Font: Creació pròpia"
   ]
  },
  {
   "cell_type": "markdown",
   "metadata": {
    "id": "QMR1_Pc8-vur"
   },
   "source": [
    "<p class=\"exercici\">Exercici 7: Construir un diccionari amb dues llistes</p>\n",
    "\n",
    "Donades dues llistes de la mateixa mida, retornar **un diccionari** que usi els elements de la primera com a clausi els de la segona com valors. \n",
    "\n",
    "Exemple:\n",
    "\n",
    "    pais = ['India', 'Pakistan', 'Nepal', 'Bhutan', 'China', 'Bangladesh']\n",
    "    capital = ['New Delhi', 'Islamabad','Kathmandu', 'Thimphu', 'Beijing', 'Dhaka']\n",
    "    {'India': 'New Delhi', 'Pakistan': 'Islamabad', 'Nepal': 'Kathmandu', 'Bhutan':'Thimphu',  'China': 'Beijing', 'Bangladesh': 'Dhaka'}\n",
    "         \n",
    "Font: Creació pròpia"
   ]
  }
 ],
 "metadata": {
  "colab": {
   "name": "BasicsListComprehensions.ipynb",
   "provenance": []
  },
  "kernelspec": {
   "display_name": "Python 3 (ipykernel)",
   "language": "python",
   "name": "python3"
  },
  "language_info": {
   "codemirror_mode": {
    "name": "ipython",
    "version": 3
   },
   "file_extension": ".py",
   "mimetype": "text/x-python",
   "name": "python",
   "nbconvert_exporter": "python",
   "pygments_lexer": "ipython3",
   "version": "3.9.7"
  }
 },
 "nbformat": 4,
 "nbformat_minor": 1
}
