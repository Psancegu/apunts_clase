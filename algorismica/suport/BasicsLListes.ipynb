{
 "cells": [
  {
   "cell_type": "markdown",
   "metadata": {
    "id": "eoaX5Vjx-mJL"
   },
   "source": [
    "<div id=\"capcalera\">\n",
    "    \n",
    "<p>Aquest notebook forma part dels continguts teòrics dels problemes de l'assignatura d'<strong>Algorísmica</strong> del Grau d'Enginyeria Informàtica a la <a href=\"https://mat.ub.edu\">Facultat de Matemàtiques i Informàtica</a> de la <a href=\"https://www.ub.edu\">Universitat de Barcelona</a></p>\n",
    "\n",
    "<p>Els problemes s'ofereixen sota llicència <a href=\"https://creativecommons.org/licenses/by-nc-nd/3.0/us/legalcode\">CC-BY-NC-ND license</a>, i el codi sota <a href=\"https://opensource.org/licenses/MIT\">Llicència MIT</a>.</p>\n",
    "\n",
    "</div>"
   ]
  },
  {
   "cell_type": "markdown",
   "metadata": {
    "id": "jYhRWYkz-mJS"
   },
   "source": [
    "# <span class=\"tema\">(Bàsics Python)</span> Llistes"
   ]
  },
  {
   "cell_type": "markdown",
   "metadata": {
    "id": "a8cXr3fa-mJW"
   },
   "source": [
    "Les solucions a aquests exercicis són al fitxer BasicsLListes-Solucio.ipynb"
   ]
  },
  {
   "cell_type": "markdown",
   "metadata": {
    "id": "1zoIKQ6I-mJg"
   },
   "source": [
    "<p class=\"exercici\">Exercici 1: LLista de zeros</p>\n",
    "\n",
    "Escriu una funció que donat un nombre $n$ crei una llista amb n zeros. No pots fer cap iteració.\n",
    "\n",
    "Exemple:\n",
    "\n",
    "    zeros(4)\n",
    "    [0, 0, 0, 0]\n",
    "\n",
    "Font: Adaptat de [Python praktikum / Alessandro Mammana](https://www.molgen.mpg.de/3372238/python_praesentation.pdf)"
   ]
  },
  {
   "cell_type": "markdown",
   "metadata": {
    "id": "pvHHkAj0-mJi"
   },
   "source": [
    "<p class=\"exercici\">Exercici 2: LLista selectiva</p>\n",
    "\n",
    "Escriu una funció que donat un nombre $n$ i una llista, retorni una segona llista amb els elements de la llista inicials que són estrictament menors al nombre $n$ donat. \n",
    "\n",
    "Exemple:\n",
    "\n",
    "    llistaSelectiva([1, 15, 5, 3, 2, 12, 99, 8, 6], 10)\n",
    "    [1, 5, 3, 2, 8, 6]\n",
    "\n",
    "Font: Adaptat de [Practice Python. Beginner Python exercises / Michele Pratusevich](http://www.practicepython.org)"
   ]
  },
  {
   "cell_type": "markdown",
   "metadata": {
    "id": "T1vvms2v-mJj"
   },
   "source": [
    "<p class=\"exercici\">Exercici 3: LLista selectiva ordenada</p>\n",
    "\n",
    "Aquest exercici requereix coneixements d'*ordenació i cerca*.\n",
    "\n",
    "Escriu una funció que donat un nombre $n$ i una llista ordenada, retorni una segona llista amb els elements de la llista inicials que són estrictament menors al nombre $n$ donat. \n",
    "\n",
    "Pista: localitza primer el nombre n a la llista, i actúa en conseqüència\n",
    "\n",
    "Exemple:\n",
    "\n",
    "    llistaSelectiva([1, 2, 3, 5, 6, 8, 12, 15, 99], 10)\n",
    "    [1, 2, 3, 5, 6, 8]\n",
    "\n",
    "Font: Adaptat de [Practice Python. Beginner Python exercises / Michele Pratusevich](http://www.practicepython.org)"
   ]
  },
  {
   "cell_type": "markdown",
   "metadata": {
    "id": "oe06YXns-mJk"
   },
   "source": [
    "<p class=\"exercici\">Exercici 4: Selecció d'una llista</p>\n",
    "\n",
    "Escriu una funció que donada una llista retorni una tupla amb dues llistes: una amb els elements senars de la llista i l'altra amb els elements parells de la llista. No pots fer cap iteració.\n",
    "\n",
    "Exemple:\n",
    "\n",
    "    llista=[\"un\", 1, \"dos\", 2, \"tres\", 3, \"quatre\", 4]\n",
    "\n",
    "    splitMagic(llista)\n",
    "    ([\"un\", \"dos\", \"tres\", \"quatre\"], [1, 2, 3, 4])\n",
    "\n",
    "*Atenció*: la llista pot contenir qualssevol valors\n",
    "\n",
    "Font: Adaptat de [Python praktikum / Alessandro Mammana](https://www.molgen.mpg.de/3372238/python_praesentation.pdf)"
   ]
  },
  {
   "cell_type": "markdown",
   "metadata": {
    "id": "cElFzSqo-mJl"
   },
   "source": [
    "<p class=\"exercici\">Exercici 5: Matriu</p>\n",
    "\n",
    "Escriu una funció que donats dos nombres $nfiles$ i $ncolumnes$ retorni una matriu de zeros amb nfiles files i ncolumnes columnes. Cal crear la matriu com una llista de llistes.\n",
    "\n",
    "Exemple:\n",
    "\n",
    "    generarMatriu(2, 4)\n",
    "    [[0, 0, 0, 0], [0, 0, 0, 0])\n",
    "\n",
    "Font: Adaptat de [Python praktikum / Alessandro Mammana](https://www.molgen.mpg.de/3372238/python_praesentation.pdf)"
   ]
  },
  {
   "cell_type": "markdown",
   "metadata": {
    "id": "_qRy8M5F-mJm"
   },
   "source": [
    "<p class=\"exercici\">Exercici 6: Entrada en seqüència i càlculs sobre llistes</p>\n",
    "\n",
    "Escriu un programa que demani un número a l'usuari repetidament fins que aquest introdueixi -99. Quan hagi acabat d'introduir els números mostra per pantalla la suma dels nombres introduits, quants nombres s'han introduit i la mitjana aritmètica.\n",
    "\n",
    "Consulta la documentació de Python per si hi ha [funcions estàndards](https://docs.python.org/3.7/library/functions.html) que et puguin ajudar.\n",
    "\n",
    "Exemple:\n",
    "\n",
    "    Introdueix un número: 7\n",
    "    Introdueix un número: 6\n",
    "    Introdueix un número: -1\n",
    "    Introdueix un número: -99\n",
    "    \n",
    "S'han introduit 3 nombres, amb una suma total de 12, i una mitjana aritmètica de 4\n",
    "    \n",
    "\n",
    "*Repte*: T'atreviries a fer el mateix sense usar cap funció de Python?\n",
    "\n",
    "Font: Adaptat de [Python for Everybody / Charles Severance](https://books.trinket.io/pfe/index.html)"
   ]
  },
  {
   "cell_type": "markdown",
   "metadata": {
    "id": "doJaKrTc-mJo"
   },
   "source": [
    "<p class=\"exercici\">Exercici 7: Entrada en seqüència i càlculs sobre llistes. Variant</p>\n",
    "\n",
    "Escriu un programa que demani un número a l'usuari repetidament fins que aquest introdueixi -99. Ves recopilant els nombres en una llista. Quan hagi acabat d'introduir els números mostra per pantalla el mínim i el màxim de la llista.\n",
    "\n",
    "Consulta la documentació de Python per si hi ha [funcions estàndards](https://docs.python.org/3.7/library/functions.html) que et puguin ajudar.\n",
    "\n",
    "Exemple:\n",
    "\n",
    "    Introdueix un número: 7\n",
    "    Introdueix un número: 6\n",
    "    Introdueix un número: -1\n",
    "    Introdueix un número: -99\n",
    "    \n",
    "El número màxim introduit és el 7 i el  mínim el -1\n",
    "\n",
    "    \n",
    "Font: Adaptat de [Python for Everybody / Charles Severance](https://books.trinket.io/pfe/index.html)"
   ]
  },
  {
   "cell_type": "markdown",
   "metadata": {
    "id": "6kEVi5s4-mJu"
   },
   "source": [
    "<p class=\"exercici\">Exercici 8: Inici i final d'una llista</p>\n",
    "\n",
    "Escriu un programa que donada una llista en retorni una de nova amb només el primer i el darrer element de la llista.\n",
    "\n",
    "Exemple:\n",
    "\n",
    "    iniciFinal([3, 6, 1, 9, 10])\n",
    "    [3, 10]\n",
    "    \n",
    "Font: Adaptat de [Practice Python. Beginner Python exercises / Michele Pratusevich](http://www.practicepython.org)"
   ]
  },
  {
   "cell_type": "markdown",
   "metadata": {
    "id": "5dEeK3tV-mJv"
   },
   "source": [
    "<p class=\"exercici\">Exercici 9: Canviar les paraules d'ordre</p>\n",
    "\n",
    "Escriu una funció que donada una frase la retorni a l'usuari amb les paraules en ordre invers.\n",
    "\n",
    "Exemple:\n",
    "\n",
    "    Em dic Andreu\n",
    "    Andreu dic Em\n",
    "    \n",
    "Font: Adaptat de [Practice Python. Beginner Python exercises / Michele Pratusevich](http://www.practicepython.org)"
   ]
  }
 ],
 "metadata": {
  "colab": {
   "name": "BasicsLListes.ipynb",
   "provenance": []
  },
  "kernelspec": {
   "display_name": "Python 3 (ipykernel)",
   "language": "python",
   "name": "python3"
  },
  "language_info": {
   "codemirror_mode": {
    "name": "ipython",
    "version": 3
   },
   "file_extension": ".py",
   "mimetype": "text/x-python",
   "name": "python",
   "nbconvert_exporter": "python",
   "pygments_lexer": "ipython3",
   "version": "3.9.7"
  }
 },
 "nbformat": 4,
 "nbformat_minor": 1
}
