{
 "cells": [
  {
   "cell_type": "markdown",
   "metadata": {
    "id": "uKjD-YYhgnBF"
   },
   "source": [
    "# Capítol 5 - Dividir i Vèncer"
   ]
  },
  {
   "cell_type": "markdown",
   "metadata": {
    "id": "zugYoY0MgnBH"
   },
   "source": [
    "### 5.1 Suma Llista"
   ]
  },
  {
   "cell_type": "markdown",
   "metadata": {},
   "source": [
    "Escriu una funció recursiva que sumi tots els elements d'una llista. Digues quin és el cas base de l'algorisme i calcula'n la seva complexitat."
   ]
  },
  {
   "cell_type": "code",
   "execution_count": 19,
   "metadata": {
    "id": "pJQk7MrugnBI"
   },
   "outputs": [],
   "source": [
    "def suma_llista(llista):\n",
    "    if len(llista) < 2:\n",
    "        return llista[0]\n",
    "\n",
    "    if len(llista) == 2:\n",
    "        return llista[0] + llista[1]\n",
    "    \n",
    "    middle = len(llista) // 2\n",
    "    return suma_llista(llista[0:middle]) + suma_llista(llista[middle:len(llista)])\n",
    "    \"\"\"\n",
    "    Aquesta funció implementa la suma recursiva d'una llista\n",
    "    \n",
    "    Parameters\n",
    "    ----------\n",
    "    llista: list\n",
    "    \n",
    "    Returns\n",
    "    -------\n",
    "    suma: int\n",
    "          La suma de tots els elements de la llista d'entrada\n",
    "    \"\"\"\n"
   ]
  },
  {
   "cell_type": "code",
   "execution_count": 20,
   "metadata": {
    "id": "eKuG_vjTgnBI"
   },
   "outputs": [],
   "source": [
    "# Asserts públics\n",
    "assert suma_llista([1,2,3,4]) == 10\n",
    "assert suma_llista([-1,-2,0,1,2]) == 0"
   ]
  }
 ],
 "metadata": {
  "colab": {
   "collapsed_sections": [],
   "name": "5.1.ipynb",
   "provenance": []
  },
  "kernelspec": {
   "display_name": "Python 3",
   "language": "python",
   "name": "python3"
  },
  "language_info": {
   "codemirror_mode": {
    "name": "ipython",
    "version": 3
   },
   "file_extension": ".py",
   "mimetype": "text/x-python",
   "name": "python",
   "nbconvert_exporter": "python",
   "pygments_lexer": "ipython3",
   "version": "3.12.3"
  }
 },
 "nbformat": 4,
 "nbformat_minor": 0
}
