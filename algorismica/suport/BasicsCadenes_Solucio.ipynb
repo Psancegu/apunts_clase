{
 "cells": [
  {
   "cell_type": "markdown",
   "metadata": {
    "id": "Gm2D85JU-lqV"
   },
   "source": [
    "\n",
    "<div id=\"capcalera\">\n",
    "<p>Aquest notebook forma part dels continguts teòrics dels problemes de l'assignatura d'<strong>Algorísmica</strong> del Grau d'Enginyeria Informàtica a la <a href=\"https://mat.ub.edu\">Facultat de Matemàtiques i Informàtica</a> de la <a href=\"https://www.ub.edu\">Universitat de Barcelona</a></p>\n",
    "\n",
    "<p>Els problemes s'ofereixen sota llicència <a href=\"https://creativecommons.org/licenses/by-nc-nd/3.0/us/legalcode\">CC-BY-NC-ND license</a>, i el codi sota <a href=\"https://opensource.org/licenses/MIT\">Llicència MIT</a>.</p>\n",
    "</div>"
   ]
  },
  {
   "cell_type": "markdown",
   "metadata": {
    "id": "KTN4w0uR-lqa"
   },
   "source": [
    "# <span class=\"tema\">(Bàsics Python)</span> Cadenes (strings) - Solucions"
   ]
  },
  {
   "cell_type": "markdown",
   "metadata": {
    "id": "j2n0Hwtk-lqb"
   },
   "source": [
    "Aquest fitxer mostra les solucions als exercicis bàsics de cadenes"
   ]
  },
  {
   "cell_type": "markdown",
   "metadata": {
    "id": "PKH2x0rE-lqc"
   },
   "source": [
    "<p class=\"exercici\">Exercici 1: Tallar cadena</p>\n",
    "\n",
    "Escriu una funció que donats una cadena i un nombre n<<len(cadena), elimini els primers n caràcters i els darrers n caràcters de la cadena."
   ]
  },
  {
   "cell_type": "code",
   "execution_count": null,
   "metadata": {
    "id": "5qpl0dKk-lqd",
    "outputId": "19e05c22-9a35-475e-a586-0d6aaa8ec7ec"
   },
   "outputs": [
    {
     "data": {
      "text/plain": [
       "'44444'"
      ]
     },
     "execution_count": 2,
     "metadata": {
      "tags": []
     },
     "output_type": "execute_result"
    }
   ],
   "source": [
    "def tallarCadena(s, n):\n",
    "    return s[n:len(s) - n]\n",
    "\n",
    "tallarCadena(\"33344444333\", 3)"
   ]
  },
  {
   "cell_type": "markdown",
   "metadata": {
    "id": "QYIhQV8x-lqf"
   },
   "source": [
    "<p class=\"exercici\">Exercici 2: Slicing i conversió</p>\n",
    "\n",
    "Imagina que tens la següent cadena: text = 'X-DSPAM-Confidence:0.8475'\n",
    "\n",
    "Retalla-la pels dos punts amb `split`, agafa la darrera part i usa la funció `float()` per convertir la segona part en un nombre decimal."
   ]
  },
  {
   "cell_type": "code",
   "execution_count": null,
   "metadata": {
    "id": "Zs0iTqqU-lqf",
    "outputId": "50d11342-eb75-4a22-ebad-f2ec6592de9b"
   },
   "outputs": [
    {
     "name": "stdout",
     "output_type": "stream",
     "text": [
      "0.8475 <class 'float'>\n"
     ]
    }
   ],
   "source": [
    "text = 'X-DSPAM-Confidence:0.8475'\n",
    "num = text.split(':')[-1]\n",
    "f = float(num)\n",
    "print(f, type(f))"
   ]
  },
  {
   "cell_type": "markdown",
   "metadata": {
    "id": "dpEmqLeV-lqg"
   },
   "source": [
    "<p class=\"exercici\">Exercici 4: Generador de passwords</p>\n",
    "\n",
    "Escriu una funció que generi passwords. La generació ha de ser aleatòria i ha de generar un password nou a cada execució. L'usuari ha de determinar la llargada del password."
   ]
  },
  {
   "cell_type": "code",
   "execution_count": null,
   "metadata": {
    "id": "_6Pbupog-lqh"
   },
   "outputs": [],
   "source": [
    "import random\n",
    "\n",
    "\n",
    "def generarPassword(longitud):\n",
    "    s = \"abcdefghijklmnopqrstuvwxyz01234567890ABCDEFGHIJKLMNOPQRSTUVWXYZ!@#$%^&*()?\"\n",
    "    p = \"\".join(random.sample(s, longitud))\n",
    "    return p\n"
   ]
  },
  {
   "cell_type": "code",
   "execution_count": null,
   "metadata": {
    "id": "XFRe5DBy-lqj",
    "outputId": "477df49b-7b0e-453b-8b77-c82ae374765d"
   },
   "outputs": [
    {
     "data": {
      "text/plain": [
       "'zp*70QZB'"
      ]
     },
     "execution_count": 3,
     "metadata": {
      "tags": []
     },
     "output_type": "execute_result"
    }
   ],
   "source": [
    "generarPassword(8)"
   ]
  }
 ],
 "metadata": {
  "colab": {
   "name": "BasicsCadenes-Solucio.ipynb",
   "provenance": []
  },
  "kernelspec": {
   "display_name": "Python 3 (ipykernel)",
   "language": "python",
   "name": "python3"
  },
  "language_info": {
   "codemirror_mode": {
    "name": "ipython",
    "version": 3
   },
   "file_extension": ".py",
   "mimetype": "text/x-python",
   "name": "python",
   "nbconvert_exporter": "python",
   "pygments_lexer": "ipython3",
   "version": "3.11.2"
  }
 },
 "nbformat": 4,
 "nbformat_minor": 1
}
