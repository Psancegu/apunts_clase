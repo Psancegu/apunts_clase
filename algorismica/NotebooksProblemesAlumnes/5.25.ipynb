{
 "cells": [
  {
   "cell_type": "markdown",
   "metadata": {
    "id": "Zf2uFxcwoDze"
   },
   "source": [
    "# Capítol 5 - Dividir i Vèncer"
   ]
  },
  {
   "cell_type": "markdown",
   "metadata": {
    "id": "sSIVADBZoDz0"
   },
   "source": [
    "## 5.25 Quantes vegades apareix una cadena com a subq"
   ]
  },
  {
   "cell_type": "code",
   "execution_count": 74,
   "metadata": {
    "id": "drpjQcKloDz0"
   },
   "outputs": [
    {
     "name": "stdout",
     "output_type": "stream",
     "text": [
      "subsequencia\n",
      "sue\n"
     ]
    },
    {
     "ename": "TypeError",
     "evalue": "'in <string>' requires string as left operand, not tuple",
     "output_type": "error",
     "traceback": [
      "\u001b[0;31m---------------------------------------------------------------------------\u001b[0m",
      "\u001b[0;31mTypeError\u001b[0m                                 Traceback (most recent call last)",
      "Cell \u001b[0;32mIn[74], line 43\u001b[0m\n\u001b[1;32m     23\u001b[0m     \u001b[38;5;28;01mreturn\u001b[39;00m diccSolucions\n\u001b[1;32m     26\u001b[0m \u001b[38;5;250m    \u001b[39m\u001b[38;5;124;03m\"\"\"\u001b[39;00m\n\u001b[1;32m     27\u001b[0m \u001b[38;5;124;03m    Aquesta funció determina quantes vegades apareix una cadena en una paraula\u001b[39;00m\n\u001b[1;32m     28\u001b[0m \u001b[38;5;124;03m    com a subseqüència\u001b[39;00m\n\u001b[0;32m   (...)\u001b[0m\n\u001b[1;32m     41\u001b[0m \u001b[38;5;124;03m        nombre de vegades que apareix\u001b[39;00m\n\u001b[1;32m     42\u001b[0m \u001b[38;5;124;03m    \"\"\"\u001b[39;00m\n\u001b[0;32m---> 43\u001b[0m \u001b[38;5;28mprint\u001b[39m(\u001b[43mcomptarSubsequencia\u001b[49m\u001b[43m(\u001b[49m\u001b[38;5;124;43m\"\u001b[39;49m\u001b[38;5;124;43msubsequencia\u001b[39;49m\u001b[38;5;124;43m\"\u001b[39;49m\u001b[43m,\u001b[49m\u001b[38;5;124;43m\"\u001b[39;49m\u001b[38;5;124;43msue\u001b[39;49m\u001b[38;5;124;43m\"\u001b[39;49m\u001b[43m)\u001b[49m)\n",
      "Cell \u001b[0;32mIn[74], line 9\u001b[0m, in \u001b[0;36mcomptarSubsequencia\u001b[0;34m(paraula, cadena, diccSolucions)\u001b[0m\n\u001b[1;32m      7\u001b[0m         \u001b[38;5;28;01mreturn\u001b[39;00m \u001b[38;5;241m0\u001b[39m\n\u001b[1;32m      8\u001b[0m clau \u001b[38;5;241m=\u001b[39m (paraula,cadena)\n\u001b[0;32m----> 9\u001b[0m \u001b[38;5;28;01mif\u001b[39;00m \u001b[38;5;129;01mnot\u001b[39;00m\u001b[43m(\u001b[49m\u001b[43mclau\u001b[49m\u001b[43m)\u001b[49m\u001b[43m \u001b[49m\u001b[38;5;129;43;01min\u001b[39;49;00m\u001b[43m \u001b[49m\u001b[43mcadena\u001b[49m:\n\u001b[1;32m     10\u001b[0m     \u001b[38;5;28;01mif\u001b[39;00m \u001b[38;5;28mlen\u001b[39m(paraula) \u001b[38;5;241m==\u001b[39m \u001b[38;5;241m0\u001b[39m \u001b[38;5;129;01mor\u001b[39;00m \u001b[38;5;28mlen\u001b[39m(cadena) \u001b[38;5;241m==\u001b[39m \u001b[38;5;241m0\u001b[39m:\n\u001b[1;32m     11\u001b[0m         \u001b[38;5;28;01mreturn\u001b[39;00m \u001b[38;5;241m0\u001b[39m\n",
      "\u001b[0;31mTypeError\u001b[0m: 'in <string>' requires string as left operand, not tuple"
     ]
    }
   ],
   "source": [
    "def comptarSubsequencia(paraula, cadena, diccSolucions = {}):\n",
    "\n",
    "    print(paraula)\n",
    "    print(cadena)\n",
    "\n",
    "    if len(paraula) == 0 or len(cadena) == 0:\n",
    "            return 0\n",
    "    clau = (paraula,cadena)\n",
    "    if not(clau) in cadena:\n",
    "        if len(paraula) == 0 or len(cadena) == 0:\n",
    "            return 0\n",
    "        \n",
    "        if len(cadena) <  len(paraula):\n",
    "            diccSolucions[clau] = 0\n",
    "\n",
    "        if paraula[-1] == cadena[-1]:\n",
    "            diccSolucions[clau] = comptarSubsequencia(paraula[:-1], clau[:-1], diccSolucions) + comptarSubsequencia(paraula[:-1], cadena, diccSolucions)\n",
    "\n",
    "        else:\n",
    "            diccSolucions[clau] = comptarSubsequencia(paraula, cadena[:-1], diccSolucions)\n",
    "   \n",
    "\n",
    "    return diccSolucions\n",
    "         \n",
    "\n",
    "    \"\"\"\n",
    "    Aquesta funció determina quantes vegades apareix una cadena en una paraula\n",
    "    com a subseqüència\n",
    "    \n",
    "    Parameters\n",
    "    ----------\n",
    "    paraula: string\n",
    "        paraula en la que buscar la cadena\n",
    "    cadena: string\n",
    "        cadena a buscar\n",
    "    diccSolucions: dict    \n",
    "    \n",
    "    Returns\n",
    "    -------\n",
    "    num: int\n",
    "        nombre de vegades que apareix\n",
    "    \"\"\"\n",
    "print(comptarSubsequencia(\"subsequencia\",\"sue\"))"
   ]
  },
  {
   "cell_type": "code",
   "execution_count": 59,
   "metadata": {
    "id": "BmlpJSYBoDz0"
   },
   "outputs": [
    {
     "ename": "IndexError",
     "evalue": "string index out of range",
     "output_type": "error",
     "traceback": [
      "\u001b[0;31m---------------------------------------------------------------------------\u001b[0m",
      "\u001b[0;31mIndexError\u001b[0m                                Traceback (most recent call last)",
      "Cell \u001b[0;32mIn[59], line 1\u001b[0m\n\u001b[0;32m----> 1\u001b[0m \u001b[38;5;28;01massert\u001b[39;00m \u001b[43mcomptarSubsequencia\u001b[49m\u001b[43m(\u001b[49m\u001b[38;5;124;43m\"\u001b[39;49m\u001b[38;5;124;43msubsequencia\u001b[39;49m\u001b[38;5;124;43m\"\u001b[39;49m\u001b[43m,\u001b[49m\u001b[38;5;124;43m\"\u001b[39;49m\u001b[38;5;124;43msue\u001b[39;49m\u001b[38;5;124;43m\"\u001b[39;49m\u001b[43m)\u001b[49m \u001b[38;5;241m==\u001b[39m \u001b[38;5;241m4\u001b[39m\n",
      "Cell \u001b[0;32mIn[58], line 14\u001b[0m, in \u001b[0;36mcomptarSubsequencia\u001b[0;34m(paraula, cadena, diccSolucions)\u001b[0m\n\u001b[1;32m     11\u001b[0m     diccSolucions[clau] \u001b[38;5;241m=\u001b[39m comptarSubsequencia(paraula[:\u001b[38;5;241m-\u001b[39m\u001b[38;5;241m1\u001b[39m], clau[:\u001b[38;5;241m-\u001b[39m\u001b[38;5;241m1\u001b[39m], diccSolucions) \u001b[38;5;241m+\u001b[39m comptarSubsequencia(paraula[:\u001b[38;5;241m-\u001b[39m\u001b[38;5;241m1\u001b[39m], cadena, diccSolucions)\n\u001b[1;32m     13\u001b[0m \u001b[38;5;28;01melse\u001b[39;00m:\n\u001b[0;32m---> 14\u001b[0m     diccSolucions[clau] \u001b[38;5;241m=\u001b[39m \u001b[43mcomptarSubsequencia\u001b[49m\u001b[43m(\u001b[49m\u001b[43mparaula\u001b[49m\u001b[43m,\u001b[49m\u001b[43m \u001b[49m\u001b[43mcadena\u001b[49m\u001b[43m[\u001b[49m\u001b[43m:\u001b[49m\u001b[38;5;241;43m-\u001b[39;49m\u001b[38;5;241;43m1\u001b[39;49m\u001b[43m]\u001b[49m\u001b[43m,\u001b[49m\u001b[43m \u001b[49m\u001b[43mdiccSolucions\u001b[49m\u001b[43m)\u001b[49m\n\u001b[1;32m     17\u001b[0m \u001b[38;5;28;01mreturn\u001b[39;00m diccSolucions\n\u001b[1;32m     20\u001b[0m \u001b[38;5;250m\u001b[39m\u001b[38;5;124;03m\"\"\"\u001b[39;00m\n\u001b[1;32m     21\u001b[0m \u001b[38;5;124;03mAquesta funció determina quantes vegades apareix una cadena en una paraula\u001b[39;00m\n\u001b[1;32m     22\u001b[0m \u001b[38;5;124;03mcom a subseqüència\u001b[39;00m\n\u001b[0;32m   (...)\u001b[0m\n\u001b[1;32m     35\u001b[0m \u001b[38;5;124;03m    nombre de vegades que apareix\u001b[39;00m\n\u001b[1;32m     36\u001b[0m \u001b[38;5;124;03m\"\"\"\u001b[39;00m\n",
      "Cell \u001b[0;32mIn[58], line 14\u001b[0m, in \u001b[0;36mcomptarSubsequencia\u001b[0;34m(paraula, cadena, diccSolucions)\u001b[0m\n\u001b[1;32m     11\u001b[0m     diccSolucions[clau] \u001b[38;5;241m=\u001b[39m comptarSubsequencia(paraula[:\u001b[38;5;241m-\u001b[39m\u001b[38;5;241m1\u001b[39m], clau[:\u001b[38;5;241m-\u001b[39m\u001b[38;5;241m1\u001b[39m], diccSolucions) \u001b[38;5;241m+\u001b[39m comptarSubsequencia(paraula[:\u001b[38;5;241m-\u001b[39m\u001b[38;5;241m1\u001b[39m], cadena, diccSolucions)\n\u001b[1;32m     13\u001b[0m \u001b[38;5;28;01melse\u001b[39;00m:\n\u001b[0;32m---> 14\u001b[0m     diccSolucions[clau] \u001b[38;5;241m=\u001b[39m \u001b[43mcomptarSubsequencia\u001b[49m\u001b[43m(\u001b[49m\u001b[43mparaula\u001b[49m\u001b[43m,\u001b[49m\u001b[43m \u001b[49m\u001b[43mcadena\u001b[49m\u001b[43m[\u001b[49m\u001b[43m:\u001b[49m\u001b[38;5;241;43m-\u001b[39;49m\u001b[38;5;241;43m1\u001b[39;49m\u001b[43m]\u001b[49m\u001b[43m,\u001b[49m\u001b[43m \u001b[49m\u001b[43mdiccSolucions\u001b[49m\u001b[43m)\u001b[49m\n\u001b[1;32m     17\u001b[0m \u001b[38;5;28;01mreturn\u001b[39;00m diccSolucions\n\u001b[1;32m     20\u001b[0m \u001b[38;5;250m\u001b[39m\u001b[38;5;124;03m\"\"\"\u001b[39;00m\n\u001b[1;32m     21\u001b[0m \u001b[38;5;124;03mAquesta funció determina quantes vegades apareix una cadena en una paraula\u001b[39;00m\n\u001b[1;32m     22\u001b[0m \u001b[38;5;124;03mcom a subseqüència\u001b[39;00m\n\u001b[0;32m   (...)\u001b[0m\n\u001b[1;32m     35\u001b[0m \u001b[38;5;124;03m    nombre de vegades que apareix\u001b[39;00m\n\u001b[1;32m     36\u001b[0m \u001b[38;5;124;03m\"\"\"\u001b[39;00m\n",
      "Cell \u001b[0;32mIn[58], line 14\u001b[0m, in \u001b[0;36mcomptarSubsequencia\u001b[0;34m(paraula, cadena, diccSolucions)\u001b[0m\n\u001b[1;32m     11\u001b[0m     diccSolucions[clau] \u001b[38;5;241m=\u001b[39m comptarSubsequencia(paraula[:\u001b[38;5;241m-\u001b[39m\u001b[38;5;241m1\u001b[39m], clau[:\u001b[38;5;241m-\u001b[39m\u001b[38;5;241m1\u001b[39m], diccSolucions) \u001b[38;5;241m+\u001b[39m comptarSubsequencia(paraula[:\u001b[38;5;241m-\u001b[39m\u001b[38;5;241m1\u001b[39m], cadena, diccSolucions)\n\u001b[1;32m     13\u001b[0m \u001b[38;5;28;01melse\u001b[39;00m:\n\u001b[0;32m---> 14\u001b[0m     diccSolucions[clau] \u001b[38;5;241m=\u001b[39m \u001b[43mcomptarSubsequencia\u001b[49m\u001b[43m(\u001b[49m\u001b[43mparaula\u001b[49m\u001b[43m,\u001b[49m\u001b[43m \u001b[49m\u001b[43mcadena\u001b[49m\u001b[43m[\u001b[49m\u001b[43m:\u001b[49m\u001b[38;5;241;43m-\u001b[39;49m\u001b[38;5;241;43m1\u001b[39;49m\u001b[43m]\u001b[49m\u001b[43m,\u001b[49m\u001b[43m \u001b[49m\u001b[43mdiccSolucions\u001b[49m\u001b[43m)\u001b[49m\n\u001b[1;32m     17\u001b[0m \u001b[38;5;28;01mreturn\u001b[39;00m diccSolucions\n\u001b[1;32m     20\u001b[0m \u001b[38;5;250m\u001b[39m\u001b[38;5;124;03m\"\"\"\u001b[39;00m\n\u001b[1;32m     21\u001b[0m \u001b[38;5;124;03mAquesta funció determina quantes vegades apareix una cadena en una paraula\u001b[39;00m\n\u001b[1;32m     22\u001b[0m \u001b[38;5;124;03mcom a subseqüència\u001b[39;00m\n\u001b[0;32m   (...)\u001b[0m\n\u001b[1;32m     35\u001b[0m \u001b[38;5;124;03m    nombre de vegades que apareix\u001b[39;00m\n\u001b[1;32m     36\u001b[0m \u001b[38;5;124;03m\"\"\"\u001b[39;00m\n",
      "Cell \u001b[0;32mIn[58], line 10\u001b[0m, in \u001b[0;36mcomptarSubsequencia\u001b[0;34m(paraula, cadena, diccSolucions)\u001b[0m\n\u001b[1;32m      7\u001b[0m \u001b[38;5;28;01mif\u001b[39;00m \u001b[38;5;28mlen\u001b[39m(cadena) \u001b[38;5;241m<\u001b[39m  \u001b[38;5;28mlen\u001b[39m(paraula):\n\u001b[1;32m      8\u001b[0m     diccSolucions[clau] \u001b[38;5;241m=\u001b[39m \u001b[38;5;241m0\u001b[39m\n\u001b[0;32m---> 10\u001b[0m \u001b[38;5;28;01mif\u001b[39;00m paraula[\u001b[38;5;241m-\u001b[39m\u001b[38;5;241m1\u001b[39m] \u001b[38;5;241m==\u001b[39m \u001b[43mcadena\u001b[49m\u001b[43m[\u001b[49m\u001b[38;5;241;43m-\u001b[39;49m\u001b[38;5;241;43m1\u001b[39;49m\u001b[43m]\u001b[49m:\n\u001b[1;32m     11\u001b[0m     diccSolucions[clau] \u001b[38;5;241m=\u001b[39m comptarSubsequencia(paraula[:\u001b[38;5;241m-\u001b[39m\u001b[38;5;241m1\u001b[39m], clau[:\u001b[38;5;241m-\u001b[39m\u001b[38;5;241m1\u001b[39m], diccSolucions) \u001b[38;5;241m+\u001b[39m comptarSubsequencia(paraula[:\u001b[38;5;241m-\u001b[39m\u001b[38;5;241m1\u001b[39m], cadena, diccSolucions)\n\u001b[1;32m     13\u001b[0m \u001b[38;5;28;01melse\u001b[39;00m:\n",
      "\u001b[0;31mIndexError\u001b[0m: string index out of range"
     ]
    }
   ],
   "source": [
    "assert comptarSubsequencia(\"subsequencia\",\"sue\") == 4"
   ]
  }
 ],
 "metadata": {
  "colab": {
   "collapsed_sections": [],
   "name": "5.25.ipynb",
   "provenance": []
  },
  "kernelspec": {
   "display_name": "Python 3",
   "language": "python",
   "name": "python3"
  },
  "language_info": {
   "codemirror_mode": {
    "name": "ipython",
    "version": 3
   },
   "file_extension": ".py",
   "mimetype": "text/x-python",
   "name": "python",
   "nbconvert_exporter": "python",
   "pygments_lexer": "ipython3",
   "version": "3.12.3"
  }
 },
 "nbformat": 4,
 "nbformat_minor": 0
}
