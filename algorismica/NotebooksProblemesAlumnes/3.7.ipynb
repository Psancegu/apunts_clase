{
 "cells": [
  {
   "cell_type": "markdown",
   "metadata": {
    "id": "Tq8bG1MNUhzi"
   },
   "source": [
    "# Capítol 3 - Algorismes i Nombres"
   ]
  },
  {
   "cell_type": "markdown",
   "metadata": {
    "id": "BpaQzlnZUhzz"
   },
   "source": [
    "### 3.7 Descomposició en funcions"
   ]
  },
  {
   "cell_type": "markdown",
   "metadata": {},
   "source": [
    "Escriu una funció que permeti fer operacions de suma, resta i multiplicació amb nombres naturals \n",
    "a partir d'una entrada que sigui una cadena. L'usuari anirà entrant les operacions, i quan vulgui \n",
    "acabar pitjarà retorn i la cadena d'entrada quedarà buida.\n",
    "\n",
    "Exemple de funcionament:\n",
    "\n",
    "&emsp;Entra operació: 4+5\\\n",
    "&emsp;>9\\\n",
    "&emsp;Entra operació: 7-2\\\n",
    "&emsp;>5\\\n",
    "&emsp;Entra operació: 1*4\\\n",
    "&emsp;>4\\\n",
    "&emsp;Entra operació:"
   ]
  },
  {
   "cell_type": "code",
   "execution_count": null,
   "metadata": {
    "id": "Jex4NhPuUhzz"
   },
   "outputs": [],
   "source": [
    "def calculadora():\n",
    "    \"\"\"\n",
    "    Aquesta funció representa una calculadora.\n",
    "    Llegueix l'entrada per linia de comandes.\n",
    "    \n",
    "    Parameters\n",
    "    ----------\n",
    "    None\n",
    "    \n",
    "    Returns\n",
    "    -------\n",
    "    None\n",
    "    \"\"\"\n"
   ]
  },
  {
   "cell_type": "code",
   "execution_count": null,
   "metadata": {
    "id": "MJFRLSZcUhzz"
   },
   "outputs": [],
   "source": [
    "#calculadora()"
   ]
  },
  {
   "cell_type": "markdown",
   "metadata": {
    "id": "iOkH4YpWUhzz"
   },
   "source": [
    "El nombre 2520 és el nombre més petit que es pot dividir de manera exacta (sense decimals) per cada un dels nombres enters entre 1 i 10. Escriu un algorisme que calculi el nombre més petit divisible per tots els nombres menors a un nombre $n$ donat."
   ]
  },
  {
   "cell_type": "code",
   "execution_count": null,
   "metadata": {
    "id": "68PRYbSrUhzz"
   },
   "outputs": [],
   "source": [
    "def mes_petit_divisible_per(n):\n",
    "    \"\"\"\n",
    "    Aquesta funció calcula el nombre més petit divisible per tots els nombres menors a n.\n",
    "    \n",
    "    Parameters\n",
    "    ----------\n",
    "    n: int\n",
    "    \n",
    "    Returns\n",
    "    -------\n",
    "    :int\n",
    "    \"\"\"\n",
    "    \n"
   ]
  },
  {
   "cell_type": "code",
   "execution_count": null,
   "metadata": {
    "id": "cJ4_2MeIUhzz"
   },
   "outputs": [],
   "source": [
    "assert mes_petit_divisible_per(2) == 2\n",
    "assert mes_petit_divisible_per(3) == 6\n",
    "assert mes_petit_divisible_per(4) == 12\n",
    "assert mes_petit_divisible_per(5) == 60\n",
    "assert mes_petit_divisible_per(6) == 60\n",
    "assert mes_petit_divisible_per(7) == 420\n",
    "assert mes_petit_divisible_per(8) == 840\n",
    "assert mes_petit_divisible_per(9) == 2520\n",
    "assert mes_petit_divisible_per(10) == 2520\n",
    "assert mes_petit_divisible_per(11) == 27720\n",
    "assert mes_petit_divisible_per(12) == 27720\n",
    "assert mes_petit_divisible_per(13) == 360360\n",
    "assert mes_petit_divisible_per(14) == 360360\n",
    "assert mes_petit_divisible_per(15) == 360360\n",
    "assert mes_petit_divisible_per(16) == 720720"
   ]
  },
  {
   "cell_type": "code",
   "execution_count": null,
   "metadata": {
    "id": "pMcDd65UUhzz"
   },
   "outputs": [],
   "source": []
  }
 ],
 "metadata": {
  "colab": {
   "collapsed_sections": [],
   "name": "3.7.ipynb",
   "provenance": []
  },
  "kernelspec": {
   "display_name": "Python 3 (ipykernel)",
   "language": "python",
   "name": "python3"
  },
  "language_info": {
   "codemirror_mode": {
    "name": "ipython",
    "version": 3
   },
   "file_extension": ".py",
   "mimetype": "text/x-python",
   "name": "python",
   "nbconvert_exporter": "python",
   "pygments_lexer": "ipython3",
   "version": "3.9.7"
  }
 },
 "nbformat": 4,
 "nbformat_minor": 4
}
