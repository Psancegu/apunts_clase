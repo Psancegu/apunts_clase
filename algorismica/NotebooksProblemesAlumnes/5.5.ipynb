{
 "cells": [
  {
   "cell_type": "markdown",
   "metadata": {
    "id": "Bf1sVqh8iQaY"
   },
   "source": [
    "# Capítol 5 - Dividir i Vèncer"
   ]
  },
  {
   "cell_type": "markdown",
   "metadata": {
    "id": "OWXHVf-giQai"
   },
   "source": [
    "### 5.5 Quantitat d'1s"
   ]
  },
  {
   "cell_type": "markdown",
   "metadata": {},
   "source": [
    "Donada una llista formada només pels nombres $0$ i $1$ i ordenada, escriu una funció que calculi elnombre d'uns (1) que conté la llista. "
   ]
  },
  {
   "cell_type": "code",
   "execution_count": null,
   "metadata": {
    "id": "MEJsO5eCiQai"
   },
   "outputs": [],
   "source": [
    "def quants_1(llistaBinaria):\n",
    "    \"\"\"\n",
    "    Aquesta funció troba de manera eficient el nombre d'1s que conté una llista.\n",
    "    \n",
    "    Parameters\n",
    "    ----------\n",
    "    llistaBinaria: list\n",
    "        la llista de nombres binaris ordenada\n",
    "        \n",
    "    Returns\n",
    "    -------\n",
    "    num1s: int\n",
    "        el nombre d'1s que conté\n",
    "    \"\"\"\n",
    "    \n",
    "    return num1s"
   ]
  },
  {
   "cell_type": "code",
   "execution_count": null,
   "metadata": {
    "id": "SoIOTpzNiQai"
   },
   "outputs": [],
   "source": [
    "assert quants_1([0, 0, 1, 1, 1, 1, 1])  == 5\n",
    "assert quants_1([0, 0, 0, 0, 1, 1])  == 2\n",
    "assert quants_1([0, 0, 0, 0, 0, 0, 0])  == 0\n",
    "assert quants_1([1, 1, 1])  == 3"
   ]
  }
 ],
 "metadata": {
  "colab": {
   "collapsed_sections": [],
   "name": "5.5.ipynb",
   "provenance": []
  },
  "kernelspec": {
   "display_name": "Python 3 (ipykernel)",
   "language": "python",
   "name": "python3"
  },
  "language_info": {
   "codemirror_mode": {
    "name": "ipython",
    "version": 3
   },
   "file_extension": ".py",
   "mimetype": "text/x-python",
   "name": "python",
   "nbconvert_exporter": "python",
   "pygments_lexer": "ipython3",
   "version": "3.9.7"
  }
 },
 "nbformat": 4,
 "nbformat_minor": 1
}
